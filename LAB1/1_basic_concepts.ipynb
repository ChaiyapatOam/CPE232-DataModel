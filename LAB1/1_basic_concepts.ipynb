{
  "cells": [
    {
      "cell_type": "markdown",
      "metadata": {
        "id": "F_cetwa97n1l"
      },
      "source": [
        "# Python Programming (Basic-Intermediate)\n",
        "## Module 1 - Basic Concepts\n",
        "\n",
        "---"
      ]
    },
    {
      "cell_type": "markdown",
      "metadata": {
        "id": "gMpGAmsE7zbA"
      },
      "source": [
        "## Understanding Google CoLab"
      ]
    },
    {
      "cell_type": "code",
      "execution_count": 1,
      "metadata": {
        "id": "kNpV5MYF_y9f",
        "colab": {
          "base_uri": "https://localhost:8080/",
          "height": 0
        },
        "outputId": "82af6b02-9fd0-4645-c01f-d8bd2c8c3177"
      },
      "outputs": [
        {
          "output_type": "stream",
          "name": "stdout",
          "text": [
            "Hello World!\n"
          ]
        }
      ],
      "source": [
        "print(\"Hello World!\")"
      ]
    },
    {
      "cell_type": "code",
      "execution_count": 2,
      "metadata": {
        "id": "d3ALWnNQMUmI",
        "colab": {
          "base_uri": "https://localhost:8080/",
          "height": 0
        },
        "outputId": "014a9d9b-f0de-4800-fca6-a1decbf4f8c9"
      },
      "outputs": [
        {
          "output_type": "execute_result",
          "data": {
            "text/plain": [
              "2"
            ]
          },
          "metadata": {},
          "execution_count": 2
        }
      ],
      "source": [
        "1+1"
      ]
    },
    {
      "cell_type": "code",
      "execution_count": 3,
      "metadata": {
        "id": "03Ul9RtOWw4r",
        "colab": {
          "base_uri": "https://localhost:8080/",
          "height": 0
        },
        "outputId": "e278b873-6bf5-4e52-cadc-0d54de243dbf"
      },
      "outputs": [
        {
          "output_type": "stream",
          "name": "stdout",
          "text": [
            "1 2\n"
          ]
        }
      ],
      "source": [
        "x = 1\n",
        "y = x + 1\n",
        "print(x, y)"
      ]
    },
    {
      "cell_type": "code",
      "execution_count": 4,
      "metadata": {
        "id": "0Zzh__REBRd4",
        "colab": {
          "base_uri": "https://localhost:8080/",
          "height": 0
        },
        "outputId": "b38287d0-3d8f-499e-a882-7b30105eb759"
      },
      "outputs": [
        {
          "output_type": "stream",
          "name": "stdout",
          "text": [
            "sample_data\n"
          ]
        }
      ],
      "source": [
        "!ls /content"
      ]
    },
    {
      "cell_type": "code",
      "execution_count": 5,
      "metadata": {
        "id": "i67wkWv1XBaP"
      },
      "outputs": [],
      "source": [
        "f = open('test.txt','w')\n",
        "f.write('Hello World!')\n",
        "f.close()"
      ]
    },
    {
      "cell_type": "code",
      "execution_count": 6,
      "metadata": {
        "id": "AMKfHud6Z2vC",
        "colab": {
          "base_uri": "https://localhost:8080/",
          "height": 0
        },
        "outputId": "19d9b120-234b-4aee-f8c2-48e5a70b40f1"
      },
      "outputs": [
        {
          "output_type": "stream",
          "name": "stdout",
          "text": [
            "Mounted at /content/drive\n"
          ]
        }
      ],
      "source": [
        "from google.colab import drive\n",
        "drive.mount('/content/drive')"
      ]
    },
    {
      "cell_type": "code",
      "execution_count": 8,
      "metadata": {
        "id": "Ba9q30JfdJLX",
        "colab": {
          "base_uri": "https://localhost:8080/",
          "height": 330
        },
        "outputId": "8d8c8f44-0caa-4832-cc5a-acff6c365206"
      },
      "outputs": [
        {
          "output_type": "execute_result",
          "data": {
            "text/plain": [
              "   Unnamed: 0  year  month  day  dep_time  sched_dep_time  dep_delay  \\\n",
              "0           1  2013      1    1     517.0             515        2.0   \n",
              "1           2  2013      1    1     533.0             529        4.0   \n",
              "2           3  2013      1    1     542.0             540        2.0   \n",
              "3           4  2013      1    1     544.0             545       -1.0   \n",
              "4           5  2013      1    1     554.0             600       -6.0   \n",
              "\n",
              "   arr_time  sched_arr_time  arr_delay carrier  flight tailnum origin dest  \\\n",
              "0     830.0             819       11.0      UA    1545  N14228    EWR  IAH   \n",
              "1     850.0             830       20.0      UA    1714  N24211    LGA  IAH   \n",
              "2     923.0             850       33.0      AA    1141  N619AA    JFK  MIA   \n",
              "3    1004.0            1022      -18.0      B6     725  N804JB    JFK  BQN   \n",
              "4     812.0             837      -25.0      DL     461  N668DN    LGA  ATL   \n",
              "\n",
              "   air_time  distance  hour  minute            time_hour  \n",
              "0     227.0      1400     5      15  2013-01-01 05:00:00  \n",
              "1     227.0      1416     5      29  2013-01-01 05:00:00  \n",
              "2     160.0      1089     5      40  2013-01-01 05:00:00  \n",
              "3     183.0      1576     5      45  2013-01-01 05:00:00  \n",
              "4     116.0       762     6       0  2013-01-01 06:00:00  "
            ],
            "text/html": [
              "\n",
              "  <div id=\"df-ca72887b-d5e3-423c-b288-75c337c231fc\" class=\"colab-df-container\">\n",
              "    <div>\n",
              "<style scoped>\n",
              "    .dataframe tbody tr th:only-of-type {\n",
              "        vertical-align: middle;\n",
              "    }\n",
              "\n",
              "    .dataframe tbody tr th {\n",
              "        vertical-align: top;\n",
              "    }\n",
              "\n",
              "    .dataframe thead th {\n",
              "        text-align: right;\n",
              "    }\n",
              "</style>\n",
              "<table border=\"1\" class=\"dataframe\">\n",
              "  <thead>\n",
              "    <tr style=\"text-align: right;\">\n",
              "      <th></th>\n",
              "      <th>Unnamed: 0</th>\n",
              "      <th>year</th>\n",
              "      <th>month</th>\n",
              "      <th>day</th>\n",
              "      <th>dep_time</th>\n",
              "      <th>sched_dep_time</th>\n",
              "      <th>dep_delay</th>\n",
              "      <th>arr_time</th>\n",
              "      <th>sched_arr_time</th>\n",
              "      <th>arr_delay</th>\n",
              "      <th>carrier</th>\n",
              "      <th>flight</th>\n",
              "      <th>tailnum</th>\n",
              "      <th>origin</th>\n",
              "      <th>dest</th>\n",
              "      <th>air_time</th>\n",
              "      <th>distance</th>\n",
              "      <th>hour</th>\n",
              "      <th>minute</th>\n",
              "      <th>time_hour</th>\n",
              "    </tr>\n",
              "  </thead>\n",
              "  <tbody>\n",
              "    <tr>\n",
              "      <th>0</th>\n",
              "      <td>1</td>\n",
              "      <td>2013</td>\n",
              "      <td>1</td>\n",
              "      <td>1</td>\n",
              "      <td>517.0</td>\n",
              "      <td>515</td>\n",
              "      <td>2.0</td>\n",
              "      <td>830.0</td>\n",
              "      <td>819</td>\n",
              "      <td>11.0</td>\n",
              "      <td>UA</td>\n",
              "      <td>1545</td>\n",
              "      <td>N14228</td>\n",
              "      <td>EWR</td>\n",
              "      <td>IAH</td>\n",
              "      <td>227.0</td>\n",
              "      <td>1400</td>\n",
              "      <td>5</td>\n",
              "      <td>15</td>\n",
              "      <td>2013-01-01 05:00:00</td>\n",
              "    </tr>\n",
              "    <tr>\n",
              "      <th>1</th>\n",
              "      <td>2</td>\n",
              "      <td>2013</td>\n",
              "      <td>1</td>\n",
              "      <td>1</td>\n",
              "      <td>533.0</td>\n",
              "      <td>529</td>\n",
              "      <td>4.0</td>\n",
              "      <td>850.0</td>\n",
              "      <td>830</td>\n",
              "      <td>20.0</td>\n",
              "      <td>UA</td>\n",
              "      <td>1714</td>\n",
              "      <td>N24211</td>\n",
              "      <td>LGA</td>\n",
              "      <td>IAH</td>\n",
              "      <td>227.0</td>\n",
              "      <td>1416</td>\n",
              "      <td>5</td>\n",
              "      <td>29</td>\n",
              "      <td>2013-01-01 05:00:00</td>\n",
              "    </tr>\n",
              "    <tr>\n",
              "      <th>2</th>\n",
              "      <td>3</td>\n",
              "      <td>2013</td>\n",
              "      <td>1</td>\n",
              "      <td>1</td>\n",
              "      <td>542.0</td>\n",
              "      <td>540</td>\n",
              "      <td>2.0</td>\n",
              "      <td>923.0</td>\n",
              "      <td>850</td>\n",
              "      <td>33.0</td>\n",
              "      <td>AA</td>\n",
              "      <td>1141</td>\n",
              "      <td>N619AA</td>\n",
              "      <td>JFK</td>\n",
              "      <td>MIA</td>\n",
              "      <td>160.0</td>\n",
              "      <td>1089</td>\n",
              "      <td>5</td>\n",
              "      <td>40</td>\n",
              "      <td>2013-01-01 05:00:00</td>\n",
              "    </tr>\n",
              "    <tr>\n",
              "      <th>3</th>\n",
              "      <td>4</td>\n",
              "      <td>2013</td>\n",
              "      <td>1</td>\n",
              "      <td>1</td>\n",
              "      <td>544.0</td>\n",
              "      <td>545</td>\n",
              "      <td>-1.0</td>\n",
              "      <td>1004.0</td>\n",
              "      <td>1022</td>\n",
              "      <td>-18.0</td>\n",
              "      <td>B6</td>\n",
              "      <td>725</td>\n",
              "      <td>N804JB</td>\n",
              "      <td>JFK</td>\n",
              "      <td>BQN</td>\n",
              "      <td>183.0</td>\n",
              "      <td>1576</td>\n",
              "      <td>5</td>\n",
              "      <td>45</td>\n",
              "      <td>2013-01-01 05:00:00</td>\n",
              "    </tr>\n",
              "    <tr>\n",
              "      <th>4</th>\n",
              "      <td>5</td>\n",
              "      <td>2013</td>\n",
              "      <td>1</td>\n",
              "      <td>1</td>\n",
              "      <td>554.0</td>\n",
              "      <td>600</td>\n",
              "      <td>-6.0</td>\n",
              "      <td>812.0</td>\n",
              "      <td>837</td>\n",
              "      <td>-25.0</td>\n",
              "      <td>DL</td>\n",
              "      <td>461</td>\n",
              "      <td>N668DN</td>\n",
              "      <td>LGA</td>\n",
              "      <td>ATL</td>\n",
              "      <td>116.0</td>\n",
              "      <td>762</td>\n",
              "      <td>6</td>\n",
              "      <td>0</td>\n",
              "      <td>2013-01-01 06:00:00</td>\n",
              "    </tr>\n",
              "  </tbody>\n",
              "</table>\n",
              "</div>\n",
              "    <div class=\"colab-df-buttons\">\n",
              "\n",
              "  <div class=\"colab-df-container\">\n",
              "    <button class=\"colab-df-convert\" onclick=\"convertToInteractive('df-ca72887b-d5e3-423c-b288-75c337c231fc')\"\n",
              "            title=\"Convert this dataframe to an interactive table.\"\n",
              "            style=\"display:none;\">\n",
              "\n",
              "  <svg xmlns=\"http://www.w3.org/2000/svg\" height=\"24px\" viewBox=\"0 -960 960 960\">\n",
              "    <path d=\"M120-120v-720h720v720H120Zm60-500h600v-160H180v160Zm220 220h160v-160H400v160Zm0 220h160v-160H400v160ZM180-400h160v-160H180v160Zm440 0h160v-160H620v160ZM180-180h160v-160H180v160Zm440 0h160v-160H620v160Z\"/>\n",
              "  </svg>\n",
              "    </button>\n",
              "\n",
              "  <style>\n",
              "    .colab-df-container {\n",
              "      display:flex;\n",
              "      gap: 12px;\n",
              "    }\n",
              "\n",
              "    .colab-df-convert {\n",
              "      background-color: #E8F0FE;\n",
              "      border: none;\n",
              "      border-radius: 50%;\n",
              "      cursor: pointer;\n",
              "      display: none;\n",
              "      fill: #1967D2;\n",
              "      height: 32px;\n",
              "      padding: 0 0 0 0;\n",
              "      width: 32px;\n",
              "    }\n",
              "\n",
              "    .colab-df-convert:hover {\n",
              "      background-color: #E2EBFA;\n",
              "      box-shadow: 0px 1px 2px rgba(60, 64, 67, 0.3), 0px 1px 3px 1px rgba(60, 64, 67, 0.15);\n",
              "      fill: #174EA6;\n",
              "    }\n",
              "\n",
              "    .colab-df-buttons div {\n",
              "      margin-bottom: 4px;\n",
              "    }\n",
              "\n",
              "    [theme=dark] .colab-df-convert {\n",
              "      background-color: #3B4455;\n",
              "      fill: #D2E3FC;\n",
              "    }\n",
              "\n",
              "    [theme=dark] .colab-df-convert:hover {\n",
              "      background-color: #434B5C;\n",
              "      box-shadow: 0px 1px 3px 1px rgba(0, 0, 0, 0.15);\n",
              "      filter: drop-shadow(0px 1px 2px rgba(0, 0, 0, 0.3));\n",
              "      fill: #FFFFFF;\n",
              "    }\n",
              "  </style>\n",
              "\n",
              "    <script>\n",
              "      const buttonEl =\n",
              "        document.querySelector('#df-ca72887b-d5e3-423c-b288-75c337c231fc button.colab-df-convert');\n",
              "      buttonEl.style.display =\n",
              "        google.colab.kernel.accessAllowed ? 'block' : 'none';\n",
              "\n",
              "      async function convertToInteractive(key) {\n",
              "        const element = document.querySelector('#df-ca72887b-d5e3-423c-b288-75c337c231fc');\n",
              "        const dataTable =\n",
              "          await google.colab.kernel.invokeFunction('convertToInteractive',\n",
              "                                                    [key], {});\n",
              "        if (!dataTable) return;\n",
              "\n",
              "        const docLinkHtml = 'Like what you see? Visit the ' +\n",
              "          '<a target=\"_blank\" href=https://colab.research.google.com/notebooks/data_table.ipynb>data table notebook</a>'\n",
              "          + ' to learn more about interactive tables.';\n",
              "        element.innerHTML = '';\n",
              "        dataTable['output_type'] = 'display_data';\n",
              "        await google.colab.output.renderOutput(dataTable, element);\n",
              "        const docLink = document.createElement('div');\n",
              "        docLink.innerHTML = docLinkHtml;\n",
              "        element.appendChild(docLink);\n",
              "      }\n",
              "    </script>\n",
              "  </div>\n",
              "\n",
              "\n",
              "<div id=\"df-54162ca8-4c31-4bc9-b2e5-f9ddad05f1c0\">\n",
              "  <button class=\"colab-df-quickchart\" onclick=\"quickchart('df-54162ca8-4c31-4bc9-b2e5-f9ddad05f1c0')\"\n",
              "            title=\"Suggest charts\"\n",
              "            style=\"display:none;\">\n",
              "\n",
              "<svg xmlns=\"http://www.w3.org/2000/svg\" height=\"24px\"viewBox=\"0 0 24 24\"\n",
              "     width=\"24px\">\n",
              "    <g>\n",
              "        <path d=\"M19 3H5c-1.1 0-2 .9-2 2v14c0 1.1.9 2 2 2h14c1.1 0 2-.9 2-2V5c0-1.1-.9-2-2-2zM9 17H7v-7h2v7zm4 0h-2V7h2v10zm4 0h-2v-4h2v4z\"/>\n",
              "    </g>\n",
              "</svg>\n",
              "  </button>\n",
              "\n",
              "<style>\n",
              "  .colab-df-quickchart {\n",
              "      --bg-color: #E8F0FE;\n",
              "      --fill-color: #1967D2;\n",
              "      --hover-bg-color: #E2EBFA;\n",
              "      --hover-fill-color: #174EA6;\n",
              "      --disabled-fill-color: #AAA;\n",
              "      --disabled-bg-color: #DDD;\n",
              "  }\n",
              "\n",
              "  [theme=dark] .colab-df-quickchart {\n",
              "      --bg-color: #3B4455;\n",
              "      --fill-color: #D2E3FC;\n",
              "      --hover-bg-color: #434B5C;\n",
              "      --hover-fill-color: #FFFFFF;\n",
              "      --disabled-bg-color: #3B4455;\n",
              "      --disabled-fill-color: #666;\n",
              "  }\n",
              "\n",
              "  .colab-df-quickchart {\n",
              "    background-color: var(--bg-color);\n",
              "    border: none;\n",
              "    border-radius: 50%;\n",
              "    cursor: pointer;\n",
              "    display: none;\n",
              "    fill: var(--fill-color);\n",
              "    height: 32px;\n",
              "    padding: 0;\n",
              "    width: 32px;\n",
              "  }\n",
              "\n",
              "  .colab-df-quickchart:hover {\n",
              "    background-color: var(--hover-bg-color);\n",
              "    box-shadow: 0 1px 2px rgba(60, 64, 67, 0.3), 0 1px 3px 1px rgba(60, 64, 67, 0.15);\n",
              "    fill: var(--button-hover-fill-color);\n",
              "  }\n",
              "\n",
              "  .colab-df-quickchart-complete:disabled,\n",
              "  .colab-df-quickchart-complete:disabled:hover {\n",
              "    background-color: var(--disabled-bg-color);\n",
              "    fill: var(--disabled-fill-color);\n",
              "    box-shadow: none;\n",
              "  }\n",
              "\n",
              "  .colab-df-spinner {\n",
              "    border: 2px solid var(--fill-color);\n",
              "    border-color: transparent;\n",
              "    border-bottom-color: var(--fill-color);\n",
              "    animation:\n",
              "      spin 1s steps(1) infinite;\n",
              "  }\n",
              "\n",
              "  @keyframes spin {\n",
              "    0% {\n",
              "      border-color: transparent;\n",
              "      border-bottom-color: var(--fill-color);\n",
              "      border-left-color: var(--fill-color);\n",
              "    }\n",
              "    20% {\n",
              "      border-color: transparent;\n",
              "      border-left-color: var(--fill-color);\n",
              "      border-top-color: var(--fill-color);\n",
              "    }\n",
              "    30% {\n",
              "      border-color: transparent;\n",
              "      border-left-color: var(--fill-color);\n",
              "      border-top-color: var(--fill-color);\n",
              "      border-right-color: var(--fill-color);\n",
              "    }\n",
              "    40% {\n",
              "      border-color: transparent;\n",
              "      border-right-color: var(--fill-color);\n",
              "      border-top-color: var(--fill-color);\n",
              "    }\n",
              "    60% {\n",
              "      border-color: transparent;\n",
              "      border-right-color: var(--fill-color);\n",
              "    }\n",
              "    80% {\n",
              "      border-color: transparent;\n",
              "      border-right-color: var(--fill-color);\n",
              "      border-bottom-color: var(--fill-color);\n",
              "    }\n",
              "    90% {\n",
              "      border-color: transparent;\n",
              "      border-bottom-color: var(--fill-color);\n",
              "    }\n",
              "  }\n",
              "</style>\n",
              "\n",
              "  <script>\n",
              "    async function quickchart(key) {\n",
              "      const quickchartButtonEl =\n",
              "        document.querySelector('#' + key + ' button');\n",
              "      quickchartButtonEl.disabled = true;  // To prevent multiple clicks.\n",
              "      quickchartButtonEl.classList.add('colab-df-spinner');\n",
              "      try {\n",
              "        const charts = await google.colab.kernel.invokeFunction(\n",
              "            'suggestCharts', [key], {});\n",
              "      } catch (error) {\n",
              "        console.error('Error during call to suggestCharts:', error);\n",
              "      }\n",
              "      quickchartButtonEl.classList.remove('colab-df-spinner');\n",
              "      quickchartButtonEl.classList.add('colab-df-quickchart-complete');\n",
              "    }\n",
              "    (() => {\n",
              "      let quickchartButtonEl =\n",
              "        document.querySelector('#df-54162ca8-4c31-4bc9-b2e5-f9ddad05f1c0 button');\n",
              "      quickchartButtonEl.style.display =\n",
              "        google.colab.kernel.accessAllowed ? 'block' : 'none';\n",
              "    })();\n",
              "  </script>\n",
              "</div>\n",
              "    </div>\n",
              "  </div>\n"
            ]
          },
          "metadata": {},
          "execution_count": 8
        }
      ],
      "source": [
        "import pandas as pd\n",
        "df = pd.read_csv('/content/drive/MyDrive/AIS_DG/Flight_flights.csv')\n",
        "df.head()"
      ]
    },
    {
      "cell_type": "code",
      "execution_count": 9,
      "metadata": {
        "id": "Bc0afmUqgnab",
        "colab": {
          "base_uri": "https://localhost:8080/",
          "height": 0
        },
        "outputId": "4c295f03-8934-49e4-c617-951285a59c36"
      },
      "outputs": [
        {
          "output_type": "stream",
          "name": "stdout",
          "text": [
            "Name: pandas\n",
            "Version: 1.5.3\n",
            "Summary: Powerful data structures for data analysis, time series, and statistics\n",
            "Home-page: https://pandas.pydata.org\n",
            "Author: The Pandas Development Team\n",
            "Author-email: pandas-dev@python.org\n",
            "License: BSD-3-Clause\n",
            "Location: /usr/local/lib/python3.10/dist-packages\n",
            "Requires: numpy, python-dateutil, pytz\n",
            "Required-by: altair, arviz, bigframes, bokeh, bqplot, cmdstanpy, cufflinks, datascience, db-dtypes, dopamine-rl, fastai, geemap, geopandas, google-colab, gspread-dataframe, holoviews, ibis-framework, lida, mizani, mlxtend, pandas-datareader, pandas-gbq, panel, pins, plotnine, prophet, pymc, seaborn, sklearn-pandas, statsmodels, vega-datasets, xarray, yfinance\n"
          ]
        }
      ],
      "source": [
        "!pip show pandas"
      ]
    },
    {
      "cell_type": "code",
      "source": [
        "!python --version"
      ],
      "metadata": {
        "colab": {
          "base_uri": "https://localhost:8080/",
          "height": 0
        },
        "id": "9RHA6zZTmXf0",
        "outputId": "541dce03-ce87-4349-d545-8cc1b004686f"
      },
      "execution_count": 17,
      "outputs": [
        {
          "output_type": "stream",
          "name": "stdout",
          "text": [
            "Python 3.10.12\n"
          ]
        }
      ]
    },
    {
      "cell_type": "code",
      "execution_count": 18,
      "metadata": {
        "id": "8P02xnqThio8",
        "colab": {
          "base_uri": "https://localhost:8080/",
          "height": 0
        },
        "outputId": "c7561381-2fc8-4aee-8fda-4fef06b4b0a1"
      },
      "outputs": [
        {
          "output_type": "stream",
          "name": "stdout",
          "text": [
            "absl\n",
            "absl_py-1.4.0.dist-info\n",
            "adbc_driver_duckdb\n",
            "aiohttp\n",
            "aiohttp-3.9.1.dist-info\n",
            "aiosignal\n",
            "aiosignal-1.3.1.dist-info\n",
            "alabaster\n",
            "alabaster-0.7.16.dist-info\n",
            "albumentations\n",
            "albumentations-1.3.1.dist-info\n",
            "altair\n",
            "altair-4.2.2.dist-info\n",
            "anyio\n",
            "anyio-3.7.1.dist-info\n",
            "apiclient\n",
            "appdirs-1.4.4.dist-info\n",
            "appdirs.py\n",
            "apt\n",
            "apt_inst.cpython-310-x86_64-linux-gnu.so\n",
            "apt_inst-stubs\n",
            "apt_pkg.cpython-310-x86_64-linux-gnu.so\n",
            "apt_pkg-stubs\n",
            "aptsources\n",
            "argon2\n",
            "argon2_cffi-23.1.0.dist-info\n",
            "_argon2_cffi_bindings\n",
            "argon2_cffi_bindings-21.2.0.dist-info\n",
            "array_record\n",
            "array_record-0.5.0.dist-info\n",
            "arviz\n",
            "arviz-0.15.1.dist-info\n",
            "astropy\n",
            "astropy-5.3.4.dist-info\n",
            "astunparse\n",
            "astunparse-1.6.3.dist-info\n",
            "async_timeout\n",
            "async_timeout-4.0.3.dist-info\n",
            "atpublic-4.0.dist-info\n",
            "attr\n",
            "attrs\n",
            "attrs-23.2.0.dist-info\n",
            "audioread\n",
            "audioread-3.0.1.dist-info\n",
            "AUTHORS.rst\n",
            "autograd\n",
            "autograd-1.6.2.dist-info\n",
            "babel\n",
            "Babel-2.14.0.dist-info\n",
            "backcall\n",
            "backcall-0.2.0.dist-info\n",
            "beautifulsoup4-4.11.2.dist-info\n",
            "bidict\n",
            "bidict-0.22.1.dist-info\n",
            "bigframes\n",
            "bigframes-0.19.2.dist-info\n",
            "bin\n",
            "bleach\n",
            "bleach-6.1.0.dist-info\n",
            "blis\n",
            "blis-0.7.11.dist-info\n",
            "blosc2\n",
            "blosc2-2.0.0.dist-info\n",
            "bokeh\n",
            "bokeh-3.3.3.dist-info\n",
            "box\n",
            "bqplot\n",
            "bqplot-0.12.42.dist-info\n",
            "branca\n",
            "branca-0.7.0.dist-info\n",
            "bs4\n",
            "build\n",
            "build-1.0.3.dist-info\n",
            "cachecontrol\n",
            "cachecontrol-0.13.1.dist-info\n",
            "cachetools\n",
            "cachetools-5.3.2.dist-info\n",
            "catalogue\n",
            "catalogue-2.0.10.dist-info\n",
            "certifi\n",
            "certifi-2023.11.17.dist-info\n",
            "cffi\n",
            "cffi-1.16.0.dist-info\n",
            "_cffi_backend.cpython-310-x86_64-linux-gnu.so\n",
            "chardet\n",
            "chardet-5.2.0.dist-info\n",
            "charset_normalizer\n",
            "charset_normalizer-3.3.2.dist-info\n",
            "chex\n",
            "chex-0.1.7.dist-info\n",
            "clang\n",
            "click\n",
            "click-8.1.7.dist-info\n",
            "click_plugins\n",
            "click_plugins-1.1.1.dist-info\n",
            "cligj\n",
            "cligj-0.7.2.dist-info\n",
            "cloudpickle\n",
            "cloudpickle-2.2.1.dist-info\n",
            "cmake\n",
            "cmake-3.27.9.dist-info\n",
            "cmdstanpy\n",
            "cmdstanpy-1.2.0.dist-info\n",
            "colab_kernel_launcher.py\n",
            "colorcet\n",
            "colorcet-3.0.1.dist-info\n",
            "colorlover\n",
            "colorlover-0.3.0.dist-info\n",
            "colour-0.1.5.dist-info\n",
            "colour.py\n",
            "community\n",
            "community-1.0.0b1.dist-info\n",
            "confection\n",
            "confection-0.1.4.dist-info\n",
            "cons\n",
            "cons-0.4.6.dist-info\n",
            "contextlib2\n",
            "contextlib2-21.6.0.dist-info\n",
            "contourpy\n",
            "contourpy-1.2.0.dist-info\n",
            "cpuinfo\n",
            "cryptography\n",
            "cryptography-42.0.0.dist-info\n",
            "cufflinks\n",
            "cufflinks-0.17.3.dist-info\n",
            "cupy\n",
            "cupy_backends\n",
            "cupy_cuda12x-12.2.0.dist-info\n",
            "cupyx\n",
            "cv2\n",
            "_cvxcore.cpython-310-x86_64-linux-gnu.so\n",
            "cvxopt\n",
            "cvxopt-1.3.2.dist-info\n",
            "cvxopt.libs\n",
            "cvxpy\n",
            "cvxpy-1.3.3.dist-info\n",
            "cycler\n",
            "cycler-0.12.1.dist-info\n",
            "cymem\n",
            "cymem-2.0.8.dist-info\n",
            "Cython\n",
            "Cython-3.0.8.dist-info\n",
            "cython.py\n",
            "dask\n",
            "dask-2023.8.1.dist-info\n",
            "datascience\n",
            "datascience-0.17.6.dist-info\n",
            "dateutil\n",
            "db_dtypes\n",
            "db_dtypes-1.2.0.dist-info\n",
            "debugpy\n",
            "debugpy-1.6.6.dist-info\n",
            "decorator-4.4.2.dist-info\n",
            "decorator.py\n",
            "defusedxml\n",
            "defusedxml-0.7.1.dist-info\n",
            "diskcache\n",
            "diskcache-5.6.3.dist-info\n",
            "distributed\n",
            "distributed-2023.8.1.dist-info\n",
            "_distutils_hack\n",
            "distutils-precedence.pth\n",
            "dlib\n",
            "dlib-19.24.2.dist-info\n",
            "_dlib_pybind11.cpython-310-x86_64-linux-gnu.so\n",
            "dm_tree-0.1.8.dist-info\n",
            "doc\n",
            "docs\n",
            "docutils\n",
            "docutils-0.18.1.dist-info\n",
            "dopamine\n",
            "dopamine_rl-4.0.6.dist-info\n",
            "dot_parser.py\n",
            "duckdb\n",
            "duckdb-0.9.2.dist-info\n",
            "duckdb-stubs\n",
            "earthengine_api-0.1.386.dist-info\n",
            "easydict\n",
            "easydict-1.11.dist-info\n",
            "ecos\n",
            "ecos-2.0.12.dist-info\n",
            "_ecos.cpython-310-x86_64-linux-gnu.so\n",
            "editdistance\n",
            "editdistance-0.6.2.dist-info\n",
            "ee\n",
            "eerepr\n",
            "eerepr-0.0.4.dist-info\n",
            "en_core_web_sm\n",
            "en_core_web_sm-3.6.0.dist-info\n",
            "entrypoints-0.4.dist-info\n",
            "entrypoints.py\n",
            "erfa\n",
            "etils\n",
            "etils-1.6.0.dist-info\n",
            "etuples\n",
            "etuples-0.3.9.dist-info\n",
            "et_xmlfile\n",
            "et_xmlfile-1.1.0.dist-info\n",
            "exceptiongroup\n",
            "exceptiongroup-1.2.0.dist-info\n",
            "extension\n",
            "fastai\n",
            "fastai-2.7.13.dist-info\n",
            "fastcore\n",
            "fastcore-1.5.29.dist-info\n",
            "fastdownload\n",
            "fastdownload-0.0.7.dist-info\n",
            "fastjsonschema\n",
            "fastjsonschema-2.19.1.dist-info\n",
            "fastprogress\n",
            "fastprogress-1.0.3.dist-info\n",
            "fastrlock\n",
            "fastrlock-0.8.2.dist-info\n",
            "filelock\n",
            "filelock-3.13.1.dist-info\n",
            "fiona\n",
            "fiona-1.9.5.dist-info\n",
            "fiona.libs\n",
            "firebase_admin\n",
            "firebase_admin-5.3.0.dist-info\n",
            "flask\n",
            "Flask-2.2.5.dist-info\n",
            "flatbuffers\n",
            "flatbuffers-23.5.26.dist-info\n",
            "flax\n",
            "flax-0.7.5.dist-info\n",
            "folium\n",
            "folium-0.14.0.dist-info\n",
            "fontTools\n",
            "fonttools-4.47.2.dist-info\n",
            "frozendict\n",
            "frozendict-2.4.0.dist-info\n",
            "frozenlist\n",
            "frozenlist-1.4.1.dist-info\n",
            "fsspec\n",
            "fsspec-2023.6.0.dist-info\n",
            "functorch\n",
            "future\n",
            "future-0.18.3.dist-info\n",
            "gast\n",
            "gast-0.5.4.dist-info\n",
            "gcsfs\n",
            "gcsfs-2023.6.0.dist-info\n",
            "GDAL-3.4.3.dist-info\n",
            "gdown\n",
            "gdown-4.7.3.dist-info\n",
            "geemap\n",
            "geemap-0.30.4.dist-info\n",
            "gensim\n",
            "gensim-4.3.2.dist-info\n",
            "geocoder\n",
            "geocoder-1.38.1.dist-info\n",
            "geographiclib\n",
            "geographiclib-2.0.dist-info\n",
            "geopandas\n",
            "geopandas-0.13.2.dist-info\n",
            "geopy\n",
            "geopy-2.3.0.dist-info\n",
            "gin\n",
            "gin_config-0.5.0.dist-info\n",
            "glob2\n",
            "glob2-0.7.dist-info\n",
            "google\n",
            "google-2.0.3.dist-info\n",
            "google_ai_generativelanguage-0.4.0.dist-info\n",
            "googleapiclient\n",
            "google_api_core-2.11.1.dist-info\n",
            "google_api_core-2.11.1-py3.9-nspkg.pth\n",
            "google_api_python_client-2.84.0.dist-info\n",
            "googleapis_common_protos-1.62.0.dist-info\n",
            "google_auth-2.17.3.dist-info\n",
            "google_auth-2.17.3-py3.9-nspkg.pth\n",
            "google_auth_httplib2-0.1.1.dist-info\n",
            "google_auth_httplib2.py\n",
            "google_auth_oauthlib\n",
            "google_auth_oauthlib-1.2.0.dist-info\n",
            "google_cloud_aiplatform-1.39.0.dist-info\n",
            "google_cloud_aiplatform-1.39.0-py3.9-nspkg.pth\n",
            "google_cloud_bigquery-3.12.0.dist-info\n",
            "google_cloud_bigquery-3.12.0-py3.9-nspkg.pth\n",
            "google_cloud_bigquery_connection-1.12.1.dist-info\n",
            "google_cloud_bigquery_connection-1.12.1-py3.9-nspkg.pth\n",
            "google_cloud_bigquery_storage-2.24.0.dist-info\n",
            "google_cloud_core-2.3.3.dist-info\n",
            "google_cloud_core-2.3.3-py3.9-nspkg.pth\n",
            "google_cloud_datastore-2.15.2.dist-info\n",
            "google_cloud_datastore-2.15.2-py3.9-nspkg.pth\n",
            "google_cloud_firestore-2.11.1.dist-info\n",
            "google_cloud_firestore-2.11.1-py3.9-nspkg.pth\n",
            "google_cloud_functions-1.13.3.dist-info\n",
            "google_cloud_functions-1.13.3-py3.9-nspkg.pth\n",
            "google_cloud_iam-2.13.0.dist-info\n",
            "google_cloud_language-2.9.1.dist-info\n",
            "google_cloud_language-2.9.1-py3.9-nspkg.pth\n",
            "google_cloud_resource_manager-1.11.0.dist-info\n",
            "google_cloud_storage-2.8.0.dist-info\n",
            "google_cloud_storage-2.8.0-py3.9-nspkg.pth\n",
            "google_cloud_translate-3.11.3.dist-info\n",
            "google_cloud_translate-3.11.3-py3.9-nspkg.pth\n",
            "google_colab-1.0.0.dist-info\n",
            "google_colab-1.0.0-py3.10-nspkg.pth\n",
            "google_crc32c\n",
            "google_crc32c-1.5.0.dist-info\n",
            "google_crc32c.libs\n",
            "google_drive_downloader\n",
            "googledrivedownloader-0.4.dist-info\n",
            "google_generativeai-0.3.2.dist-info\n",
            "google_generativeai-0.3.2-py3.11-nspkg.pth\n",
            "google_pasta-0.2.0.dist-info\n",
            "google_resumable_media-2.7.0.dist-info\n",
            "googlesearch\n",
            "graphviz\n",
            "graphviz-0.20.1.dist-info\n",
            "greenlet\n",
            "greenlet-3.0.3.dist-info\n",
            "grpc\n",
            "grpc_google_iam_v1-0.13.0.dist-info\n",
            "grpcio-1.60.0.dist-info\n",
            "grpcio_status-1.48.2.dist-info\n",
            "grpc_status\n",
            "gspread\n",
            "gspread-3.4.2.dist-info\n",
            "gspread_dataframe-3.3.1.dist-info\n",
            "gspread_dataframe.py\n",
            "gym\n",
            "gym-0.25.2.dist-info\n",
            "gym_notices\n",
            "gym_notices-0.0.8.dist-info\n",
            "h5netcdf\n",
            "h5netcdf-1.3.0.dist-info\n",
            "h5py\n",
            "h5py-3.9.0.dist-info\n",
            "h5py.libs\n",
            "helper\n",
            "holidays\n",
            "holidays-0.41.dist-info\n",
            "holoviews\n",
            "holoviews-1.17.1.dist-info\n",
            "html5lib\n",
            "html5lib-1.1.dist-info\n",
            "httpimport-1.3.1.dist-info\n",
            "httpimport.py\n",
            "httplib2\n",
            "httplib2-0.22.0.dist-info\n",
            "huggingface_hub\n",
            "huggingface_hub-0.20.3.dist-info\n",
            "humanize\n",
            "humanize-4.7.0.dist-info\n",
            "hyperopt\n",
            "hyperopt-0.2.7.dist-info\n",
            "ibis\n",
            "ibis_framework-7.1.0.dist-info\n",
            "idna\n",
            "idna-3.6.dist-info\n",
            "imageio\n",
            "imageio-2.31.6.dist-info\n",
            "imageio_ffmpeg\n",
            "imageio_ffmpeg-0.4.9.dist-info\n",
            "imagesize\n",
            "imagesize-1.4.1.dist-info\n",
            "imagesize.py\n",
            "imbalanced_learn-0.10.1.dist-info\n",
            "imblearn\n",
            "imgaug\n",
            "imgaug-0.4.0.dist-info\n",
            "importlib_metadata\n",
            "importlib_metadata-7.0.1.dist-info\n",
            "importlib_resources\n",
            "importlib_resources-6.1.1.dist-info\n",
            "imutils\n",
            "imutils-0.5.4.dist-info\n",
            "inflect\n",
            "inflect-7.0.0.dist-info\n",
            "iniconfig\n",
            "iniconfig-2.0.0.dist-info\n",
            "install\n",
            "install-1.3.5.dist-info\n",
            "intel_openmp-2023.2.3.dist-info\n",
            "ipyevents\n",
            "ipyevents-2.0.2.dist-info\n",
            "ipyfilechooser\n",
            "ipyfilechooser-0.6.0.dist-info\n",
            "ipykernel\n",
            "ipykernel-5.5.6.dist-info\n",
            "ipykernel_launcher.py\n",
            "ipyleaflet\n",
            "ipyleaflet-0.18.1.dist-info\n",
            "IPython\n",
            "ipython-7.34.0.dist-info\n",
            "ipython_genutils\n",
            "ipython_genutils-0.2.0.dist-info\n",
            "ipython_sql-0.5.0.dist-info\n",
            "ipytree\n",
            "ipytree-0.2.2.dist-info\n",
            "ipywidgets\n",
            "ipywidgets-7.7.1.dist-info\n",
            "isympy.py\n",
            "itsdangerous\n",
            "itsdangerous-2.1.2.dist-info\n",
            "jax\n",
            "jax-0.4.23.dist-info\n",
            "jaxlib\n",
            "jaxlib-0.4.23+cuda12.cudnn89.dist-info\n",
            "jieba\n",
            "jieba-0.42.1.dist-info\n",
            "jinja2\n",
            "Jinja2-3.1.3.dist-info\n",
            "joblib\n",
            "joblib-1.3.2.dist-info\n",
            "jsonpickle\n",
            "jsonpickle-3.0.2.dist-info\n",
            "jsonschema\n",
            "jsonschema-4.19.2.dist-info\n",
            "jsonschema_specifications\n",
            "jsonschema_specifications-2023.12.1.dist-info\n",
            "jupyter_client\n",
            "jupyter_client-6.1.12.dist-info\n",
            "jupyter_console\n",
            "jupyter_console-6.1.0.dist-info\n",
            "jupyter_core\n",
            "jupyter_core-5.7.1.dist-info\n",
            "jupyterlab_plotly\n",
            "jupyterlab_pygments\n",
            "jupyterlab_pygments-0.3.0.dist-info\n",
            "jupyterlab_widgets\n",
            "jupyterlab_widgets-3.0.9.dist-info\n",
            "jupyter.py\n",
            "jupyter_server\n",
            "jupyter_server-1.24.0.dist-info\n",
            "kaggle\n",
            "kaggle-1.5.16.dist-info\n",
            "kagglehub\n",
            "kagglehub-0.1.6.dist-info\n",
            "kanren\n",
            "keras\n",
            "keras-2.15.0.dist-info\n",
            "kiwisolver\n",
            "kiwisolver-1.4.5.dist-info\n",
            "langcodes\n",
            "langcodes-3.3.0.dist-info\n",
            "lazy_loader\n",
            "lazy_loader-0.3.dist-info\n",
            "libclang-16.0.6.dist-info\n",
            "libfuturize\n",
            "libpasteurize\n",
            "librosa\n",
            "librosa-0.10.1.dist-info\n",
            "LICENSE\n",
            "lida\n",
            "lida-0.0.10.dist-info\n",
            "lightgbm\n",
            "lightgbm-4.1.0.dist-info\n",
            "linkify_it\n",
            "linkify_it_py-2.0.2.dist-info\n",
            "llmx\n",
            "llmx-0.0.15a0.dist-info\n",
            "llvmlite\n",
            "llvmlite-0.41.1.dist-info\n",
            "locket\n",
            "locket-1.0.0.dist-info\n",
            "logical_unification-0.4.6.dist-info\n",
            "lxml\n",
            "lxml-4.9.4.dist-info\n",
            "malloy\n",
            "malloy-2023.1067.dist-info\n",
            "markdown\n",
            "Markdown-3.5.2.dist-info\n",
            "markdown_it\n",
            "markdown_it_py-3.0.0.dist-info\n",
            "markupsafe\n",
            "MarkupSafe-2.1.4.dist-info\n",
            "matplotlib\n",
            "matplotlib-3.7.1.dist-info\n",
            "matplotlib-3.7.1-py3.10-nspkg.pth\n",
            "matplotlib_inline\n",
            "matplotlib_inline-0.1.6.dist-info\n",
            "matplotlib_venn\n",
            "matplotlib_venn-0.11.9.dist-info\n",
            "mdit_py_plugins\n",
            "mdit_py_plugins-0.4.0.dist-info\n",
            "mdurl\n",
            "mdurl-0.1.2.dist-info\n",
            "miniKanren-1.0.3.dist-info\n",
            "missingno\n",
            "missingno-0.5.2.dist-info\n",
            "mistune-0.8.4.dist-info\n",
            "mistune.py\n",
            "mizani\n",
            "mizani-0.9.3.dist-info\n",
            "mkl-2023.2.0.dist-info\n",
            "ml_dtypes\n",
            "ml_dtypes-0.2.0.dist-info\n",
            "mlxtend\n",
            "mlxtend-0.22.0.dist-info\n",
            "more_itertools\n",
            "more_itertools-10.1.0.dist-info\n",
            "moviepy\n",
            "moviepy-1.0.3.dist-info\n",
            "mpl_toolkits\n",
            "mpmath\n",
            "mpmath-1.3.0.dist-info\n",
            "msgpack\n",
            "msgpack-1.0.7.dist-info\n",
            "multidict\n",
            "multidict-6.0.4.dist-info\n",
            "multipledispatch\n",
            "multipledispatch-1.0.0.dist-info\n",
            "multitasking\n",
            "multitasking-0.0.11.dist-info\n",
            "murmurhash\n",
            "murmurhash-1.0.10.dist-info\n",
            "music21\n",
            "music21-9.1.0.dist-info\n",
            "natsort\n",
            "natsort-8.4.0.dist-info\n",
            "nbclassic\n",
            "nbclassic-1.0.0.dist-info\n",
            "nbclient\n",
            "nbclient-0.9.0.dist-info\n",
            "nbconvert\n",
            "nbconvert-6.5.4.dist-info\n",
            "nbformat\n",
            "nbformat-5.9.2.dist-info\n",
            "nest_asyncio-1.6.0.dist-info\n",
            "nest_asyncio.py\n",
            "networkx\n",
            "networkx-3.2.1.dist-info\n",
            "nibabel\n",
            "nibabel-4.0.2.dist-info\n",
            "nisext\n",
            "nltk\n",
            "nltk-3.8.1.dist-info\n",
            "notebook\n",
            "notebook-6.5.5.dist-info\n",
            "notebook_shim\n",
            "notebook_shim-0.2.3.dist-info\n",
            "numba\n",
            "numba-0.58.1.dist-info\n",
            "numbergen\n",
            "numexpr\n",
            "numexpr-2.8.8.dist-info\n",
            "numpy\n",
            "numpy-1.23.5.dist-info\n",
            "numpy.libs\n",
            "nvfuser\n",
            "oauth2client\n",
            "oauth2client-4.1.3.dist-info\n",
            "oauthlib\n",
            "oauthlib-3.2.2.dist-info\n",
            "opencv_contrib_python-4.8.0.76.dist-info\n",
            "opencv_contrib_python.libs\n",
            "opencv_python-4.8.0.76.dist-info\n",
            "opencv_python_headless-4.9.0.80.dist-info\n",
            "opencv_python_headless.libs\n",
            "opencv_python.libs\n",
            "OpenGL\n",
            "openpyxl\n",
            "openpyxl-3.1.2.dist-info\n",
            "OpenSSL\n",
            "optax\n",
            "optax-0.1.8.dist-info\n",
            "opt_einsum\n",
            "opt_einsum-3.3.0.dist-info\n",
            "orbax\n",
            "orbax_checkpoint-0.4.4.dist-info\n",
            "osgeo\n",
            "osgeo_utils\n",
            "osqp\n",
            "osqp-0.6.2.post8.dist-info\n",
            "osqppurepy\n",
            "packaging\n",
            "packaging-23.2.dist-info\n",
            "pandas\n",
            "pandas-1.5.3.dist-info\n",
            "pandas_datareader\n",
            "pandas_datareader-0.10.0.dist-info\n",
            "pandas_gbq\n",
            "pandas_gbq-0.19.2.dist-info\n",
            "pandas-stubs\n",
            "pandas_stubs-1.5.3.230304.dist-info\n",
            "pandocfilters-1.5.1.dist-info\n",
            "pandocfilters.py\n",
            "panel\n",
            "panel-1.3.7.dist-info\n",
            "param\n",
            "param-2.0.2.dist-info\n",
            "parso\n",
            "parso-0.8.3.dist-info\n",
            "parsy\n",
            "parsy-2.1.dist-info\n",
            "partd\n",
            "partd-1.4.1.dist-info\n",
            "past\n",
            "pasta\n",
            "pathlib-1.0.1.dist-info\n",
            "pathlib_abc\n",
            "pathlib_abc-0.1.1.dist-info\n",
            "pathlib.py\n",
            "pathy\n",
            "pathy-0.11.0.dist-info\n",
            "patsy\n",
            "patsy-0.5.6.dist-info\n",
            "peewee-3.17.0.dist-info\n",
            "peewee.py\n",
            "pexpect\n",
            "pexpect-4.9.0.dist-info\n",
            "pickleshare-0.7.5.dist-info\n",
            "pickleshare.py\n",
            "PIL\n",
            "Pillow-9.4.0.dist-info\n",
            "Pillow.libs\n",
            "pins\n",
            "pins-0.8.4.dist-info\n",
            "pip\n",
            "pip-23.1.2.dist-info\n",
            "piptools\n",
            "pip_tools-6.13.0.dist-info\n",
            "pkg_resources\n",
            "pkg_resources-stubs\n",
            "platformdirs\n",
            "platformdirs-4.1.0.dist-info\n",
            "playhouse\n",
            "plotly\n",
            "plotly-5.15.0.dist-info\n",
            "_plotly_future_\n",
            "_plotly_utils\n",
            "plotnine\n",
            "plotnine-0.12.4.dist-info\n",
            "pluggy\n",
            "pluggy-1.3.0.dist-info\n",
            "polars\n",
            "polars-0.20.2.dist-info\n",
            "pooch\n",
            "pooch-1.8.0.dist-info\n",
            "portpicker-1.5.2.dist-info\n",
            "portpicker.py\n",
            "prefetch_generator\n",
            "prefetch_generator-1.0.3.dist-info\n",
            "preshed\n",
            "preshed-3.0.9.dist-info\n",
            "prettytable\n",
            "prettytable-3.9.0.dist-info\n",
            "proglog\n",
            "proglog-0.1.10.dist-info\n",
            "progressbar\n",
            "progressbar2-4.2.0.dist-info\n",
            "prometheus_client\n",
            "prometheus_client-0.19.0.dist-info\n",
            "promise\n",
            "promise-2.3.dist-info\n",
            "prompt_toolkit\n",
            "prompt_toolkit-3.0.43.dist-info\n",
            "prophet\n",
            "prophet-1.1.5.dist-info\n",
            "prophet.libs\n",
            "proto\n",
            "protobuf-3.20.3.dist-info\n",
            "protobuf-3.20.3-py3.10-nspkg.pth\n",
            "proto_plus-1.23.0.dist-info\n",
            "psutil\n",
            "psutil-5.9.5.dist-info\n",
            "psycopg2\n",
            "psycopg2-2.9.9.dist-info\n",
            "ptyprocess\n",
            "ptyprocess-0.7.0.dist-info\n",
            "public\n",
            "pwiz.py\n",
            "py4j\n",
            "py4j-0.10.9.7.dist-info\n",
            "pyarrow\n",
            "pyarrow-10.0.1.dist-info\n",
            "pyarrow_hotfix\n",
            "pyarrow_hotfix-0.6.dist-info\n",
            "pyasn1\n",
            "pyasn1-0.5.1.dist-info\n",
            "pyasn1_modules\n",
            "pyasn1_modules-0.3.0.dist-info\n",
            "__pycache__\n",
            "pycocotools\n",
            "pycocotools-2.0.7.dist-info\n",
            "pycparser\n",
            "pycparser-2.21.dist-info\n",
            "py_cpuinfo-9.0.0.dist-info\n",
            "pyct\n",
            "pyct-0.5.0.dist-info\n",
            "pydantic\n",
            "pydantic-1.10.14.dist-info\n",
            "pydata_google_auth\n",
            "pydata_google_auth-1.8.2.dist-info\n",
            "pydot-1.4.2.dist-info\n",
            "pydot_ng\n",
            "pydot_ng-2.0.0.dist-info\n",
            "pydotplus\n",
            "pydotplus-2.0.2.dist-info\n",
            "pydot.py\n",
            "pydrive\n",
            "PyDrive-1.3.1.dist-info\n",
            "pydrive2\n",
            "PyDrive2-1.6.3.dist-info\n",
            "pyerfa-2.0.1.1.dist-info\n",
            "pygame\n",
            "pygame-2.5.2.dist-info\n",
            "pygame.libs\n",
            "pygments\n",
            "Pygments-2.16.1.dist-info\n",
            "pylab.py\n",
            "pymc\n",
            "pymc-5.7.2.dist-info\n",
            "pymystem3\n",
            "pymystem3-0.2.0.dist-info\n",
            "PyOpenGL-3.1.7.dist-info\n",
            "pyOpenSSL-24.0.0.dist-info\n",
            "pyparsing\n",
            "pyparsing-3.1.1.dist-info\n",
            "pyperclip\n",
            "pyperclip-1.8.2.dist-info\n",
            "pyproj\n",
            "pyproj-3.6.1.dist-info\n",
            "pyproject_hooks\n",
            "pyproject_hooks-1.0.0.dist-info\n",
            "pyproj.libs\n",
            "py.py\n",
            "pyshp-2.3.1.dist-info\n",
            "PySocks-1.7.1.dist-info\n",
            "pytensor\n",
            "pytensor-2.14.2.dist-info\n",
            "_pytest\n",
            "pytest\n",
            "pytest-7.4.4.dist-info\n",
            "python_apt-0.0.0-py3.10.egg-info\n",
            "python_box-7.1.1.dist-info\n",
            "python_dateutil-2.8.2.dist-info\n",
            "python_louvain-0.16.dist-info\n",
            "python_slugify-8.0.1.dist-info\n",
            "python_utils\n",
            "python_utils-3.8.1.dist-info\n",
            "pytz\n",
            "pytz-2023.3.post1.dist-info\n",
            "pytz-stubs\n",
            "pyviz_comms\n",
            "pyviz_comms-3.0.1.dist-info\n",
            "pywavelets-1.5.0.dist-info\n",
            "pywt\n",
            "pyximport\n",
            "PyYAML-6.0.1.dist-info\n",
            "pyzmq-23.2.1.dist-info\n",
            "pyzmq.libs\n",
            "qdldl-0.1.7.post0.dist-info\n",
            "qdldl.cpython-310-x86_64-linux-gnu.so\n",
            "qudida\n",
            "qudida-0.0.4.dist-info\n",
            "ratelim\n",
            "ratelim-0.1.6.dist-info\n",
            "README.md\n",
            "referencing\n",
            "referencing-0.32.1.dist-info\n",
            "regex\n",
            "regex-2023.6.3.dist-info\n",
            "requests\n",
            "requests-2.31.0.dist-info\n",
            "requests_oauthlib\n",
            "requests_oauthlib-1.3.1.dist-info\n",
            "requirements\n",
            "requirements_parser-0.5.0.dist-info\n",
            "rich\n",
            "rich-13.7.0.dist-info\n",
            "_rinterface_cffi_abi.py\n",
            "_rinterface_cffi_api.abi3.so\n",
            "rpds\n",
            "rpds_py-0.17.1.dist-info\n",
            "rpy2\n",
            "rpy2-3.4.2.dist-info\n",
            "rsa\n",
            "rsa-4.9.dist-info\n",
            "rust-toolchain.toml\n",
            "safetensors\n",
            "safetensors-0.4.1.dist-info\n",
            "scikit_image-0.19.3.dist-info\n",
            "scikit_image.libs\n",
            "scikit_learn-1.2.2.dist-info\n",
            "scikit_learn.libs\n",
            "scikit_surprise-1.1.3.dist-info\n",
            "scipy\n",
            "scipy-1.11.4.dist-info\n",
            "scipy.libs\n",
            "scooby\n",
            "scooby-0.9.2.dist-info\n",
            "scripts\n",
            "scs\n",
            "scs-3.2.4.post1.dist-info\n",
            "_scs_direct.cpython-310-x86_64-linux-gnu.so\n",
            "_scs_indirect.cpython-310-x86_64-linux-gnu.so\n",
            "scs.libs\n",
            "seaborn\n",
            "seaborn-0.13.1.dist-info\n",
            "send2trash\n",
            "Send2Trash-1.8.2.dist-info\n",
            "setuptools\n",
            "setuptools-67.7.2.dist-info\n",
            "setuptools-stubs\n",
            "shapefile.py\n",
            "shapely\n",
            "shapely-2.0.2.dist-info\n",
            "shapely.libs\n",
            "six-1.16.0.dist-info\n",
            "six.py\n",
            "skimage\n",
            "sklearn\n",
            "sklearn_pandas\n",
            "sklearn_pandas-2.2.0.dist-info\n",
            "slugify\n",
            "smart_open\n",
            "smart_open-6.4.0.dist-info\n",
            "sniffio\n",
            "sniffio-1.3.0.dist-info\n",
            "snowballstemmer\n",
            "snowballstemmer-2.2.0.dist-info\n",
            "sockshandler.py\n",
            "socks.py\n",
            "sortedcontainers\n",
            "sortedcontainers-2.4.0.dist-info\n",
            "soundfile-0.12.1.dist-info\n",
            "_soundfile_data\n",
            "_soundfile.py\n",
            "soundfile.py\n",
            "soupsieve\n",
            "soupsieve-2.5.dist-info\n",
            "soxr\n",
            "soxr-0.3.7.dist-info\n",
            "spacy\n",
            "spacy-3.6.1.dist-info\n",
            "spacy_legacy\n",
            "spacy_legacy-3.0.12.dist-info\n",
            "spacy_loggers\n",
            "spacy_loggers-1.0.5.dist-info\n",
            "sphinx\n",
            "Sphinx-5.0.2.dist-info\n",
            "sphinxcontrib\n",
            "sphinxcontrib_applehelp-1.0.8.dist-info\n",
            "sphinxcontrib_devhelp-1.0.6.dist-info\n",
            "sphinxcontrib_htmlhelp-2.0.5.dist-info\n",
            "sphinxcontrib_jsmath-1.0.1.dist-info\n",
            "sphinxcontrib_jsmath-1.0.1-py3.7-nspkg.pth\n",
            "sphinxcontrib_qthelp-1.0.7.dist-info\n",
            "sphinxcontrib_serializinghtml-1.1.10.dist-info\n",
            "sql\n",
            "sqlalchemy\n",
            "SQLAlchemy-2.0.24.dist-info\n",
            "sqlglot\n",
            "sqlglot-19.9.0.dist-info\n",
            "sqlparse\n",
            "sqlparse-0.4.4.dist-info\n",
            "srsly\n",
            "srsly-2.4.8.dist-info\n",
            "stanio\n",
            "stanio-0.3.0.dist-info\n",
            "statsmodels\n",
            "statsmodels-0.14.1.dist-info\n",
            "surprise\n",
            "sympy\n",
            "sympy-1.12.dist-info\n",
            "tables\n",
            "tables-3.8.0.dist-info\n",
            "tables.libs\n",
            "tabulate\n",
            "tabulate-0.9.0.dist-info\n",
            "tbb-2021.11.0.dist-info\n",
            "tblib\n",
            "tblib-3.0.0.dist-info\n",
            "tenacity\n",
            "tenacity-8.2.3.dist-info\n",
            "tensorboard\n",
            "tensorboard-2.15.1.dist-info\n",
            "tensorboard_data_server\n",
            "tensorboard_data_server-0.7.2.dist-info\n",
            "tensorflow\n",
            "tensorflow-2.15.0.dist-info\n",
            "tensorflow_datasets\n",
            "tensorflow_datasets-4.9.4.dist-info\n",
            "tensorflow_estimator\n",
            "tensorflow_estimator-2.15.0.dist-info\n",
            "tensorflow_gcs_config\n",
            "tensorflow_gcs_config-2.15.0.dist-info\n",
            "tensorflow_hub\n",
            "tensorflow_hub-0.16.0.dist-info\n",
            "tensorflow_io_gcs_filesystem\n",
            "tensorflow_io_gcs_filesystem-0.35.0.dist-info\n",
            "tensorflow_metadata\n",
            "tensorflow_metadata-1.14.0.dist-info\n",
            "tensorflow_probability\n",
            "tensorflow_probability-0.22.0.dist-info\n",
            "tensorstore\n",
            "tensorstore-0.1.45.dist-info\n",
            "termcolor\n",
            "termcolor-2.4.0.dist-info\n",
            "terminado\n",
            "terminado-0.18.0.dist-info\n",
            "textblob\n",
            "textblob-0.17.1.dist-info\n",
            "text_unidecode\n",
            "text_unidecode-1.3.dist-info\n",
            "tf_slim\n",
            "tf_slim-1.1.0.dist-info\n",
            "thinc\n",
            "thinc-8.1.12.dist-info\n",
            "third_party\n",
            "threadpoolctl-3.2.0.dist-info\n",
            "threadpoolctl.py\n",
            "tifffile\n",
            "tifffile-2023.12.9.dist-info\n",
            "tinycss2\n",
            "tinycss2-1.2.1.dist-info\n",
            "tlz\n",
            "tokenizers\n",
            "tokenizers-0.15.1.dist-info\n",
            "toml\n",
            "toml-0.10.2.dist-info\n",
            "tomli\n",
            "tomli-2.0.1.dist-info\n",
            "toolz\n",
            "toolz-0.12.0.dist-info\n",
            "torch\n",
            "torch-2.1.0+cu121.dist-info\n",
            "torchaudio\n",
            "torchaudio-2.1.0+cu121.dist-info\n",
            "torchdata\n",
            "torchdata-0.7.0.dist-info\n",
            "torchgen\n",
            "torchsummary\n",
            "torchsummary-1.5.1.dist-info\n",
            "torchtext\n",
            "torchtext-0.16.0.dist-info\n",
            "torchvision\n",
            "torchvision-0.16.0+cu121.dist-info\n",
            "torchvision.libs\n",
            "tornado\n",
            "tornado-6.3.2.dist-info\n",
            "tqdm\n",
            "tqdm-4.66.1.dist-info\n",
            "traitlets\n",
            "traitlets-5.7.1.dist-info\n",
            "traittypes\n",
            "traittypes-0.2.1.dist-info\n",
            "transformers\n",
            "transformers-4.35.2.dist-info\n",
            "tree\n",
            "triton\n",
            "triton-2.1.0.dist-info\n",
            "tweepy\n",
            "tweepy-4.14.0.dist-info\n",
            "typer\n",
            "typer-0.9.0.dist-info\n",
            "types_pytz-2023.3.1.1.dist-info\n",
            "types_setuptools-69.0.0.20240125.dist-info\n",
            "typing_extensions-4.5.0.dist-info\n",
            "typing_extensions.py\n",
            "typings\n",
            "tzlocal\n",
            "tzlocal-5.2.dist-info\n",
            "uc_micro\n",
            "uc_micro_py-1.0.2.dist-info\n",
            "unification\n",
            "uritemplate\n",
            "uritemplate-4.1.1.dist-info\n",
            "urllib3\n",
            "urllib3-2.0.7.dist-info\n",
            "vega_datasets\n",
            "vega_datasets-0.9.0.dist-info\n",
            "vertexai\n",
            "vertex_ray\n",
            "wasabi\n",
            "wasabi-1.1.2.dist-info\n",
            "wcwidth\n",
            "wcwidth-0.2.13.dist-info\n",
            "webcolors\n",
            "webcolors-1.13.dist-info\n",
            "webencodings\n",
            "webencodings-0.5.1.dist-info\n",
            "websocket\n",
            "websocket_client-1.7.0.dist-info\n",
            "werkzeug\n",
            "werkzeug-3.0.1.dist-info\n",
            "wheel\n",
            "wheel-0.42.0.dist-info\n",
            "widgetsnbextension\n",
            "widgetsnbextension-3.6.6.dist-info\n",
            "wordcloud\n",
            "wordcloud-1.9.3.dist-info\n",
            "wrapt\n",
            "wrapt-1.14.1.dist-info\n",
            "xarray\n",
            "xarray-2023.7.0.dist-info\n",
            "xarray_einstats\n",
            "xarray_einstats-0.7.0.dist-info\n",
            "xgboost\n",
            "xgboost-2.0.3.dist-info\n",
            "xgboost.libs\n",
            "xlrd\n",
            "xlrd-2.0.1.dist-info\n",
            "xxhash\n",
            "xxhash-3.4.1.dist-info\n",
            "xyzservices\n",
            "xyzservices-2023.10.1.dist-info\n",
            "_yaml\n",
            "yaml\n",
            "yarl\n",
            "yarl-1.9.4.dist-info\n",
            "yellowbrick\n",
            "yellowbrick-1.5.dist-info\n",
            "yfinance\n",
            "yfinance-0.2.36.dist-info\n",
            "zict\n",
            "zict-3.0.0.dist-info\n",
            "zipp\n",
            "zipp-3.17.0.dist-info\n",
            "zmq\n"
          ]
        }
      ],
      "source": [
        "!ls /usr/local/lib/python3.10/dist-packages/"
      ]
    },
    {
      "cell_type": "code",
      "execution_count": 11,
      "metadata": {
        "id": "A06f7HGbiEhh",
        "colab": {
          "base_uri": "https://localhost:8080/",
          "height": 0
        },
        "outputId": "93566cbd-b573-405a-ae31-21a010d2f6b6"
      },
      "outputs": [
        {
          "output_type": "stream",
          "name": "stdout",
          "text": [
            "Collecting scikit-surprise\n",
            "  Downloading scikit-surprise-1.1.3.tar.gz (771 kB)\n",
            "\u001b[2K     \u001b[90m━━━━━━━━━━━━━━━━━━━━━━━━━━━━━━━━━━━━━━━━\u001b[0m \u001b[32m772.0/772.0 kB\u001b[0m \u001b[31m6.2 MB/s\u001b[0m eta \u001b[36m0:00:00\u001b[0m\n",
            "\u001b[?25h  Preparing metadata (setup.py) ... \u001b[?25l\u001b[?25hdone\n",
            "Requirement already satisfied: joblib>=1.0.0 in /usr/local/lib/python3.10/dist-packages (from scikit-surprise) (1.3.2)\n",
            "Requirement already satisfied: numpy>=1.17.3 in /usr/local/lib/python3.10/dist-packages (from scikit-surprise) (1.23.5)\n",
            "Requirement already satisfied: scipy>=1.3.2 in /usr/local/lib/python3.10/dist-packages (from scikit-surprise) (1.11.4)\n",
            "Building wheels for collected packages: scikit-surprise\n",
            "  Building wheel for scikit-surprise (setup.py) ... \u001b[?25l\u001b[?25hdone\n",
            "  Created wheel for scikit-surprise: filename=scikit_surprise-1.1.3-cp310-cp310-linux_x86_64.whl size=3162679 sha256=68f4931a7ff9141717a4701697f4a79824cca5bf736218c57b816a13ccbddbac\n",
            "  Stored in directory: /root/.cache/pip/wheels/a5/ca/a8/4e28def53797fdc4363ca4af740db15a9c2f1595ebc51fb445\n",
            "Successfully built scikit-surprise\n",
            "Installing collected packages: scikit-surprise\n",
            "Successfully installed scikit-surprise-1.1.3\n"
          ]
        }
      ],
      "source": [
        "!pip install scikit-surprise"
      ]
    },
    {
      "cell_type": "code",
      "execution_count": 12,
      "metadata": {
        "id": "BWP31NLjlhvE",
        "colab": {
          "base_uri": "https://localhost:8080/",
          "height": 0
        },
        "outputId": "aa9bd230-edd4-4302-d019-ec89c27106d0"
      },
      "outputs": [
        {
          "output_type": "stream",
          "name": "stdout",
          "text": [
            "Overwriting /content/drive/MyDrive/AIS_DG/lib/mymodule.py\n"
          ]
        }
      ],
      "source": [
        "%%writefile /content/drive/MyDrive/AIS_DG/lib/mymodule.py\n",
        "\n",
        "def MyFunction():\n",
        "  print ('My imported function')"
      ]
    },
    {
      "cell_type": "code",
      "execution_count": 13,
      "metadata": {
        "id": "TP49eZj_lyW-",
        "colab": {
          "base_uri": "https://localhost:8080/",
          "height": 0
        },
        "outputId": "91561669-8dca-44ac-cff1-5a959448fe89"
      },
      "outputs": [
        {
          "output_type": "stream",
          "name": "stdout",
          "text": [
            "car.py\tmymodule1.py  mymodule.py  __pycache__\n"
          ]
        }
      ],
      "source": [
        "!ls /content/drive/MyDrive/AIS_DG/lib"
      ]
    },
    {
      "cell_type": "code",
      "execution_count": 19,
      "metadata": {
        "id": "0uCVmCZSmDdY"
      },
      "outputs": [],
      "source": [
        "import sys\n",
        "sys.path.append('/content/drive/MyDrive/AIS_DG/lib')"
      ]
    },
    {
      "cell_type": "code",
      "execution_count": 20,
      "metadata": {
        "id": "fRGvUvQHEiSw"
      },
      "outputs": [],
      "source": [
        "import mymodule"
      ]
    },
    {
      "cell_type": "code",
      "execution_count": 21,
      "metadata": {
        "id": "uA86IgzmmXbd",
        "colab": {
          "base_uri": "https://localhost:8080/",
          "height": 0
        },
        "outputId": "20d03710-b31f-400e-a5c1-39c9fe0b4541"
      },
      "outputs": [
        {
          "output_type": "stream",
          "name": "stdout",
          "text": [
            "My imported function\n"
          ]
        }
      ],
      "source": [
        "import mymodule\n",
        "mymodule.MyFunction()"
      ]
    },
    {
      "cell_type": "markdown",
      "metadata": {
        "id": "NnOg2Yz-fRBk"
      },
      "source": [
        "\n",
        "\n",
        "---"
      ]
    },
    {
      "cell_type": "markdown",
      "metadata": {
        "id": "sp3nS9bAfZsg"
      },
      "source": [
        "## Basic syntax and data types"
      ]
    },
    {
      "cell_type": "markdown",
      "metadata": {
        "id": "2i_l6Dgj2AIW"
      },
      "source": [
        "## 1. Markdown\n",
        "Markdown is a lightweight markup language with simple formatting syntax. It can be used to annotate your notebook to explain or discuss the concepts/codes that you try to communicate.\n",
        "\n",
        "Markdown mode can be selected from the toolbar, or use keyboard shotcut \"M\" when the cell is selected.\n",
        "\n",
        "In this section, try run the markdown text below"
      ]
    },
    {
      "cell_type": "markdown",
      "metadata": {
        "id": "mJBsamck2AIX"
      },
      "source": [
        "# Hello World\n",
        "## Section\n",
        "### Sub-Section\n",
        "This is a normal text with <u>underline</u>.\n",
        "1. <b>First</b> line\n",
        "2. <i>Second</i> line\n",
        "```\n",
        "Python is fun\n",
        "```\n",
        "Test <font color='red'>***123***</font>"
      ]
    },
    {
      "cell_type": "markdown",
      "metadata": {
        "id": "lYhjxiUb2AIX"
      },
      "source": [
        "## 2. Code"
      ]
    },
    {
      "cell_type": "code",
      "execution_count": 22,
      "metadata": {
        "id": "tiiiwtJJ2AIY",
        "scrolled": true,
        "colab": {
          "base_uri": "https://localhost:8080/",
          "height": 0
        },
        "outputId": "04e4f5ee-6a8c-45d6-dcb6-be8f94169d15"
      },
      "outputs": [
        {
          "output_type": "execute_result",
          "data": {
            "text/plain": [
              "2"
            ]
          },
          "metadata": {},
          "execution_count": 22
        }
      ],
      "source": [
        "1+1"
      ]
    },
    {
      "cell_type": "code",
      "execution_count": 23,
      "metadata": {
        "id": "AzKKVKhF2AIZ",
        "colab": {
          "base_uri": "https://localhost:8080/",
          "height": 34
        },
        "outputId": "f549afc6-ca7b-4d6f-86c4-0ed9925cea8f"
      },
      "outputs": [
        {
          "output_type": "execute_result",
          "data": {
            "text/plain": [
              "'Hello World'"
            ],
            "application/vnd.google.colaboratory.intrinsic+json": {
              "type": "string"
            }
          },
          "metadata": {},
          "execution_count": 23
        }
      ],
      "source": [
        "\"Hello World\""
      ]
    },
    {
      "cell_type": "markdown",
      "metadata": {
        "id": "zbA_OwCa2AIZ"
      },
      "source": [
        "## 3. Assigning values to variable"
      ]
    },
    {
      "cell_type": "code",
      "execution_count": 24,
      "metadata": {
        "id": "E_8FN7rI2AIZ",
        "colab": {
          "base_uri": "https://localhost:8080/",
          "height": 0
        },
        "outputId": "21f781fd-f81f-4377-a259-b2c0320b56f6"
      },
      "outputs": [
        {
          "output_type": "stream",
          "name": "stdout",
          "text": [
            "100\n",
            "1000.0\n",
            "John\n"
          ]
        }
      ],
      "source": [
        "counter = 100    # An integer assignment\n",
        "miles = 1000.0  # A floating point\n",
        "name = \"John\"   # A string\n",
        "\n",
        "print(counter)\n",
        "print(miles)\n",
        "print(name)"
      ]
    },
    {
      "cell_type": "code",
      "execution_count": 25,
      "metadata": {
        "id": "O5uaSerjGLBF"
      },
      "outputs": [],
      "source": [
        "pprint = print"
      ]
    },
    {
      "cell_type": "code",
      "execution_count": 26,
      "metadata": {
        "id": "1QeU_VK7GRLr",
        "colab": {
          "base_uri": "https://localhost:8080/",
          "height": 0
        },
        "outputId": "fffa51af-b4a6-48bb-9d13-a6cf09b9d40e"
      },
      "outputs": [
        {
          "output_type": "stream",
          "name": "stdout",
          "text": [
            "1 2 3\n"
          ]
        }
      ],
      "source": [
        "pprint(1,2,3)"
      ]
    },
    {
      "cell_type": "code",
      "execution_count": 27,
      "metadata": {
        "id": "FyXR08kt2AIa",
        "colab": {
          "base_uri": "https://localhost:8080/",
          "height": 0
        },
        "outputId": "f456b979-7cf0-4fb0-f4f2-07d7f7b2596d"
      },
      "outputs": [
        {
          "output_type": "stream",
          "name": "stdout",
          "text": [
            "1 1 1\n"
          ]
        }
      ],
      "source": [
        "a = b = c = 1\n",
        "print(a,b,c)"
      ]
    },
    {
      "cell_type": "code",
      "execution_count": 28,
      "metadata": {
        "id": "LYi0HSi62AIa",
        "colab": {
          "base_uri": "https://localhost:8080/",
          "height": 0
        },
        "outputId": "81405026-a2a8-40af-d31d-c5be7c34ce58"
      },
      "outputs": [
        {
          "output_type": "stream",
          "name": "stdout",
          "text": [
            "Formatted text: 1, 2, John\n"
          ]
        }
      ],
      "source": [
        "a, b, c = 1, 2, \"John\"\n",
        "print('Formatted text: %d, %d, %s'%(a,b,c))"
      ]
    },
    {
      "cell_type": "code",
      "execution_count": 29,
      "metadata": {
        "id": "9OReSwY4GroS",
        "colab": {
          "base_uri": "https://localhost:8080/",
          "height": 0
        },
        "outputId": "84173136-4781-45f8-d4bc-e401e4b141cd"
      },
      "outputs": [
        {
          "output_type": "execute_result",
          "data": {
            "text/plain": [
              "(1, 2)"
            ]
          },
          "metadata": {},
          "execution_count": 29
        }
      ],
      "source": [
        "1, 2"
      ]
    },
    {
      "cell_type": "code",
      "execution_count": 30,
      "metadata": {
        "id": "3yTowPXEG3uH"
      },
      "outputs": [],
      "source": [
        "a = 1,2,3,4,5"
      ]
    },
    {
      "cell_type": "code",
      "execution_count": 31,
      "metadata": {
        "id": "mawgmPoTG6uC",
        "colab": {
          "base_uri": "https://localhost:8080/",
          "height": 0
        },
        "outputId": "4f41af7f-ff5f-47a9-83b9-99100f4f9e07"
      },
      "outputs": [
        {
          "output_type": "execute_result",
          "data": {
            "text/plain": [
              "(1, 2, 3, 4, 5)"
            ]
          },
          "metadata": {},
          "execution_count": 31
        }
      ],
      "source": [
        "a"
      ]
    },
    {
      "cell_type": "code",
      "execution_count": 32,
      "metadata": {
        "id": "vukYLynMG8B-",
        "colab": {
          "base_uri": "https://localhost:8080/",
          "height": 194
        },
        "outputId": "f798f889-f9d6-4628-fcd8-37b9e1a4c422"
      },
      "outputs": [
        {
          "output_type": "error",
          "ename": "ValueError",
          "evalue": "too many values to unpack (expected 2)",
          "traceback": [
            "\u001b[0;31m---------------------------------------------------------------------------\u001b[0m",
            "\u001b[0;31mValueError\u001b[0m                                Traceback (most recent call last)",
            "\u001b[0;32m<ipython-input-32-1a842d05aa60>\u001b[0m in \u001b[0;36m<cell line: 1>\u001b[0;34m()\u001b[0m\n\u001b[0;32m----> 1\u001b[0;31m \u001b[0ma\u001b[0m\u001b[0;34m,\u001b[0m \u001b[0mb\u001b[0m \u001b[0;34m=\u001b[0m \u001b[0;36m1\u001b[0m\u001b[0;34m,\u001b[0m\u001b[0;36m2\u001b[0m\u001b[0;34m,\u001b[0m\u001b[0;36m3\u001b[0m\u001b[0;34m,\u001b[0m\u001b[0;36m4\u001b[0m\u001b[0;34m,\u001b[0m\u001b[0;36m5\u001b[0m\u001b[0;34m\u001b[0m\u001b[0;34m\u001b[0m\u001b[0m\n\u001b[0m\u001b[1;32m      2\u001b[0m \u001b[0ma\u001b[0m\u001b[0;34m\u001b[0m\u001b[0;34m\u001b[0m\u001b[0m\n",
            "\u001b[0;31mValueError\u001b[0m: too many values to unpack (expected 2)"
          ]
        }
      ],
      "source": [
        "a, b = 1,2,3,4,5\n",
        "a"
      ]
    },
    {
      "cell_type": "markdown",
      "metadata": {
        "id": "WBKwipyK2AIa"
      },
      "source": [
        "## 4. Variables in cells"
      ]
    },
    {
      "cell_type": "code",
      "execution_count": 33,
      "metadata": {
        "id": "X46TK59qHWAo"
      },
      "outputs": [],
      "source": [
        "del x"
      ]
    },
    {
      "cell_type": "code",
      "execution_count": 34,
      "metadata": {
        "id": "QhzftGVx2AIa",
        "scrolled": true,
        "colab": {
          "base_uri": "https://localhost:8080/",
          "height": 176
        },
        "outputId": "b621f335-a1a5-41d8-e3cc-f380dad87e3a"
      },
      "outputs": [
        {
          "output_type": "error",
          "ename": "NameError",
          "evalue": "name 'x' is not defined",
          "traceback": [
            "\u001b[0;31m---------------------------------------------------------------------------\u001b[0m",
            "\u001b[0;31mNameError\u001b[0m                                 Traceback (most recent call last)",
            "\u001b[0;32m<ipython-input-34-6fcf9dfbd479>\u001b[0m in \u001b[0;36m<cell line: 1>\u001b[0;34m()\u001b[0m\n\u001b[0;32m----> 1\u001b[0;31m \u001b[0mx\u001b[0m\u001b[0;34m\u001b[0m\u001b[0;34m\u001b[0m\u001b[0m\n\u001b[0m",
            "\u001b[0;31mNameError\u001b[0m: name 'x' is not defined"
          ]
        }
      ],
      "source": [
        "x"
      ]
    },
    {
      "cell_type": "code",
      "execution_count": 35,
      "metadata": {
        "id": "TopfK3002AIa"
      },
      "outputs": [],
      "source": [
        "x = 1"
      ]
    },
    {
      "cell_type": "code",
      "execution_count": 36,
      "metadata": {
        "id": "291YPs7w2AIa",
        "colab": {
          "base_uri": "https://localhost:8080/",
          "height": 0
        },
        "outputId": "1e7572df-0185-49fb-b242-f18d36ec72bd"
      },
      "outputs": [
        {
          "output_type": "execute_result",
          "data": {
            "text/plain": [
              "2"
            ]
          },
          "metadata": {},
          "execution_count": 36
        }
      ],
      "source": [
        "x + 1"
      ]
    },
    {
      "cell_type": "code",
      "execution_count": 37,
      "metadata": {
        "id": "kZ3BXc1L2AIb",
        "colab": {
          "base_uri": "https://localhost:8080/",
          "height": 0
        },
        "outputId": "fd3fe187-eb33-4582-ef45-4b4d0de29590"
      },
      "outputs": [
        {
          "output_type": "execute_result",
          "data": {
            "text/plain": [
              "1"
            ]
          },
          "metadata": {},
          "execution_count": 37
        }
      ],
      "source": [
        "x"
      ]
    },
    {
      "cell_type": "markdown",
      "metadata": {
        "id": "EjF9ljS42AIb"
      },
      "source": [
        "## 5. Error! Why?"
      ]
    },
    {
      "cell_type": "code",
      "execution_count": 38,
      "metadata": {
        "id": "B1Se64al2AIb"
      },
      "outputs": [],
      "source": [
        "x = (1,2,3)"
      ]
    },
    {
      "cell_type": "code",
      "execution_count": 39,
      "metadata": {
        "id": "0n7sLXEH2AIb",
        "colab": {
          "base_uri": "https://localhost:8080/",
          "height": 0
        },
        "outputId": "9469b1d0-0c3e-4b17-e791-75acaa8056f7"
      },
      "outputs": [
        {
          "output_type": "execute_result",
          "data": {
            "text/plain": [
              "1"
            ]
          },
          "metadata": {},
          "execution_count": 39
        }
      ],
      "source": [
        "x[0]"
      ]
    },
    {
      "cell_type": "code",
      "execution_count": 40,
      "metadata": {
        "id": "xCdcrvP42AIb",
        "colab": {
          "base_uri": "https://localhost:8080/",
          "height": 176
        },
        "outputId": "34a6b1b5-9855-4388-fbee-f7823ca52fee"
      },
      "outputs": [
        {
          "output_type": "error",
          "ename": "TypeError",
          "evalue": "can only concatenate tuple (not \"int\") to tuple",
          "traceback": [
            "\u001b[0;31m---------------------------------------------------------------------------\u001b[0m",
            "\u001b[0;31mTypeError\u001b[0m                                 Traceback (most recent call last)",
            "\u001b[0;32m<ipython-input-40-eaf7b6991020>\u001b[0m in \u001b[0;36m<cell line: 1>\u001b[0;34m()\u001b[0m\n\u001b[0;32m----> 1\u001b[0;31m \u001b[0mx\u001b[0m \u001b[0;34m+\u001b[0m \u001b[0;36m1\u001b[0m\u001b[0;34m\u001b[0m\u001b[0;34m\u001b[0m\u001b[0m\n\u001b[0m",
            "\u001b[0;31mTypeError\u001b[0m: can only concatenate tuple (not \"int\") to tuple"
          ]
        }
      ],
      "source": [
        "x + 1\n",
        "# Tuple cant modify"
      ]
    },
    {
      "cell_type": "markdown",
      "metadata": {
        "id": "8QVuNfhs2AIb"
      },
      "source": [
        "## 6. Comments"
      ]
    },
    {
      "cell_type": "markdown",
      "metadata": {
        "id": "J464PBhm2AIb"
      },
      "source": [
        "A better way to explain"
      ]
    },
    {
      "cell_type": "code",
      "execution_count": 41,
      "metadata": {
        "id": "ApwRCLPS2AIc",
        "colab": {
          "base_uri": "https://localhost:8080/",
          "height": 0
        },
        "outputId": "788aaa9b-5f09-4c66-8367-c59cd12e3abf"
      },
      "outputs": [
        {
          "output_type": "stream",
          "name": "stdout",
          "text": [
            "Hello World! # This is not a comment\n"
          ]
        }
      ],
      "source": [
        "# This is a comment\n",
        "x = 1 # This is a second comment\n",
        "text = \"Hello World! # This is not a comment\"\n",
        "print(text)"
      ]
    },
    {
      "cell_type": "markdown",
      "metadata": {
        "id": "bugdJVhb2AIc"
      },
      "source": [
        "## Challenge: multiple assignment\n",
        "Perform multiple assignment of a, b, and c to 'Hello', 0, 'World!', respectively. Replace in the code blank ___ with the actual code to complete the code."
      ]
    },
    {
      "cell_type": "code",
      "execution_count": 42,
      "metadata": {
        "id": "H0VIh3YI2AIc",
        "colab": {
          "base_uri": "https://localhost:8080/",
          "height": 0
        },
        "outputId": "c7c4f01a-3c54-4690-8a5e-8316b249b9d2"
      },
      "outputs": [
        {
          "output_type": "execute_result",
          "data": {
            "text/plain": [
              "('Hello', 0, 'World!')"
            ]
          },
          "metadata": {},
          "execution_count": 42
        }
      ],
      "source": [
        "a, b, c = 'Hello',0,'World!' # work here\n",
        "a, b, c"
      ]
    },
    {
      "cell_type": "markdown",
      "metadata": {
        "id": "vaM7JtS82AIc"
      },
      "source": [
        "## 7. Number"
      ]
    },
    {
      "cell_type": "code",
      "execution_count": 43,
      "metadata": {
        "id": "-T2e0_fm2AIc"
      },
      "outputs": [],
      "source": [
        "x = 1.1\n",
        "y = 10"
      ]
    },
    {
      "cell_type": "code",
      "execution_count": 45,
      "metadata": {
        "id": "XGwHy3Qj2AIc",
        "colab": {
          "base_uri": "https://localhost:8080/",
          "height": 0
        },
        "outputId": "871527e0-c38e-43f7-a28f-b8fef4c1eb32"
      },
      "outputs": [
        {
          "output_type": "execute_result",
          "data": {
            "text/plain": [
              "int"
            ]
          },
          "metadata": {},
          "execution_count": 45
        }
      ],
      "source": [
        "type(y)"
      ]
    },
    {
      "cell_type": "code",
      "execution_count": 46,
      "metadata": {
        "id": "5ZfVIJpO2AIc",
        "colab": {
          "base_uri": "https://localhost:8080/",
          "height": 0
        },
        "outputId": "163c99eb-8e08-4508-f8e8-8df894080fe9"
      },
      "outputs": [
        {
          "output_type": "execute_result",
          "data": {
            "text/plain": [
              "['In',\n",
              " 'Out',\n",
              " '_',\n",
              " '_2',\n",
              " '_22',\n",
              " '_23',\n",
              " '_29',\n",
              " '_31',\n",
              " '_36',\n",
              " '_37',\n",
              " '_39',\n",
              " '_42',\n",
              " '_44',\n",
              " '_45',\n",
              " '_8',\n",
              " '__',\n",
              " '___',\n",
              " '__builtin__',\n",
              " '__builtins__',\n",
              " '__doc__',\n",
              " '__loader__',\n",
              " '__name__',\n",
              " '__package__',\n",
              " '__spec__',\n",
              " '_dh',\n",
              " '_exit_code',\n",
              " '_i',\n",
              " '_i1',\n",
              " '_i10',\n",
              " '_i11',\n",
              " '_i12',\n",
              " '_i13',\n",
              " '_i14',\n",
              " '_i15',\n",
              " '_i16',\n",
              " '_i17',\n",
              " '_i18',\n",
              " '_i19',\n",
              " '_i2',\n",
              " '_i20',\n",
              " '_i21',\n",
              " '_i22',\n",
              " '_i23',\n",
              " '_i24',\n",
              " '_i25',\n",
              " '_i26',\n",
              " '_i27',\n",
              " '_i28',\n",
              " '_i29',\n",
              " '_i3',\n",
              " '_i30',\n",
              " '_i31',\n",
              " '_i32',\n",
              " '_i33',\n",
              " '_i34',\n",
              " '_i35',\n",
              " '_i36',\n",
              " '_i37',\n",
              " '_i38',\n",
              " '_i39',\n",
              " '_i4',\n",
              " '_i40',\n",
              " '_i41',\n",
              " '_i42',\n",
              " '_i43',\n",
              " '_i44',\n",
              " '_i45',\n",
              " '_i46',\n",
              " '_i5',\n",
              " '_i6',\n",
              " '_i7',\n",
              " '_i8',\n",
              " '_i9',\n",
              " '_ih',\n",
              " '_ii',\n",
              " '_iii',\n",
              " '_oh',\n",
              " 'a',\n",
              " 'b',\n",
              " 'c',\n",
              " 'counter',\n",
              " 'df',\n",
              " 'drive',\n",
              " 'exit',\n",
              " 'f',\n",
              " 'get_ipython',\n",
              " 'miles',\n",
              " 'mymodule',\n",
              " 'name',\n",
              " 'pd',\n",
              " 'pprint',\n",
              " 'quit',\n",
              " 'sys',\n",
              " 'text',\n",
              " 'x',\n",
              " 'y']"
            ]
          },
          "metadata": {},
          "execution_count": 46
        }
      ],
      "source": [
        "dir()"
      ]
    },
    {
      "cell_type": "code",
      "execution_count": 47,
      "metadata": {
        "id": "LiSHc7X22AId"
      },
      "outputs": [],
      "source": [
        "del a"
      ]
    },
    {
      "cell_type": "code",
      "execution_count": 48,
      "metadata": {
        "id": "Qr0J4Bt92AId",
        "colab": {
          "base_uri": "https://localhost:8080/",
          "height": 0
        },
        "outputId": "40909d24-2783-4395-d2be-8cc89dc1dba4"
      },
      "outputs": [
        {
          "output_type": "execute_result",
          "data": {
            "text/plain": [
              "['In',\n",
              " 'Out',\n",
              " '_',\n",
              " '_2',\n",
              " '_22',\n",
              " '_23',\n",
              " '_29',\n",
              " '_31',\n",
              " '_36',\n",
              " '_37',\n",
              " '_39',\n",
              " '_42',\n",
              " '_44',\n",
              " '_45',\n",
              " '_46',\n",
              " '_8',\n",
              " '__',\n",
              " '___',\n",
              " '__builtin__',\n",
              " '__builtins__',\n",
              " '__doc__',\n",
              " '__loader__',\n",
              " '__name__',\n",
              " '__package__',\n",
              " '__spec__',\n",
              " '_dh',\n",
              " '_exit_code',\n",
              " '_i',\n",
              " '_i1',\n",
              " '_i10',\n",
              " '_i11',\n",
              " '_i12',\n",
              " '_i13',\n",
              " '_i14',\n",
              " '_i15',\n",
              " '_i16',\n",
              " '_i17',\n",
              " '_i18',\n",
              " '_i19',\n",
              " '_i2',\n",
              " '_i20',\n",
              " '_i21',\n",
              " '_i22',\n",
              " '_i23',\n",
              " '_i24',\n",
              " '_i25',\n",
              " '_i26',\n",
              " '_i27',\n",
              " '_i28',\n",
              " '_i29',\n",
              " '_i3',\n",
              " '_i30',\n",
              " '_i31',\n",
              " '_i32',\n",
              " '_i33',\n",
              " '_i34',\n",
              " '_i35',\n",
              " '_i36',\n",
              " '_i37',\n",
              " '_i38',\n",
              " '_i39',\n",
              " '_i4',\n",
              " '_i40',\n",
              " '_i41',\n",
              " '_i42',\n",
              " '_i43',\n",
              " '_i44',\n",
              " '_i45',\n",
              " '_i46',\n",
              " '_i47',\n",
              " '_i48',\n",
              " '_i5',\n",
              " '_i6',\n",
              " '_i7',\n",
              " '_i8',\n",
              " '_i9',\n",
              " '_ih',\n",
              " '_ii',\n",
              " '_iii',\n",
              " '_oh',\n",
              " 'b',\n",
              " 'c',\n",
              " 'counter',\n",
              " 'df',\n",
              " 'drive',\n",
              " 'exit',\n",
              " 'f',\n",
              " 'get_ipython',\n",
              " 'miles',\n",
              " 'mymodule',\n",
              " 'name',\n",
              " 'pd',\n",
              " 'pprint',\n",
              " 'quit',\n",
              " 'sys',\n",
              " 'text',\n",
              " 'x',\n",
              " 'y']"
            ]
          },
          "metadata": {},
          "execution_count": 48
        }
      ],
      "source": [
        "dir()"
      ]
    },
    {
      "cell_type": "code",
      "execution_count": 49,
      "metadata": {
        "id": "zGBNB4eO2AId",
        "colab": {
          "base_uri": "https://localhost:8080/",
          "height": 176
        },
        "outputId": "075b8a1a-0fdc-4145-d130-810608623567"
      },
      "outputs": [
        {
          "output_type": "error",
          "ename": "NameError",
          "evalue": "name 'a' is not defined",
          "traceback": [
            "\u001b[0;31m---------------------------------------------------------------------------\u001b[0m",
            "\u001b[0;31mNameError\u001b[0m                                 Traceback (most recent call last)",
            "\u001b[0;32m<ipython-input-49-3f786850e387>\u001b[0m in \u001b[0;36m<cell line: 1>\u001b[0;34m()\u001b[0m\n\u001b[0;32m----> 1\u001b[0;31m \u001b[0ma\u001b[0m\u001b[0;34m\u001b[0m\u001b[0;34m\u001b[0m\u001b[0m\n\u001b[0m",
            "\u001b[0;31mNameError\u001b[0m: name 'a' is not defined"
          ]
        }
      ],
      "source": [
        "a"
      ]
    },
    {
      "cell_type": "code",
      "execution_count": 50,
      "metadata": {
        "id": "r5vo9hVe2AId"
      },
      "outputs": [],
      "source": [
        "del b,c"
      ]
    },
    {
      "cell_type": "markdown",
      "metadata": {
        "id": "MwS3Gnq22AId"
      },
      "source": [
        "## Challenge: delete c\n",
        "Delete the variable c."
      ]
    },
    {
      "cell_type": "code",
      "execution_count": 51,
      "metadata": {
        "id": "lbQEAgME2AId",
        "colab": {
          "base_uri": "https://localhost:8080/",
          "height": 176
        },
        "outputId": "1d712f6e-ef6e-4f75-8870-3267ab2b129d"
      },
      "outputs": [
        {
          "output_type": "error",
          "ename": "NameError",
          "evalue": "name 'c' is not defined",
          "traceback": [
            "\u001b[0;31m---------------------------------------------------------------------------\u001b[0m",
            "\u001b[0;31mNameError\u001b[0m                                 Traceback (most recent call last)",
            "\u001b[0;32m<ipython-input-51-a85b25e7faa1>\u001b[0m in \u001b[0;36m<cell line: 1>\u001b[0;34m()\u001b[0m\n\u001b[0;32m----> 1\u001b[0;31m \u001b[0;32mdel\u001b[0m \u001b[0mc\u001b[0m\u001b[0;34m\u001b[0m\u001b[0;34m\u001b[0m\u001b[0m\n\u001b[0m",
            "\u001b[0;31mNameError\u001b[0m: name 'c' is not defined"
          ]
        }
      ],
      "source": [
        "del c"
      ]
    },
    {
      "cell_type": "code",
      "execution_count": 52,
      "metadata": {
        "id": "jJHF8QH92AId"
      },
      "outputs": [],
      "source": [
        "x = 1"
      ]
    },
    {
      "cell_type": "code",
      "execution_count": 53,
      "metadata": {
        "id": "14iz1uvR2AId",
        "colab": {
          "base_uri": "https://localhost:8080/",
          "height": 0
        },
        "outputId": "601b09fa-680d-4998-c115-da234f6fbd38"
      },
      "outputs": [
        {
          "output_type": "execute_result",
          "data": {
            "text/plain": [
              "int"
            ]
          },
          "metadata": {},
          "execution_count": 53
        }
      ],
      "source": [
        "type(x)"
      ]
    },
    {
      "cell_type": "code",
      "execution_count": 55,
      "metadata": {
        "id": "C4q2Eztq2AIe"
      },
      "outputs": [],
      "source": [
        "y = 0.0"
      ]
    },
    {
      "cell_type": "code",
      "execution_count": 56,
      "metadata": {
        "id": "k8ghXYg92AIe",
        "colab": {
          "base_uri": "https://localhost:8080/",
          "height": 0
        },
        "outputId": "be9cc5b7-8cfa-4586-d61a-5f1f2dfea7fd"
      },
      "outputs": [
        {
          "output_type": "execute_result",
          "data": {
            "text/plain": [
              "float"
            ]
          },
          "metadata": {},
          "execution_count": 56
        }
      ],
      "source": [
        "type(y)"
      ]
    },
    {
      "cell_type": "code",
      "execution_count": 57,
      "metadata": {
        "id": "wHpEcjGNMetv",
        "colab": {
          "base_uri": "https://localhost:8080/",
          "height": 0
        },
        "outputId": "12eace68-1af1-4b0f-a0d6-d7b0e65ea920"
      },
      "outputs": [
        {
          "output_type": "execute_result",
          "data": {
            "text/plain": [
              "complex"
            ]
          },
          "metadata": {},
          "execution_count": 57
        }
      ],
      "source": [
        "type(1+2j)"
      ]
    },
    {
      "cell_type": "code",
      "execution_count": 58,
      "metadata": {
        "id": "8ir7LzRuMzH5",
        "colab": {
          "base_uri": "https://localhost:8080/",
          "height": 0
        },
        "outputId": "6120dfbf-80ff-4932-c0ea-be517376983b"
      },
      "outputs": [
        {
          "output_type": "execute_result",
          "data": {
            "text/plain": [
              "4"
            ]
          },
          "metadata": {},
          "execution_count": 58
        }
      ],
      "source": [
        "2+2"
      ]
    },
    {
      "cell_type": "code",
      "execution_count": null,
      "metadata": {
        "id": "nLDQie7lM1a3"
      },
      "outputs": [],
      "source": [
        "2/2"
      ]
    },
    {
      "cell_type": "code",
      "execution_count": 60,
      "metadata": {
        "id": "vVVWey-dM3OK",
        "colab": {
          "base_uri": "https://localhost:8080/",
          "height": 0
        },
        "outputId": "589756a3-3457-4410-8e1b-8b59db5f60c4"
      },
      "outputs": [
        {
          "output_type": "execute_result",
          "data": {
            "text/plain": [
              "1"
            ]
          },
          "metadata": {},
          "execution_count": 60
        }
      ],
      "source": [
        "5 % 2"
      ]
    },
    {
      "cell_type": "code",
      "execution_count": 61,
      "metadata": {
        "id": "7okbVP1XM6Fp",
        "colab": {
          "base_uri": "https://localhost:8080/",
          "height": 0
        },
        "outputId": "a0ae2d02-2eac-41d0-a33b-57aa52ed7886"
      },
      "outputs": [
        {
          "output_type": "execute_result",
          "data": {
            "text/plain": [
              "8"
            ]
          },
          "metadata": {},
          "execution_count": 61
        }
      ],
      "source": [
        "2**3"
      ]
    },
    {
      "cell_type": "markdown",
      "metadata": {
        "id": "IO9PK3jp2AIe"
      },
      "source": [
        "## 8. String subsetting"
      ]
    },
    {
      "cell_type": "code",
      "execution_count": 62,
      "metadata": {
        "id": "z8soVuep2AIe",
        "colab": {
          "base_uri": "https://localhost:8080/",
          "height": 0
        },
        "outputId": "92cabf1f-61ea-413b-c9b6-5fe357ceca71"
      },
      "outputs": [
        {
          "output_type": "stream",
          "name": "stdout",
          "text": [
            "Hello World!\n"
          ]
        }
      ],
      "source": [
        "s = 'Hello World!'\n",
        "print(s)"
      ]
    },
    {
      "cell_type": "code",
      "execution_count": 63,
      "metadata": {
        "id": "p9e1KtYe2AIe",
        "colab": {
          "base_uri": "https://localhost:8080/",
          "height": 0
        },
        "outputId": "c1d10ac1-b4ff-484e-9ebd-261d057827b3"
      },
      "outputs": [
        {
          "output_type": "stream",
          "name": "stdout",
          "text": [
            "H\n"
          ]
        }
      ],
      "source": [
        "print(s[0])       # Prints first character of the string"
      ]
    },
    {
      "cell_type": "code",
      "execution_count": 64,
      "metadata": {
        "id": "qhhNGnBR2AIe",
        "colab": {
          "base_uri": "https://localhost:8080/",
          "height": 0
        },
        "outputId": "c0915a64-dc38-4ab7-fd93-a9578a57a940"
      },
      "outputs": [
        {
          "output_type": "stream",
          "name": "stdout",
          "text": [
            "llo\n"
          ]
        }
      ],
      "source": [
        "print(s[2:5])     # Prints characters starting index 2, not more than 5"
      ]
    },
    {
      "cell_type": "code",
      "execution_count": 65,
      "metadata": {
        "id": "KoAW9HaJ2AIe",
        "colab": {
          "base_uri": "https://localhost:8080/",
          "height": 0
        },
        "outputId": "9ea7c57c-7a9f-49a0-9204-e463334e619c"
      },
      "outputs": [
        {
          "output_type": "stream",
          "name": "stdout",
          "text": [
            "llo World!\n"
          ]
        }
      ],
      "source": [
        "print(s[2:])      # Prints string starting from 3rd character"
      ]
    },
    {
      "cell_type": "code",
      "execution_count": 66,
      "metadata": {
        "id": "XuNxcT4D2AIe",
        "colab": {
          "base_uri": "https://localhost:8080/",
          "height": 0
        },
        "outputId": "4163398e-0050-4193-b9a3-849a111515b1"
      },
      "outputs": [
        {
          "output_type": "stream",
          "name": "stdout",
          "text": [
            "d!\n"
          ]
        }
      ],
      "source": [
        "print(s[-2:])"
      ]
    },
    {
      "cell_type": "code",
      "execution_count": 67,
      "metadata": {
        "id": "3te-Uey82AIe",
        "colab": {
          "base_uri": "https://localhost:8080/",
          "height": 0
        },
        "outputId": "06dae94b-dd12-48b8-c632-549e7d7825ff"
      },
      "outputs": [
        {
          "output_type": "stream",
          "name": "stdout",
          "text": [
            "Hello World!Hello World!\n"
          ]
        }
      ],
      "source": [
        "print(s * 2)      # Prints string two times"
      ]
    },
    {
      "cell_type": "code",
      "execution_count": 68,
      "metadata": {
        "id": "zjrd_AhZ2AIf",
        "colab": {
          "base_uri": "https://localhost:8080/",
          "height": 0
        },
        "outputId": "dd8676ec-21be-4b04-c329-ff663ded3d1c"
      },
      "outputs": [
        {
          "output_type": "stream",
          "name": "stdout",
          "text": [
            "Hello World!TEST\n"
          ]
        }
      ],
      "source": [
        "print(s + \"TEST\") # Prints concatenated string"
      ]
    },
    {
      "cell_type": "markdown",
      "metadata": {
        "id": "nQmJX09h2AIf"
      },
      "source": [
        "## Challenge: subset the string\n",
        "Print the string \"I love Python\" by subsetting str1, str2 and str3."
      ]
    },
    {
      "cell_type": "code",
      "execution_count": 69,
      "metadata": {
        "id": "9Jn7G_Vq2AIf",
        "colab": {
          "base_uri": "https://localhost:8080/",
          "height": 0
        },
        "outputId": "1e676a7b-0709-4ea4-d25b-f060a98d8465"
      },
      "outputs": [
        {
          "output_type": "stream",
          "name": "stdout",
          "text": [
            "I love Python\n"
          ]
        }
      ],
      "source": [
        "str1 = \"Python Programming\"\n",
        "str2 = \"You and I\"\n",
        "str3 = \"What love is\"\n",
        "str_res = str2[-1]+ str3[4:10] + str1[:6]# work here\n",
        "print(str_res)"
      ]
    },
    {
      "cell_type": "code",
      "execution_count": 70,
      "metadata": {
        "id": "m09MngsrPJow",
        "colab": {
          "base_uri": "https://localhost:8080/",
          "height": 34
        },
        "outputId": "081ab381-948f-4e5f-84f4-127f0dcd0b23"
      },
      "outputs": [
        {
          "output_type": "execute_result",
          "data": {
            "text/plain": [
              "'Car: Honda Accord 2018'"
            ],
            "application/vnd.google.colaboratory.intrinsic+json": {
              "type": "string"
            }
          },
          "metadata": {},
          "execution_count": 70
        }
      ],
      "source": [
        "brand = 'Honda'\n",
        "model = 'Accord'\n",
        "year = '2018'\n",
        "f'Car: {brand} {model} {year}'"
      ]
    },
    {
      "cell_type": "markdown",
      "metadata": {
        "id": "kVmqB0Za2AIf"
      },
      "source": [
        "## 9. List subsetting"
      ]
    },
    {
      "cell_type": "code",
      "execution_count": 71,
      "metadata": {
        "id": "U6eqTpF92AIf",
        "colab": {
          "base_uri": "https://localhost:8080/",
          "height": 0
        },
        "outputId": "237161f4-4449-4987-b765-f44165b88fcf"
      },
      "outputs": [
        {
          "output_type": "stream",
          "name": "stdout",
          "text": [
            "['abcd', 786, 2.23, 'john', 70.2]\n"
          ]
        }
      ],
      "source": [
        "longlist = [ 'abcd', 786 , 2.23, 'john', 70.2 ]\n",
        "tinylist = [123, 'john']\n",
        "\n",
        "print(longlist)             # Prints complete list"
      ]
    },
    {
      "cell_type": "code",
      "execution_count": 72,
      "metadata": {
        "id": "MTvYWc8r2AIf",
        "colab": {
          "base_uri": "https://localhost:8080/",
          "height": 0
        },
        "outputId": "f9c88195-1ebf-40da-879f-9d7b76e0bb61"
      },
      "outputs": [
        {
          "output_type": "stream",
          "name": "stdout",
          "text": [
            "abcd\n"
          ]
        }
      ],
      "source": [
        "print(longlist[0])          # Prints first element of the list"
      ]
    },
    {
      "cell_type": "code",
      "execution_count": 73,
      "metadata": {
        "id": "eljxhnt52AIf",
        "colab": {
          "base_uri": "https://localhost:8080/",
          "height": 0
        },
        "outputId": "b37c51ac-74a9-4823-82c9-ce24af042baf"
      },
      "outputs": [
        {
          "output_type": "stream",
          "name": "stdout",
          "text": [
            "[786, 2.23]\n"
          ]
        }
      ],
      "source": [
        "print(longlist[1:3])        # Prints elements starting from 2nd till 3rd"
      ]
    },
    {
      "cell_type": "code",
      "execution_count": 74,
      "metadata": {
        "id": "xRZKAlmg2AIg",
        "colab": {
          "base_uri": "https://localhost:8080/",
          "height": 0
        },
        "outputId": "87d4c985-bb95-48d2-90df-6714ac6ba7c3"
      },
      "outputs": [
        {
          "output_type": "stream",
          "name": "stdout",
          "text": [
            "[2.23, 'john', 70.2]\n"
          ]
        }
      ],
      "source": [
        "print(longlist[2:])         # Prints elements starting from 3rd element"
      ]
    },
    {
      "cell_type": "code",
      "execution_count": 77,
      "metadata": {
        "id": "ZwBxz_D52AIg",
        "colab": {
          "base_uri": "https://localhost:8080/",
          "height": 0
        },
        "outputId": "5fcbba9d-5aee-4f00-8743-ecd13086cfac"
      },
      "outputs": [
        {
          "output_type": "execute_result",
          "data": {
            "text/plain": [
              "70.2"
            ]
          },
          "metadata": {},
          "execution_count": 77
        }
      ],
      "source": [
        "longlist[-1] #Last Element"
      ]
    },
    {
      "cell_type": "code",
      "execution_count": 76,
      "metadata": {
        "id": "_IuYYVwx2AIg",
        "colab": {
          "base_uri": "https://localhost:8080/",
          "height": 0
        },
        "outputId": "c63f8721-dbf4-41ea-eff2-58d40beaaf42"
      },
      "outputs": [
        {
          "output_type": "stream",
          "name": "stdout",
          "text": [
            "[123, 'john', 123, 'john']\n"
          ]
        }
      ],
      "source": [
        "print(tinylist * 2)     # Prints list two times"
      ]
    },
    {
      "cell_type": "code",
      "execution_count": 78,
      "metadata": {
        "id": "UzUN3Atg2AIg",
        "colab": {
          "base_uri": "https://localhost:8080/",
          "height": 0
        },
        "outputId": "cbad10c9-320f-449c-b471-911d7b83a128"
      },
      "outputs": [
        {
          "output_type": "stream",
          "name": "stdout",
          "text": [
            "['abcd', 786, 2.23, 'john', 70.2, 123, 'john']\n"
          ]
        }
      ],
      "source": [
        "print(longlist + tinylist)  # Prints concatenated lists"
      ]
    },
    {
      "cell_type": "code",
      "execution_count": 79,
      "metadata": {
        "id": "noHrGQq02AIg",
        "colab": {
          "base_uri": "https://localhost:8080/",
          "height": 0
        },
        "outputId": "0ef37733-4d8b-45bd-fc3e-c999ee4c0336"
      },
      "outputs": [
        {
          "output_type": "execute_result",
          "data": {
            "text/plain": [
              "[[1, 2], [3, 4]]"
            ]
          },
          "metadata": {},
          "execution_count": 79
        }
      ],
      "source": [
        "A = [[1,2],[3,4]]\n",
        "A"
      ]
    },
    {
      "cell_type": "code",
      "execution_count": 80,
      "metadata": {
        "id": "8fJHXIVcQwZz",
        "colab": {
          "base_uri": "https://localhost:8080/",
          "height": 0
        },
        "outputId": "8d3229dc-7c0e-4a51-aea3-9a4d93754d45"
      },
      "outputs": [
        {
          "output_type": "execute_result",
          "data": {
            "text/plain": [
              "[0, [1, 2, 3, [4, 5]]]"
            ]
          },
          "metadata": {},
          "execution_count": 80
        }
      ],
      "source": [
        "[0, [1, 2, 3, [4, 5]]]"
      ]
    },
    {
      "cell_type": "code",
      "execution_count": 81,
      "metadata": {
        "id": "Rq_Gn8d32AIh",
        "colab": {
          "base_uri": "https://localhost:8080/",
          "height": 0
        },
        "outputId": "c6b3d89b-f157-4027-e636-f52e5eb52396"
      },
      "outputs": [
        {
          "output_type": "execute_result",
          "data": {
            "text/plain": [
              "[[1, 2], [3, 4], 5]"
            ]
          },
          "metadata": {},
          "execution_count": 81
        }
      ],
      "source": [
        "A + [5]"
      ]
    },
    {
      "cell_type": "code",
      "execution_count": 82,
      "metadata": {
        "id": "vovC0wz02AIh"
      },
      "outputs": [],
      "source": [
        "B = []"
      ]
    },
    {
      "cell_type": "code",
      "execution_count": 83,
      "metadata": {
        "id": "4cav3ElEQ7EC",
        "colab": {
          "base_uri": "https://localhost:8080/",
          "height": 0
        },
        "outputId": "4b3bd16a-9e40-4b09-c76e-2bd5bef8f59a"
      },
      "outputs": [
        {
          "output_type": "execute_result",
          "data": {
            "text/plain": [
              "[]"
            ]
          },
          "metadata": {},
          "execution_count": 83
        }
      ],
      "source": [
        "B"
      ]
    },
    {
      "cell_type": "code",
      "execution_count": 84,
      "metadata": {
        "id": "c8AVVaXV2AIh"
      },
      "outputs": [],
      "source": [
        "x = list()"
      ]
    },
    {
      "cell_type": "code",
      "execution_count": 85,
      "metadata": {
        "id": "htTSK-Qu2AIh"
      },
      "outputs": [],
      "source": [
        "x.append([1])"
      ]
    },
    {
      "cell_type": "code",
      "execution_count": 86,
      "metadata": {
        "id": "HUzm5SUM2AIh",
        "colab": {
          "base_uri": "https://localhost:8080/",
          "height": 0
        },
        "outputId": "3a0a160b-7103-4c1b-a671-856c34dbfafe"
      },
      "outputs": [
        {
          "output_type": "execute_result",
          "data": {
            "text/plain": [
              "[[1]]"
            ]
          },
          "metadata": {},
          "execution_count": 86
        }
      ],
      "source": [
        "x"
      ]
    },
    {
      "cell_type": "code",
      "execution_count": 87,
      "metadata": {
        "id": "hbTOvrWC2AIi"
      },
      "outputs": [],
      "source": [
        "# x = x + [2]\n",
        "x += [2]"
      ]
    },
    {
      "cell_type": "code",
      "execution_count": 87,
      "metadata": {
        "id": "Kf6BEktbRczh"
      },
      "outputs": [],
      "source": []
    },
    {
      "cell_type": "code",
      "execution_count": 88,
      "metadata": {
        "id": "H0GAdStV2AIi",
        "colab": {
          "base_uri": "https://localhost:8080/",
          "height": 0
        },
        "outputId": "58477571-e5da-40e5-8d25-c14a387cd165"
      },
      "outputs": [
        {
          "output_type": "execute_result",
          "data": {
            "text/plain": [
              "1"
            ]
          },
          "metadata": {},
          "execution_count": 88
        }
      ],
      "source": [
        "x.count(2)"
      ]
    },
    {
      "cell_type": "markdown",
      "metadata": {
        "id": "ULbc8SMz2AIi"
      },
      "source": [
        "## Challenge: list operation\n",
        "Use the following variables x, y, and z to combine to get the final list.\n",
        "\n",
        "[1, 2, 3, 4, 5, 6, 7, 8]"
      ]
    },
    {
      "cell_type": "code",
      "execution_count": 89,
      "metadata": {
        "id": "LfqU64lI2AIi"
      },
      "outputs": [],
      "source": [
        "x = [1, 2, 3, 4]\n",
        "y = 5\n",
        "z = [6, 7, [8]]"
      ]
    },
    {
      "cell_type": "code",
      "execution_count": 90,
      "metadata": {
        "id": "KCGzqWs52AIi",
        "colab": {
          "base_uri": "https://localhost:8080/",
          "height": 0
        },
        "outputId": "d88953a4-0bbe-468a-807b-06dc86f7b65e"
      },
      "outputs": [
        {
          "output_type": "execute_result",
          "data": {
            "text/plain": [
              "[1, 2, 3, 4, 5, 6, 7, 8]"
            ]
          },
          "metadata": {},
          "execution_count": 90
        }
      ],
      "source": [
        "# work here\n",
        "x + [y] + z[:2] + z[-1]"
      ]
    },
    {
      "cell_type": "markdown",
      "metadata": {
        "id": "YvU25mvs2AIi"
      },
      "source": [
        "## 10. Tuple subsetting"
      ]
    },
    {
      "cell_type": "code",
      "execution_count": 91,
      "metadata": {
        "id": "o8m-vYXY2AIi",
        "colab": {
          "base_uri": "https://localhost:8080/",
          "height": 0
        },
        "outputId": "e0343928-7650-4d06-9902-2fe80bcd08d2"
      },
      "outputs": [
        {
          "output_type": "stream",
          "name": "stdout",
          "text": [
            "('abcd', 786, 2.23, 'john', 70.2)\n"
          ]
        }
      ],
      "source": [
        "longtuple = ( 'abcd', 786 , 2.23, 'john', 70.2  )\n",
        "tinytuple = (123, 'john')\n",
        "\n",
        "print(longtuple)            # Prints complete list"
      ]
    },
    {
      "cell_type": "code",
      "execution_count": 92,
      "metadata": {
        "id": "Ia6ls5dZ2AIj",
        "colab": {
          "base_uri": "https://localhost:8080/",
          "height": 0
        },
        "outputId": "bdc5457e-844a-49e5-dc3d-157f17434d73"
      },
      "outputs": [
        {
          "output_type": "stream",
          "name": "stdout",
          "text": [
            "abcd\n"
          ]
        }
      ],
      "source": [
        "print(longtuple[0])         # Prints first element of the list"
      ]
    },
    {
      "cell_type": "code",
      "execution_count": 93,
      "metadata": {
        "id": "F9LDtelK2AIj",
        "colab": {
          "base_uri": "https://localhost:8080/",
          "height": 0
        },
        "outputId": "118d06a6-03eb-4f95-ca09-8f4f684c896b"
      },
      "outputs": [
        {
          "output_type": "stream",
          "name": "stdout",
          "text": [
            "(786, 2.23)\n"
          ]
        }
      ],
      "source": [
        "print(longtuple[1:3])       # Prints elements starting from 2nd till 3rd"
      ]
    },
    {
      "cell_type": "code",
      "execution_count": 94,
      "metadata": {
        "id": "aPr57noZ2AIj",
        "colab": {
          "base_uri": "https://localhost:8080/",
          "height": 0
        },
        "outputId": "9ff31d9f-1658-48d7-b11c-05cbe70b3cbf"
      },
      "outputs": [
        {
          "output_type": "stream",
          "name": "stdout",
          "text": [
            "(2.23, 'john', 70.2)\n"
          ]
        }
      ],
      "source": [
        "print(longtuple[2:])        # Prints elements starting from 3rd element"
      ]
    },
    {
      "cell_type": "code",
      "execution_count": 95,
      "metadata": {
        "id": "B5et-X-q2AIj",
        "colab": {
          "base_uri": "https://localhost:8080/",
          "height": 0
        },
        "outputId": "870030eb-1d1b-4126-c8f8-262fa2a9bd59"
      },
      "outputs": [
        {
          "output_type": "stream",
          "name": "stdout",
          "text": [
            "(123, 'john', 123, 'john')\n"
          ]
        }
      ],
      "source": [
        "print(tinytuple * 2)    # Prints list two times"
      ]
    },
    {
      "cell_type": "code",
      "execution_count": 96,
      "metadata": {
        "id": "PujoYSLi2AIj",
        "colab": {
          "base_uri": "https://localhost:8080/",
          "height": 0
        },
        "outputId": "be82a6d0-5384-40d9-a5eb-b79c7d9d620a"
      },
      "outputs": [
        {
          "output_type": "stream",
          "name": "stdout",
          "text": [
            "('abcd', 786, 2.23, 'john', 70.2, 123, 'john')\n"
          ]
        }
      ],
      "source": [
        "print(longtuple + tinytuple)# Prints concatenated lists"
      ]
    },
    {
      "cell_type": "code",
      "execution_count": 97,
      "metadata": {
        "id": "6SXU9spA2AIj",
        "colab": {
          "base_uri": "https://localhost:8080/",
          "height": 176
        },
        "outputId": "a3d3e135-0eaf-4cfb-b8aa-1c0473fa5f58"
      },
      "outputs": [
        {
          "output_type": "error",
          "ename": "TypeError",
          "evalue": "can only concatenate tuple (not \"list\") to tuple",
          "traceback": [
            "\u001b[0;31m---------------------------------------------------------------------------\u001b[0m",
            "\u001b[0;31mTypeError\u001b[0m                                 Traceback (most recent call last)",
            "\u001b[0;32m<ipython-input-97-d7139a8af3c9>\u001b[0m in \u001b[0;36m<cell line: 1>\u001b[0;34m()\u001b[0m\n\u001b[0;32m----> 1\u001b[0;31m \u001b[0mlongtuple\u001b[0m \u001b[0;34m+\u001b[0m \u001b[0mtinylist\u001b[0m\u001b[0;34m\u001b[0m\u001b[0;34m\u001b[0m\u001b[0m\n\u001b[0m",
            "\u001b[0;31mTypeError\u001b[0m: can only concatenate tuple (not \"list\") to tuple"
          ]
        }
      ],
      "source": [
        "longtuple + tinylist"
      ]
    },
    {
      "cell_type": "markdown",
      "metadata": {
        "id": "fgD9I7nw2AIk"
      },
      "source": [
        "## 11. Invalid tuple"
      ]
    },
    {
      "cell_type": "code",
      "execution_count": 98,
      "metadata": {
        "id": "HHBeQ9PK2AIk",
        "colab": {
          "base_uri": "https://localhost:8080/",
          "height": 211
        },
        "outputId": "83cac6ad-8612-4d6c-8ce5-3b5e88c0e70c"
      },
      "outputs": [
        {
          "output_type": "error",
          "ename": "TypeError",
          "evalue": "'tuple' object does not support item assignment",
          "traceback": [
            "\u001b[0;31m---------------------------------------------------------------------------\u001b[0m",
            "\u001b[0;31mTypeError\u001b[0m                                 Traceback (most recent call last)",
            "\u001b[0;32m<ipython-input-98-95c07df17f02>\u001b[0m in \u001b[0;36m<cell line: 3>\u001b[0;34m()\u001b[0m\n\u001b[1;32m      1\u001b[0m \u001b[0mx\u001b[0m \u001b[0;34m=\u001b[0m \u001b[0;34m(\u001b[0m \u001b[0;34m'abcd'\u001b[0m\u001b[0;34m,\u001b[0m \u001b[0;36m786\u001b[0m \u001b[0;34m,\u001b[0m \u001b[0;36m2.23\u001b[0m\u001b[0;34m,\u001b[0m \u001b[0;34m'john'\u001b[0m\u001b[0;34m,\u001b[0m \u001b[0;36m70.2\u001b[0m  \u001b[0;34m)\u001b[0m\u001b[0;34m\u001b[0m\u001b[0;34m\u001b[0m\u001b[0m\n\u001b[1;32m      2\u001b[0m \u001b[0my\u001b[0m \u001b[0;34m=\u001b[0m \u001b[0;34m[\u001b[0m \u001b[0;34m'abcd'\u001b[0m\u001b[0;34m,\u001b[0m \u001b[0;36m786\u001b[0m \u001b[0;34m,\u001b[0m \u001b[0;36m2.23\u001b[0m\u001b[0;34m,\u001b[0m \u001b[0;34m'john'\u001b[0m\u001b[0;34m,\u001b[0m \u001b[0;36m70.2\u001b[0m  \u001b[0;34m]\u001b[0m\u001b[0;34m\u001b[0m\u001b[0;34m\u001b[0m\u001b[0m\n\u001b[0;32m----> 3\u001b[0;31m \u001b[0mx\u001b[0m\u001b[0;34m[\u001b[0m\u001b[0;36m2\u001b[0m\u001b[0;34m]\u001b[0m \u001b[0;34m=\u001b[0m \u001b[0;36m1000\u001b[0m    \u001b[0;31m# Invalid syntax with tuple\u001b[0m\u001b[0;34m\u001b[0m\u001b[0;34m\u001b[0m\u001b[0m\n\u001b[0m",
            "\u001b[0;31mTypeError\u001b[0m: 'tuple' object does not support item assignment"
          ]
        }
      ],
      "source": [
        "x = ( 'abcd', 786 , 2.23, 'john', 70.2  )\n",
        "y = [ 'abcd', 786 , 2.23, 'john', 70.2  ]\n",
        "x[2] = 1000    # Invalid syntax with tuple"
      ]
    },
    {
      "cell_type": "code",
      "execution_count": 99,
      "metadata": {
        "id": "ADaNl4u_2AIk",
        "colab": {
          "base_uri": "https://localhost:8080/",
          "height": 0
        },
        "outputId": "5822b29b-6b19-49d7-87ab-23d4f715ec5b"
      },
      "outputs": [
        {
          "output_type": "stream",
          "name": "stdout",
          "text": [
            "('abcd', 786, 2.23, 'john', 70.2)\n",
            "['abcd', 786, 1000, 'john', 70.2]\n"
          ]
        }
      ],
      "source": [
        "y[2] = 1000     # Valid syntax with list\n",
        "print(x)\n",
        "print(y)"
      ]
    },
    {
      "cell_type": "markdown",
      "metadata": {
        "id": "MJpnLyBU2AIk"
      },
      "source": [
        "## 12. Dictionary operations"
      ]
    },
    {
      "cell_type": "code",
      "execution_count": 100,
      "metadata": {
        "id": "1V0WZFPs2AIk"
      },
      "outputs": [],
      "source": [
        "d = {} #dict\n",
        "d1 = dict()\n",
        "d['one'] = \"This is one\"\n",
        "d[2]     = \"This is two\"\n",
        "\n",
        "tinydict = {'name': 'john','code':6734, 'dept': 'sales'}"
      ]
    },
    {
      "cell_type": "code",
      "execution_count": 101,
      "metadata": {
        "id": "VVNnFf4L2AIk",
        "colab": {
          "base_uri": "https://localhost:8080/",
          "height": 0
        },
        "outputId": "e3c3421f-86d3-407e-cc9e-301b9d7b3819"
      },
      "outputs": [
        {
          "output_type": "execute_result",
          "data": {
            "text/plain": [
              "{'one': 'This is one', 2: 'This is two'}"
            ]
          },
          "metadata": {},
          "execution_count": 101
        }
      ],
      "source": [
        "d"
      ]
    },
    {
      "cell_type": "code",
      "execution_count": 102,
      "metadata": {
        "id": "HnqbrdH92AIl",
        "colab": {
          "base_uri": "https://localhost:8080/",
          "height": 0
        },
        "outputId": "e8359d7f-33cf-41fc-9ede-9cee21b49206"
      },
      "outputs": [
        {
          "output_type": "stream",
          "name": "stdout",
          "text": [
            "This is one\n"
          ]
        }
      ],
      "source": [
        "print(d['one'])       # Prints value for 'one' key"
      ]
    },
    {
      "cell_type": "code",
      "execution_count": 103,
      "metadata": {
        "id": "3GAj5onn2AIl",
        "colab": {
          "base_uri": "https://localhost:8080/",
          "height": 0
        },
        "outputId": "fe9d6f36-1e7f-4609-a4bf-0958f4ff01e7"
      },
      "outputs": [
        {
          "output_type": "stream",
          "name": "stdout",
          "text": [
            "This is two\n"
          ]
        }
      ],
      "source": [
        "print(d[2])           # Prints value for 2 key"
      ]
    },
    {
      "cell_type": "code",
      "execution_count": 104,
      "metadata": {
        "id": "WxO8L_ny2AIl",
        "colab": {
          "base_uri": "https://localhost:8080/",
          "height": 0
        },
        "outputId": "69f8603b-35ff-477f-fa4a-6faf5cc2ff65"
      },
      "outputs": [
        {
          "output_type": "stream",
          "name": "stdout",
          "text": [
            "{'name': 'john', 'code': 6734, 'dept': 'sales'}\n"
          ]
        }
      ],
      "source": [
        "print(tinydict)          # Prints complete dictionary"
      ]
    },
    {
      "cell_type": "code",
      "execution_count": 105,
      "metadata": {
        "id": "D5da3IWs2AIl",
        "colab": {
          "base_uri": "https://localhost:8080/",
          "height": 0
        },
        "outputId": "1f3820bf-c823-4eee-dbee-a888a0764efc"
      },
      "outputs": [
        {
          "output_type": "stream",
          "name": "stdout",
          "text": [
            "dict_keys(['name', 'code', 'dept'])\n"
          ]
        }
      ],
      "source": [
        "print(tinydict.keys())   # Prints all the keys"
      ]
    },
    {
      "cell_type": "code",
      "execution_count": 106,
      "metadata": {
        "id": "nWwYOiIF2AIl",
        "colab": {
          "base_uri": "https://localhost:8080/",
          "height": 0
        },
        "outputId": "c901132d-fcc6-4c00-b4cc-6845bd5011fd"
      },
      "outputs": [
        {
          "output_type": "stream",
          "name": "stdout",
          "text": [
            "dict_values(['john', 6734, 'sales'])\n"
          ]
        }
      ],
      "source": [
        "print(tinydict.values()) # Prints all the values"
      ]
    },
    {
      "cell_type": "code",
      "execution_count": 107,
      "metadata": {
        "id": "qQSg3EJs2AIm"
      },
      "outputs": [],
      "source": [
        "x = dict()"
      ]
    },
    {
      "cell_type": "markdown",
      "metadata": {
        "id": "6zA9xLxO2AIm"
      },
      "source": [
        "## 13. Comparison"
      ]
    },
    {
      "cell_type": "code",
      "execution_count": 108,
      "metadata": {
        "id": "V82cWDcT2AIm",
        "colab": {
          "base_uri": "https://localhost:8080/",
          "height": 0
        },
        "outputId": "b13d6ff8-c0ab-4082-b4c7-59e2b8abb85f"
      },
      "outputs": [
        {
          "output_type": "execute_result",
          "data": {
            "text/plain": [
              "True"
            ]
          },
          "metadata": {},
          "execution_count": 108
        }
      ],
      "source": [
        "True"
      ]
    },
    {
      "cell_type": "code",
      "execution_count": 109,
      "metadata": {
        "id": "_l1ItMQyUiL8",
        "colab": {
          "base_uri": "https://localhost:8080/",
          "height": 0
        },
        "outputId": "0eaf4559-868a-40ce-addb-7dcace25c469"
      },
      "outputs": [
        {
          "output_type": "execute_result",
          "data": {
            "text/plain": [
              "False"
            ]
          },
          "metadata": {},
          "execution_count": 109
        }
      ],
      "source": [
        "False"
      ]
    },
    {
      "cell_type": "code",
      "execution_count": 110,
      "metadata": {
        "id": "Wl990_rt2AIm",
        "colab": {
          "base_uri": "https://localhost:8080/",
          "height": 0
        },
        "outputId": "be2e422f-88e4-4fb3-e60d-4fd9731ddc7e"
      },
      "outputs": [
        {
          "output_type": "execute_result",
          "data": {
            "text/plain": [
              "False"
            ]
          },
          "metadata": {},
          "execution_count": 110
        }
      ],
      "source": [
        "not True"
      ]
    },
    {
      "cell_type": "code",
      "execution_count": 111,
      "metadata": {
        "id": "DnujEOoI2AIm",
        "colab": {
          "base_uri": "https://localhost:8080/",
          "height": 0
        },
        "outputId": "637c3017-0c00-4f6c-ac7c-a99710dbb951"
      },
      "outputs": [
        {
          "output_type": "execute_result",
          "data": {
            "text/plain": [
              "True"
            ]
          },
          "metadata": {},
          "execution_count": 111
        }
      ],
      "source": [
        "False or True"
      ]
    },
    {
      "cell_type": "code",
      "execution_count": 112,
      "metadata": {
        "id": "pgVNJrjP2AIn",
        "colab": {
          "base_uri": "https://localhost:8080/",
          "height": 0
        },
        "outputId": "9fd71da7-a44d-4d62-dcca-8bc48275dfbe"
      },
      "outputs": [
        {
          "output_type": "execute_result",
          "data": {
            "text/plain": [
              "False"
            ]
          },
          "metadata": {},
          "execution_count": 112
        }
      ],
      "source": [
        "False and True"
      ]
    },
    {
      "cell_type": "code",
      "execution_count": 113,
      "metadata": {
        "id": "usFVPtcD2AIn",
        "colab": {
          "base_uri": "https://localhost:8080/",
          "height": 0
        },
        "outputId": "1a5d6336-b65b-4cc1-f198-29688945bbbe"
      },
      "outputs": [
        {
          "output_type": "execute_result",
          "data": {
            "text/plain": [
              "False"
            ]
          },
          "metadata": {},
          "execution_count": 113
        }
      ],
      "source": [
        "1 > 1"
      ]
    },
    {
      "cell_type": "code",
      "execution_count": 114,
      "metadata": {
        "id": "yiWW6loS2AIn",
        "colab": {
          "base_uri": "https://localhost:8080/",
          "height": 176
        },
        "outputId": "40efeae8-31e2-4c58-b636-5330e98d238f"
      },
      "outputs": [
        {
          "output_type": "error",
          "ename": "TypeError",
          "evalue": "'>' not supported between instances of 'int' and 'str'",
          "traceback": [
            "\u001b[0;31m---------------------------------------------------------------------------\u001b[0m",
            "\u001b[0;31mTypeError\u001b[0m                                 Traceback (most recent call last)",
            "\u001b[0;32m<ipython-input-114-3f7a524c906d>\u001b[0m in \u001b[0;36m<cell line: 1>\u001b[0;34m()\u001b[0m\n\u001b[0;32m----> 1\u001b[0;31m \u001b[0;36m1\u001b[0m \u001b[0;34m>\u001b[0m \u001b[0;34m\"1\"\u001b[0m\u001b[0;34m\u001b[0m\u001b[0;34m\u001b[0m\u001b[0m\n\u001b[0m",
            "\u001b[0;31mTypeError\u001b[0m: '>' not supported between instances of 'int' and 'str'"
          ]
        }
      ],
      "source": [
        "1 > \"1\""
      ]
    },
    {
      "cell_type": "code",
      "execution_count": 115,
      "metadata": {
        "id": "8Sez7OD72AIn",
        "colab": {
          "base_uri": "https://localhost:8080/",
          "height": 0
        },
        "outputId": "d53c4dbd-2cc7-4732-a5ca-3243e547214d"
      },
      "outputs": [
        {
          "output_type": "execute_result",
          "data": {
            "text/plain": [
              "True"
            ]
          },
          "metadata": {},
          "execution_count": 115
        }
      ],
      "source": [
        "(2,2,3) > (2,1,4) # partial ordering"
      ]
    },
    {
      "cell_type": "code",
      "execution_count": 116,
      "metadata": {
        "id": "8_Mtq07_2AIn",
        "colab": {
          "base_uri": "https://localhost:8080/",
          "height": 0
        },
        "outputId": "7cb88a4b-ddc1-4fb4-8b0e-13bc812a5a1f"
      },
      "outputs": [
        {
          "output_type": "execute_result",
          "data": {
            "text/plain": [
              "False"
            ]
          },
          "metadata": {},
          "execution_count": 116
        }
      ],
      "source": [
        "[3,3] <= [2,2]"
      ]
    },
    {
      "cell_type": "code",
      "execution_count": 117,
      "metadata": {
        "id": "CZ6FpSRN2AIo",
        "colab": {
          "base_uri": "https://localhost:8080/",
          "height": 0
        },
        "outputId": "1b9e557e-17f7-4caf-8358-b02646925c1c"
      },
      "outputs": [
        {
          "output_type": "execute_result",
          "data": {
            "text/plain": [
              "True"
            ]
          },
          "metadata": {},
          "execution_count": 117
        }
      ],
      "source": [
        "1 > 2 or 3 > 2"
      ]
    },
    {
      "cell_type": "code",
      "execution_count": 118,
      "metadata": {
        "id": "Jh0S1c1Z2AIo",
        "colab": {
          "base_uri": "https://localhost:8080/",
          "height": 0
        },
        "outputId": "80a57f25-a159-4e69-fe54-c8b491037faf"
      },
      "outputs": [
        {
          "output_type": "execute_result",
          "data": {
            "text/plain": [
              "True"
            ]
          },
          "metadata": {},
          "execution_count": 118
        }
      ],
      "source": [
        "1 < 2 < 3"
      ]
    },
    {
      "cell_type": "markdown",
      "metadata": {
        "id": "ATrlNoWn2AIo"
      },
      "source": [
        "## 14. Type conversion"
      ]
    },
    {
      "cell_type": "code",
      "execution_count": 119,
      "metadata": {
        "id": "BidCdmjQ2AIo",
        "colab": {
          "base_uri": "https://localhost:8080/",
          "height": 0
        },
        "outputId": "d0342048-d7e0-4531-c773-26ff6c6615ab"
      },
      "outputs": [
        {
          "output_type": "stream",
          "name": "stdout",
          "text": [
            "Hello123\n"
          ]
        }
      ],
      "source": [
        "x = \"Hello\"\n",
        "y = 123\n",
        "print(x+str(y))"
      ]
    },
    {
      "cell_type": "code",
      "execution_count": 120,
      "metadata": {
        "id": "YiJBqj6o2AIo",
        "colab": {
          "base_uri": "https://localhost:8080/",
          "height": 0
        },
        "outputId": "ae47f993-6d7b-4473-87ab-6932ba4ddc07"
      },
      "outputs": [
        {
          "output_type": "stream",
          "name": "stdout",
          "text": [
            "['H', 'e', 'l', 'l', 'o']\n"
          ]
        }
      ],
      "source": [
        "print(list(x))"
      ]
    },
    {
      "cell_type": "code",
      "execution_count": 121,
      "metadata": {
        "id": "z4C87Fj82AIo",
        "colab": {
          "base_uri": "https://localhost:8080/",
          "height": 0
        },
        "outputId": "3f2ebde1-fbe9-43d0-b929-1abf8ad00aea"
      },
      "outputs": [
        {
          "output_type": "execute_result",
          "data": {
            "text/plain": [
              "(123,)"
            ]
          },
          "metadata": {},
          "execution_count": 121
        }
      ],
      "source": [
        "tuple([y])"
      ]
    },
    {
      "cell_type": "markdown",
      "metadata": {
        "id": "t9JAtfy42AIp"
      },
      "source": [
        "## Challenge: dictionary\n",
        "Create a dictionary with the following information and print the key and value<br/>\n",
        "THB: Thai Baht<br/>\n",
        "GBP: Great British Pound<br/>\n",
        "JPY: Japanese Yen"
      ]
    },
    {
      "cell_type": "code",
      "execution_count": 122,
      "metadata": {
        "id": "r6WrT06b2AIp",
        "colab": {
          "base_uri": "https://localhost:8080/",
          "height": 34
        },
        "outputId": "ec988655-2ce9-4610-817e-89302717d2a6"
      },
      "outputs": [
        {
          "output_type": "execute_result",
          "data": {
            "text/plain": [
              "'Thai Baht'"
            ],
            "application/vnd.google.colaboratory.intrinsic+json": {
              "type": "string"
            }
          },
          "metadata": {},
          "execution_count": 122
        }
      ],
      "source": [
        "# Work on the challenge in this area\n",
        "unit = {'THB':'Thai Baht',\n",
        "        'GBP':'Great British Pound',\n",
        "        'JPY':'Japanese Yen'}\n",
        "unit['THB']"
      ]
    },
    {
      "cell_type": "markdown",
      "metadata": {
        "id": "m7pjVP7H2AIp"
      },
      "source": [
        "## Activity: Using web API to obtian data\n",
        "\n",
        "In this activity, we will use the package **requests** to get the API response. The package can be used after importing it to the current kernel by using the command \"<font color='green'>**import**</font> requests\". After obtaining the response (JSON format, Python Dictionary), write your code to answer the following questions"
      ]
    },
    {
      "cell_type": "code",
      "execution_count": 123,
      "metadata": {
        "id": "47HzfHFk2AIp",
        "colab": {
          "base_uri": "https://localhost:8080/",
          "height": 0
        },
        "outputId": "807e05cd-8272-4c03-c0ad-591d3f264933"
      },
      "outputs": [
        {
          "output_type": "stream",
          "name": "stdout",
          "text": [
            "[{'id': 'bitcoin', 'symbol': 'btc', 'name': 'Bitcoin', 'image': 'https://assets.coingecko.com/coins/images/1/large/bitcoin.png?1696501400', 'current_price': 42365, 'market_cap': 830056440968, 'market_cap_rank': 1, 'fully_diluted_valuation': 888834064145, 'total_volume': 13680664375, 'high_24h': 42743, 'low_24h': 41750, 'price_change_24h': 580.57, 'price_change_percentage_24h': 1.38946, 'market_cap_change_24h': 10178363134, 'market_cap_change_percentage_24h': 1.24145, 'circulating_supply': 19611293.0, 'total_supply': 21000000.0, 'max_supply': 21000000.0, 'ath': 69045, 'ath_change_percentage': -38.77496, 'ath_date': '2021-11-10T14:24:11.849Z', 'atl': 67.81, 'atl_change_percentage': 62240.81797, 'atl_date': '2013-07-06T00:00:00.000Z', 'roi': None, 'last_updated': '2024-01-28T15:16:31.783Z'}, {'id': 'ethereum', 'symbol': 'eth', 'name': 'Ethereum', 'image': 'https://assets.coingecko.com/coins/images/279/large/ethereum.png?1696501628', 'current_price': 2272.86, 'market_cap': 273004453349, 'market_cap_rank': 2, 'fully_diluted_valuation': 273004453349, 'total_volume': 6339633935, 'high_24h': 2302.02, 'low_24h': 2263.35, 'price_change_24h': 2.86, 'price_change_percentage_24h': 0.12588, 'market_cap_change_24h': -25881449.58694458, 'market_cap_change_percentage_24h': -0.00948, 'circulating_supply': 120181248.371207, 'total_supply': 120181248.371207, 'max_supply': None, 'ath': 4878.26, 'ath_change_percentage': -53.53587, 'ath_date': '2021-11-10T14:24:19.604Z', 'atl': 0.432979, 'atl_change_percentage': 523399.30057, 'atl_date': '2015-10-20T00:00:00.000Z', 'roi': {'times': 70.7378812471397, 'currency': 'btc', 'percentage': 7073.788124713969}, 'last_updated': '2024-01-28T15:16:47.437Z'}, {'id': 'tether', 'symbol': 'usdt', 'name': 'Tether', 'image': 'https://assets.coingecko.com/coins/images/325/large/Tether.png?1696501661', 'current_price': 1.0, 'market_cap': 96010610015, 'market_cap_rank': 3, 'fully_diluted_valuation': 96010610015, 'total_volume': 20584135558, 'high_24h': 1.004, 'low_24h': 0.998729, 'price_change_24h': 0.00019153, 'price_change_percentage_24h': 0.01915, 'market_cap_change_24h': -58378499.314208984, 'market_cap_change_percentage_24h': -0.06077, 'circulating_supply': 96036749591.5366, 'total_supply': 96036749591.5366, 'max_supply': None, 'ath': 1.32, 'ath_change_percentage': -24.46119, 'ath_date': '2018-07-24T00:00:00.000Z', 'atl': 0.572521, 'atl_change_percentage': 74.57009, 'atl_date': '2015-03-02T00:00:00.000Z', 'roi': None, 'last_updated': '2024-01-28T15:15:13.242Z'}, {'id': 'binancecoin', 'symbol': 'bnb', 'name': 'BNB', 'image': 'https://assets.coingecko.com/coins/images/825/large/bnb-icon2_2x.png?1696501970', 'current_price': 306.92, 'market_cap': 47180206671, 'market_cap_rank': 4, 'fully_diluted_valuation': 47180206671, 'total_volume': 532944093, 'high_24h': 308.75, 'low_24h': 303.0, 'price_change_24h': 3.12, 'price_change_percentage_24h': 1.02543, 'market_cap_change_24h': 384806453, 'market_cap_change_percentage_24h': 0.82232, 'circulating_supply': 153856150.0, 'total_supply': 153856150.0, 'max_supply': 200000000.0, 'ath': 686.31, 'ath_change_percentage': -55.40065, 'ath_date': '2021-05-10T07:24:17.097Z', 'atl': 0.0398177, 'atl_change_percentage': 768624.19776, 'atl_date': '2017-10-19T00:00:00.000Z', 'roi': None, 'last_updated': '2024-01-28T15:16:30.024Z'}, {'id': 'solana', 'symbol': 'sol', 'name': 'Solana', 'image': 'https://assets.coingecko.com/coins/images/4128/large/solana.png?1696504756', 'current_price': 97.38, 'market_cap': 42186392338, 'market_cap_rank': 5, 'fully_diluted_valuation': 55312477209, 'total_volume': 2173657246, 'high_24h': 99.19, 'low_24h': 92.44, 'price_change_24h': 4.77, 'price_change_percentage_24h': 5.15159, 'market_cap_change_24h': 2011221100, 'market_cap_change_percentage_24h': 5.00613, 'circulating_supply': 433380084.390521, 'total_supply': 568224128.970358, 'max_supply': None, 'ath': 259.96, 'ath_change_percentage': -62.7583, 'ath_date': '2021-11-06T21:54:35.825Z', 'atl': 0.500801, 'atl_change_percentage': 19231.66951, 'atl_date': '2020-05-11T19:35:23.449Z', 'roi': None, 'last_updated': '2024-01-28T15:16:33.836Z'}, {'id': 'ripple', 'symbol': 'xrp', 'name': 'XRP', 'image': 'https://assets.coingecko.com/coins/images/44/large/xrp-symbol-white-128.png?1696501442', 'current_price': 0.529753, 'market_cap': 28788788988, 'market_cap_rank': 6, 'fully_diluted_valuation': 52938997549, 'total_volume': 420263125, 'high_24h': 0.53558, 'low_24h': 0.528239, 'price_change_24h': 1.792e-05, 'price_change_percentage_24h': 0.00338, 'market_cap_change_24h': -15917767.741088867, 'market_cap_change_percentage_24h': -0.05526, 'circulating_supply': 54374512255.0, 'total_supply': 99987956150.0, 'max_supply': 100000000000.0, 'ath': 3.4, 'ath_change_percentage': -84.45505, 'ath_date': '2018-01-07T00:00:00.000Z', 'atl': 0.00268621, 'atl_change_percentage': 19566.66467, 'atl_date': '2014-05-22T00:00:00.000Z', 'roi': None, 'last_updated': '2024-01-28T15:16:37.596Z'}, {'id': 'usd-coin', 'symbol': 'usdc', 'name': 'USDC', 'image': 'https://assets.coingecko.com/coins/images/6319/large/usdc.png?1696506694', 'current_price': 1.001, 'market_cap': 26149226668, 'market_cap_rank': 7, 'fully_diluted_valuation': 25474285589, 'total_volume': 3373291896, 'high_24h': 1.002, 'low_24h': 0.998163, 'price_change_24h': 0.00067855, 'price_change_percentage_24h': 0.06785, 'market_cap_change_24h': 45457024, 'market_cap_change_percentage_24h': 0.17414, 'circulating_supply': 26145634341.2858, 'total_supply': 25470785983.8999, 'max_supply': None, 'ath': 1.17, 'ath_change_percentage': -14.88214, 'ath_date': '2019-05-08T00:40:28.300Z', 'atl': 0.877647, 'atl_change_percentage': 13.73397, 'atl_date': '2023-03-11T08:02:13.981Z', 'roi': None, 'last_updated': '2024-01-28T15:16:26.787Z'}, {'id': 'staked-ether', 'symbol': 'steth', 'name': 'Lido Staked Ether', 'image': 'https://assets.coingecko.com/coins/images/13442/large/steth_logo.png?1696513206', 'current_price': 2270.07, 'market_cap': 21295408296, 'market_cap_rank': 8, 'fully_diluted_valuation': 21295408296, 'total_volume': 16196293, 'high_24h': 2299.78, 'low_24h': 2260.86, 'price_change_24h': 0.359341, 'price_change_percentage_24h': 0.01583, 'market_cap_change_24h': 20952781, 'market_cap_change_percentage_24h': 0.09849, 'circulating_supply': 9381711.85586445, 'total_supply': 9381711.85586445, 'max_supply': 9381711.85586445, 'ath': 4829.57, 'ath_change_percentage': -53.03625, 'ath_date': '2021-11-10T14:40:47.256Z', 'atl': 482.9, 'atl_change_percentage': 369.69668, 'atl_date': '2020-12-22T04:08:21.854Z', 'roi': None, 'last_updated': '2024-01-28T15:16:43.660Z'}, {'id': 'cardano', 'symbol': 'ada', 'name': 'Cardano', 'image': 'https://assets.coingecko.com/coins/images/975/large/cardano.png?1696502090', 'current_price': 0.491878, 'market_cap': 17230541686, 'market_cap_rank': 9, 'fully_diluted_valuation': 22090237717, 'total_volume': 316390823, 'high_24h': 0.499694, 'low_24h': 0.483623, 'price_change_24h': 0.00759318, 'price_change_percentage_24h': 1.56792, 'market_cap_change_24h': 218302933, 'market_cap_change_percentage_24h': 1.28321, 'circulating_supply': 35100318330.6778, 'total_supply': 45000000000.0, 'max_supply': 45000000000.0, 'ath': 3.09, 'ath_change_percentage': -84.12173, 'ath_date': '2021-09-02T06:00:10.474Z', 'atl': 0.01925275, 'atl_change_percentage': 2445.86059, 'atl_date': '2020-03-13T02:22:55.044Z', 'roi': None, 'last_updated': '2024-01-28T15:16:36.724Z'}, {'id': 'avalanche-2', 'symbol': 'avax', 'name': 'Avalanche', 'image': 'https://assets.coingecko.com/coins/images/12559/large/Avalanche_Circle_RedWhite_Trans.png?1696512369', 'current_price': 35.52, 'market_cap': 12991785746, 'market_cap_rank': 10, 'fully_diluted_valuation': 15399882624, 'total_volume': 861927998, 'high_24h': 36.53, 'low_24h': 32.35, 'price_change_24h': 2.96, 'price_change_percentage_24h': 9.07296, 'market_cap_change_24h': 1011651739, 'market_cap_change_percentage_24h': 8.44441, 'circulating_supply': 367040415.863273, 'total_supply': 435073317.331182, 'max_supply': 720000000.0, 'ath': 144.96, 'ath_change_percentage': -75.44674, 'ath_date': '2021-11-21T14:18:56.538Z', 'atl': 2.8, 'atl_change_percentage': 1170.68522, 'atl_date': '2020-12-31T13:15:21.540Z', 'roi': None, 'last_updated': '2024-01-28T15:16:29.088Z'}, {'id': 'dogecoin', 'symbol': 'doge', 'name': 'Dogecoin', 'image': 'https://assets.coingecko.com/coins/images/5/large/dogecoin.png?1696501409', 'current_price': 0.079466, 'market_cap': 11347234214, 'market_cap_rank': 11, 'fully_diluted_valuation': 11347206410, 'total_volume': 292229267, 'high_24h': 0.081329, 'low_24h': 0.079312, 'price_change_24h': -8.8811098582248e-05, 'price_change_percentage_24h': -0.11163, 'market_cap_change_24h': -17108764.51222229, 'market_cap_change_percentage_24h': -0.15055, 'circulating_supply': 142840406383.705, 'total_supply': 142840056383.705, 'max_supply': None, 'ath': 0.731578, 'ath_change_percentage': -89.15455, 'ath_date': '2021-05-08T05:08:23.458Z', 'atl': 8.69e-05, 'atl_change_percentage': 91199.81222, 'atl_date': '2015-05-06T00:00:00.000Z', 'roi': None, 'last_updated': '2024-01-28T15:16:28.292Z'}, {'id': 'tron', 'symbol': 'trx', 'name': 'TRON', 'image': 'https://assets.coingecko.com/coins/images/1094/large/tron-logo.png?1696502193', 'current_price': 0.112089, 'market_cap': 9879470002, 'market_cap_rank': 12, 'fully_diluted_valuation': 9879492907, 'total_volume': 228027825, 'high_24h': 0.113692, 'low_24h': 0.111713, 'price_change_24h': -0.001151810240725179, 'price_change_percentage_24h': -1.01713, 'market_cap_change_24h': -109528805.999012, 'market_cap_change_percentage_24h': -1.09649, 'circulating_supply': 88154693739.7927, 'total_supply': 88154898118.8388, 'max_supply': None, 'ath': 0.231673, 'ath_change_percentage': -51.70431, 'ath_date': '2018-01-05T00:00:00.000Z', 'atl': 0.00180434, 'atl_change_percentage': 6101.041, 'atl_date': '2017-11-12T00:00:00.000Z', 'roi': {'times': 57.994340329396266, 'currency': 'usd', 'percentage': 5799.434032939626}, 'last_updated': '2024-01-28T15:16:41.347Z'}, {'id': 'polkadot', 'symbol': 'dot', 'name': 'Polkadot', 'image': 'https://assets.coingecko.com/coins/images/12171/large/polkadot.png?1696512008', 'current_price': 6.67, 'market_cap': 8817906341, 'market_cap_rank': 13, 'fully_diluted_valuation': 9357099499, 'total_volume': 161058921, 'high_24h': 6.79, 'low_24h': 6.65, 'price_change_24h': -0.011431834943090635, 'price_change_percentage_24h': -0.1712, 'market_cap_change_24h': -53557610.86231613, 'market_cap_change_percentage_24h': -0.60371, 'circulating_supply': 1323833333.83156, 'total_supply': 1404782467.12792, 'max_supply': None, 'ath': 54.98, 'ath_change_percentage': -87.89284, 'ath_date': '2021-11-04T14:10:09.301Z', 'atl': 2.7, 'atl_change_percentage': 146.77422, 'atl_date': '2020-08-20T05:48:11.359Z', 'roi': None, 'last_updated': '2024-01-28T15:16:35.015Z'}, {'id': 'chainlink', 'symbol': 'link', 'name': 'Chainlink', 'image': 'https://assets.coingecko.com/coins/images/877/large/chainlink-new-logo.png?1696502009', 'current_price': 14.36, 'market_cap': 8157071843, 'market_cap_rank': 14, 'fully_diluted_valuation': 14358514796, 'total_volume': 317015520, 'high_24h': 14.69, 'low_24h': 14.25, 'price_change_24h': 0.087354, 'price_change_percentage_24h': 0.6119, 'market_cap_change_24h': 28767485, 'market_cap_change_percentage_24h': 0.35392, 'circulating_supply': 568099971.3083414, 'total_supply': 1000000000.0, 'max_supply': 1000000000.0, 'ath': 52.7, 'ath_change_percentage': -72.82159, 'ath_date': '2021-05-10T00:13:57.214Z', 'atl': 0.148183, 'atl_change_percentage': 9565.12904, 'atl_date': '2017-11-29T00:00:00.000Z', 'roi': None, 'last_updated': '2024-01-28T15:16:46.204Z'}, {'id': 'matic-network', 'symbol': 'matic', 'name': 'Polygon', 'image': 'https://assets.coingecko.com/coins/images/4713/large/polygon.png?1698233745', 'current_price': 0.794813, 'market_cap': 7368422966, 'market_cap_rank': 15, 'fully_diluted_valuation': 7937593193, 'total_volume': 318667807, 'high_24h': 0.810006, 'low_24h': 0.77594, 'price_change_24h': 0.01873668, 'price_change_percentage_24h': 2.41428, 'market_cap_change_24h': 156253036, 'market_cap_change_percentage_24h': 2.16652, 'circulating_supply': 9282943566.203985, 'total_supply': 10000000000.0, 'max_supply': 10000000000.0, 'ath': 2.92, 'ath_change_percentage': -72.83126, 'ath_date': '2021-12-27T02:08:34.307Z', 'atl': 0.00314376, 'atl_change_percentage': 25102.67885, 'atl_date': '2019-05-10T00:00:00.000Z', 'roi': {'times': 301.21031835861714, 'currency': 'usd', 'percentage': 30121.031835861715}, 'last_updated': '2024-01-28T15:16:50.956Z'}, {'id': 'the-open-network', 'symbol': 'ton', 'name': 'Toncoin', 'image': 'https://assets.coingecko.com/coins/images/17980/large/ton_symbol.png?1696517498', 'current_price': 2.11, 'market_cap': 7269801314, 'market_cap_rank': 16, 'fully_diluted_valuation': 10727465723, 'total_volume': 12364103, 'high_24h': 2.13, 'low_24h': 2.07, 'price_change_24h': 0.03555706, 'price_change_percentage_24h': 1.71726, 'market_cap_change_24h': 114447788, 'market_cap_change_percentage_24h': 1.59947, 'circulating_supply': 3457514430.46367, 'total_supply': 5101978160.90746, 'max_supply': None, 'ath': 5.29, 'ath_change_percentage': -60.25312, 'ath_date': '2021-11-12T06:50:02.476Z', 'atl': 0.519364, 'atl_change_percentage': 304.90422, 'atl_date': '2021-09-21T00:33:11.092Z', 'roi': None, 'last_updated': '2024-01-28T15:16:50.255Z'}, {'id': 'wrapped-bitcoin', 'symbol': 'wbtc', 'name': 'Wrapped Bitcoin', 'image': 'https://assets.coingecko.com/coins/images/7598/large/wrapped_bitcoin_wbtc.png?1696507857', 'current_price': 42245, 'market_cap': 6663822126, 'market_cap_rank': 17, 'fully_diluted_valuation': 6663822126, 'total_volume': 160494418, 'high_24h': 42616, 'low_24h': 41695, 'price_change_24h': 510.77, 'price_change_percentage_24h': 1.22387, 'market_cap_change_24h': 75227144, 'market_cap_change_percentage_24h': 1.14178, 'circulating_supply': 157867.62371727, 'total_supply': 157867.62371727, 'max_supply': 157867.62371727, 'ath': 70643, 'ath_change_percentage': -40.32508, 'ath_date': '2021-11-10T14:40:19.650Z', 'atl': 3139.17, 'atl_change_percentage': 1242.91382, 'atl_date': '2019-04-02T00:00:00.000Z', 'roi': None, 'last_updated': '2024-01-28T15:16:42.511Z'}, {'id': 'internet-computer', 'symbol': 'icp', 'name': 'Internet Computer', 'image': 'https://assets.coingecko.com/coins/images/14495/large/Internet_Computer_logo.png?1696514180', 'current_price': 12.51, 'market_cap': 5700598286, 'market_cap_rank': 18, 'fully_diluted_valuation': 6417619575, 'total_volume': 130731507, 'high_24h': 12.98, 'low_24h': 12.45, 'price_change_24h': -0.006456265788981953, 'price_change_percentage_24h': -0.0516, 'market_cap_change_24h': -26243038.19231701, 'market_cap_change_percentage_24h': -0.45825, 'circulating_supply': 456480801.829092, 'total_supply': 513896960.033768, 'max_supply': None, 'ath': 700.65, 'ath_change_percentage': -98.21877, 'ath_date': '2021-05-10T16:05:53.653Z', 'atl': 2.87, 'atl_change_percentage': 335.60426, 'atl_date': '2023-09-22T00:29:57.369Z', 'roi': None, 'last_updated': '2024-01-28T15:16:36.289Z'}, {'id': 'shiba-inu', 'symbol': 'shib', 'name': 'Shiba Inu', 'image': 'https://assets.coingecko.com/coins/images/11939/large/shiba.png?1696511800', 'current_price': 9.09e-06, 'market_cap': 5349733577, 'market_cap_rank': 19, 'fully_diluted_valuation': 9078242752, 'total_volume': 86583482, 'high_24h': 9.25e-06, 'low_24h': 9.05e-06, 'price_change_24h': 4.4995e-08, 'price_change_percentage_24h': 0.49738, 'market_cap_change_24h': 18889080, 'market_cap_change_percentage_24h': 0.35434, 'circulating_supply': 589281372340733.4, 'total_supply': 999982386137001.0, 'max_supply': None, 'ath': 8.616e-05, 'ath_change_percentage': -89.48432, 'ath_date': '2021-10-28T03:54:55.568Z', 'atl': 5.6366e-11, 'atl_change_percentage': 16073636.79711, 'atl_date': '2020-11-28T11:26:25.838Z', 'roi': None, 'last_updated': '2024-01-28T15:16:40.723Z'}, {'id': 'dai', 'symbol': 'dai', 'name': 'Dai', 'image': 'https://assets.coingecko.com/coins/images/9956/large/Badge_Dai.png?1696509996', 'current_price': 0.99777, 'market_cap': 5223852636, 'market_cap_rank': 20, 'fully_diluted_valuation': 5223852636, 'total_volume': 136782064, 'high_24h': 1.003, 'low_24h': 0.997033, 'price_change_24h': -0.002749958321896618, 'price_change_percentage_24h': -0.27485, 'market_cap_change_24h': -7186295.507614136, 'market_cap_change_percentage_24h': -0.13738, 'circulating_supply': 5232534926.55237, 'total_supply': 5232534926.55237, 'max_supply': None, 'ath': 1.22, 'ath_change_percentage': -18.1465, 'ath_date': '2020-03-13T03:02:50.373Z', 'atl': 0.88196, 'atl_change_percentage': 13.12729, 'atl_date': '2023-03-11T07:50:50.514Z', 'roi': None, 'last_updated': '2024-01-28T15:15:10.105Z'}, {'id': 'litecoin', 'symbol': 'ltc', 'name': 'Litecoin', 'image': 'https://assets.coingecko.com/coins/images/2/large/litecoin.png?1696501400', 'current_price': 67.59, 'market_cap': 5007539268, 'market_cap_rank': 21, 'fully_diluted_valuation': 5673243141, 'total_volume': 212166442, 'high_24h': 68.4, 'low_24h': 67.07, 'price_change_24h': 0.521667, 'price_change_percentage_24h': 0.77779, 'market_cap_change_24h': 30400311, 'market_cap_change_percentage_24h': 0.6108, 'circulating_supply': 74143358.2334713, 'total_supply': 84000000.0, 'max_supply': 84000000.0, 'ath': 410.26, 'ath_change_percentage': -83.56255, 'ath_date': '2021-05-10T03:13:07.904Z', 'atl': 1.15, 'atl_change_percentage': 5769.92997, 'atl_date': '2015-01-14T00:00:00.000Z', 'roi': None, 'last_updated': '2024-01-28T15:16:36.625Z'}, {'id': 'bitcoin-cash', 'symbol': 'bch', 'name': 'Bitcoin Cash', 'image': 'https://assets.coingecko.com/coins/images/780/large/bitcoin-cash-circle.png?1696501932', 'current_price': 240.41, 'market_cap': 4714170219, 'market_cap_rank': 22, 'fully_diluted_valuation': 5044136324, 'total_volume': 117106398, 'high_24h': 245.83, 'low_24h': 239.81, 'price_change_24h': -3.485577037839221, 'price_change_percentage_24h': -1.42915, 'market_cap_change_24h': -66873341.69066429, 'market_cap_change_percentage_24h': -1.39872, 'circulating_supply': 19626268.6466508, 'total_supply': 21000000.0, 'max_supply': 21000000.0, 'ath': 3785.82, 'ath_change_percentage': -93.66278, 'ath_date': '2017-12-20T00:00:00.000Z', 'atl': 76.93, 'atl_change_percentage': 211.84288, 'atl_date': '2018-12-16T00:00:00.000Z', 'roi': None, 'last_updated': '2024-01-28T15:16:46.681Z'}, {'id': 'uniswap', 'symbol': 'uni', 'name': 'Uniswap', 'image': 'https://assets.coingecko.com/coins/images/12504/large/uni.jpg?1696512319', 'current_price': 5.95, 'market_cap': 4478558087, 'market_cap_rank': 23, 'fully_diluted_valuation': 5941570891, 'total_volume': 62073866, 'high_24h': 6.07, 'low_24h': 5.92, 'price_change_24h': 0.0242183, 'price_change_percentage_24h': 0.40875, 'market_cap_change_24h': 7379210, 'market_cap_change_percentage_24h': 0.16504, 'circulating_supply': 753766667.0, 'total_supply': 1000000000.0, 'max_supply': 1000000000.0, 'ath': 44.92, 'ath_change_percentage': -86.78958, 'ath_date': '2021-05-03T05:25:04.822Z', 'atl': 1.03, 'atl_change_percentage': 476.0077, 'atl_date': '2020-09-17T01:20:38.214Z', 'roi': None, 'last_updated': '2024-01-28T15:16:34.009Z'}, {'id': 'leo-token', 'symbol': 'leo', 'name': 'LEO Token', 'image': 'https://assets.coingecko.com/coins/images/8418/large/leo-token.png?1696508607', 'current_price': 4.07, 'market_cap': 3773926616, 'market_cap_rank': 24, 'fully_diluted_valuation': 4007650254, 'total_volume': 1066972, 'high_24h': 4.08, 'low_24h': 4.01, 'price_change_24h': -0.00957494468430209, 'price_change_percentage_24h': -0.23491, 'market_cap_change_24h': -1220258.4470863342, 'market_cap_change_percentage_24h': -0.03232, 'circulating_supply': 927780956.9, 'total_supply': 985239504.0, 'max_supply': None, 'ath': 8.14, 'ath_change_percentage': -50.01152, 'ath_date': '2022-02-08T17:40:10.285Z', 'atl': 0.799859, 'atl_change_percentage': 408.43134, 'atl_date': '2019-12-24T15:14:35.376Z', 'roi': None, 'last_updated': '2024-01-28T15:16:28.512Z'}, {'id': 'cosmos', 'symbol': 'atom', 'name': 'Cosmos Hub', 'image': 'https://assets.coingecko.com/coins/images/1481/large/cosmos_hub.png?1696502525', 'current_price': 9.5, 'market_cap': 3644149032, 'market_cap_rank': 25, 'fully_diluted_valuation': 3644149032, 'total_volume': 96507074, 'high_24h': 9.78, 'low_24h': 9.48, 'price_change_24h': -0.003526575275898836, 'price_change_percentage_24h': -0.03709, 'market_cap_change_24h': -5154359.040060997, 'market_cap_change_percentage_24h': -0.14124, 'circulating_supply': 383774098.795288, 'total_supply': 383774098.795288, 'max_supply': None, 'ath': 44.45, 'ath_change_percentage': -78.62218, 'ath_date': '2022-01-17T00:34:41.497Z', 'atl': 1.16, 'atl_change_percentage': 719.09817, 'atl_date': '2020-03-13T02:27:44.591Z', 'roi': {'times': 94.03902233463754, 'currency': 'usd', 'percentage': 9403.902233463754}, 'last_updated': '2024-01-28T15:16:37.909Z'}, {'id': 'ethereum-classic', 'symbol': 'etc', 'name': 'Ethereum Classic', 'image': 'https://assets.coingecko.com/coins/images/453/large/ethereum-classic-logo.png?1696501717', 'current_price': 23.82, 'market_cap': 3408471284, 'market_cap_rank': 26, 'fully_diluted_valuation': 5015043777, 'total_volume': 151605118, 'high_24h': 24.39, 'low_24h': 23.73, 'price_change_24h': -0.14383863718315837, 'price_change_percentage_24h': -0.60016, 'market_cap_change_24h': -26522695.42848587, 'market_cap_change_percentage_24h': -0.77213, 'circulating_supply': 143202119.751449, 'total_supply': 210700000.0, 'max_supply': 210700000.0, 'ath': 167.09, 'ath_change_percentage': -85.77856, 'ath_date': '2021-05-06T18:34:22.133Z', 'atl': 0.615038, 'atl_change_percentage': 3763.49322, 'atl_date': '2016-07-25T00:00:00.000Z', 'roi': {'times': 51.9394646759418, 'currency': 'usd', 'percentage': 5193.94646759418}, 'last_updated': '2024-01-28T15:16:26.614Z'}, {'id': 'injective-protocol', 'symbol': 'inj', 'name': 'Injective', 'image': 'https://assets.coingecko.com/coins/images/12882/large/Secondary_Symbol.png?1696512670', 'current_price': 37.4, 'market_cap': 3305604597, 'market_cap_rank': 27, 'fully_diluted_valuation': 3739700745, 'total_volume': 190662416, 'high_24h': 38.35, 'low_24h': 34.64, 'price_change_24h': 2.08, 'price_change_percentage_24h': 5.89641, 'market_cap_change_24h': 178540444, 'market_cap_change_percentage_24h': 5.70952, 'circulating_supply': 88392222.33, 'total_supply': 100000000.0, 'max_supply': None, 'ath': 45.01, 'ath_change_percentage': -16.82153, 'ath_date': '2024-01-09T06:31:10.010Z', 'atl': 0.657401, 'atl_change_percentage': 5595.298, 'atl_date': '2020-11-03T16:19:30.576Z', 'roi': None, 'last_updated': '2024-01-28T15:16:36.291Z'}, {'id': 'stellar', 'symbol': 'xlm', 'name': 'Stellar', 'image': 'https://assets.coingecko.com/coins/images/100/large/Stellar_symbol_black_RGB.png?1696501482', 'current_price': 0.114488, 'market_cap': 3249461128, 'market_cap_rank': 28, 'fully_diluted_valuation': 5721066606, 'total_volume': 52447587, 'high_24h': 0.116906, 'low_24h': 0.114292, 'price_change_24h': -0.001614123620308938, 'price_change_percentage_24h': -1.39026, 'market_cap_change_24h': -50431883.394394875, 'market_cap_change_percentage_24h': -1.52829, 'circulating_supply': 28400099927.6715, 'total_supply': 50001787044.0868, 'max_supply': 50001787044.0868, 'ath': 0.875563, 'ath_change_percentage': -86.94651, 'ath_date': '2018-01-03T00:00:00.000Z', 'atl': 0.00047612, 'atl_change_percentage': 23904.59944, 'atl_date': '2015-03-05T00:00:00.000Z', 'roi': None, 'last_updated': '2024-01-28T15:16:51.151Z'}, {'id': 'okb', 'symbol': 'okb', 'name': 'OKB', 'image': 'https://assets.coingecko.com/coins/images/4463/large/WeChat_Image_20220118095654.png?1696505053', 'current_price': 52.04, 'market_cap': 3119242981, 'market_cap_rank': 29, 'fully_diluted_valuation': 12266822563, 'total_volume': 9787438, 'high_24h': 53.73, 'low_24h': 51.71, 'price_change_24h': -1.6726158305950918, 'price_change_percentage_24h': -3.11393, 'market_cap_change_24h': -96502253.43425655, 'market_cap_change_percentage_24h': -3.00093, 'circulating_supply': 60000000.0, 'total_supply': 235957685.3, 'max_supply': 300000000.0, 'ath': 64.92, 'ath_change_percentage': -20.03628, 'ath_date': '2023-11-14T16:15:10.918Z', 'atl': 0.580608, 'atl_change_percentage': 8841.30446, 'atl_date': '2019-01-14T00:00:00.000Z', 'roi': None, 'last_updated': '2024-01-28T15:16:34.205Z'}, {'id': 'near', 'symbol': 'near', 'name': 'NEAR Protocol', 'image': 'https://assets.coingecko.com/coins/images/10365/large/near.jpg?1696510367', 'current_price': 2.95, 'market_cap': 3028707637, 'market_cap_rank': 30, 'fully_diluted_valuation': 3457918010, 'total_volume': 212129681, 'high_24h': 3.06, 'low_24h': 2.89, 'price_change_24h': 0.053751, 'price_change_percentage_24h': 1.85764, 'market_cap_change_24h': 43596768, 'market_cap_change_percentage_24h': 1.46047, 'circulating_supply': 1028620840.45732, 'total_supply': 1174390848.02988, 'max_supply': None, 'ath': 20.44, 'ath_change_percentage': -85.64791, 'ath_date': '2022-01-16T22:09:45.873Z', 'atl': 0.526762, 'atl_change_percentage': 456.85416, 'atl_date': '2020-11-04T16:09:15.137Z', 'roi': None, 'last_updated': '2024-01-28T15:16:28.503Z'}, {'id': 'aptos', 'symbol': 'apt', 'name': 'Aptos', 'image': 'https://assets.coingecko.com/coins/images/26455/large/aptos_round.png?1696525528', 'current_price': 8.93, 'market_cap': 3004547157, 'market_cap_rank': 31, 'fully_diluted_valuation': 9608183798, 'total_volume': 105360898, 'high_24h': 9.31, 'low_24h': 8.9, 'price_change_24h': -0.11497076003382034, 'price_change_percentage_24h': -1.27113, 'market_cap_change_24h': -46601085.62790871, 'market_cap_change_percentage_24h': -1.52733, 'circulating_supply': 337120683.873454, 'total_supply': 1078071777.15254, 'max_supply': None, 'ath': 19.92, 'ath_change_percentage': -55.28112, 'ath_date': '2023-01-26T14:25:17.390Z', 'atl': 3.08, 'atl_change_percentage': 189.24577, 'atl_date': '2022-12-29T21:35:14.796Z', 'roi': None, 'last_updated': '2024-01-28T15:16:32.792Z'}, {'id': 'optimism', 'symbol': 'op', 'name': 'Optimism', 'image': 'https://assets.coingecko.com/coins/images/25244/large/Optimism.png?1696524385', 'current_price': 3.08, 'market_cap': 2946767020, 'market_cap_rank': 32, 'fully_diluted_valuation': 13219710992, 'total_volume': 143642871, 'high_24h': 3.18, 'low_24h': 3.06, 'price_change_24h': 0.0079698, 'price_change_percentage_24h': 0.25936, 'market_cap_change_24h': -464321.1307005882, 'market_cap_change_percentage_24h': -0.01575, 'circulating_supply': 957378568.0, 'total_supply': 4294967296.0, 'max_supply': 4294967296.0, 'ath': 4.23, 'ath_change_percentage': -27.34801, 'ath_date': '2024-01-12T13:44:50.085Z', 'atl': 0.402159, 'atl_change_percentage': 663.86084, 'atl_date': '2022-06-18T20:54:52.178Z', 'roi': None, 'last_updated': '2024-01-28T15:16:35.935Z'}, {'id': 'monero', 'symbol': 'xmr', 'name': 'Monero', 'image': 'https://assets.coingecko.com/coins/images/69/large/monero_logo.png?1696501460', 'current_price': 159.78, 'market_cap': 2890578977, 'market_cap_rank': 33, 'fully_diluted_valuation': None, 'total_volume': 50015466, 'high_24h': 162.3, 'low_24h': 158.98, 'price_change_24h': -0.8541879230581628, 'price_change_percentage_24h': -0.53175, 'market_cap_change_24h': -23833397.49532318, 'market_cap_change_percentage_24h': -0.81778, 'circulating_supply': 18147820.3764146, 'total_supply': None, 'max_supply': None, 'ath': 542.33, 'ath_change_percentage': -70.68082, 'ath_date': '2018-01-09T00:00:00.000Z', 'atl': 0.216177, 'atl_change_percentage': 73453.43825, 'atl_date': '2015-01-14T00:00:00.000Z', 'roi': None, 'last_updated': '2024-01-28T15:16:35.086Z'}, {'id': 'lido-dao', 'symbol': 'ldo', 'name': 'Lido DAO', 'image': 'https://assets.coingecko.com/coins/images/13573/large/Lido_DAO.png?1696513326', 'current_price': 3.15, 'market_cap': 2800277935, 'market_cap_rank': 34, 'fully_diluted_valuation': 3145665678, 'total_volume': 49328724, 'high_24h': 3.16, 'low_24h': 3.0, 'price_change_24h': 0.145985, 'price_change_percentage_24h': 4.86162, 'market_cap_change_24h': 120986294, 'market_cap_change_percentage_24h': 4.51561, 'circulating_supply': 890202018.181518, 'total_supply': 1000000000.0, 'max_supply': 1000000000.0, 'ath': 7.3, 'ath_change_percentage': -57.09851, 'ath_date': '2021-08-20T08:35:20.158Z', 'atl': 0.40615, 'atl_change_percentage': 671.40031, 'atl_date': '2022-06-18T20:55:12.035Z', 'roi': None, 'last_updated': '2024-01-28T15:16:39.397Z'}, {'id': 'celestia', 'symbol': 'tia', 'name': 'Celestia', 'image': 'https://assets.coingecko.com/coins/images/31967/large/tia.jpg?1696530772', 'current_price': 17.02, 'market_cap': 2723348098, 'market_cap_rank': 35, 'fully_diluted_valuation': 17293463211, 'total_volume': 122915103, 'high_24h': 17.6, 'low_24h': 16.79, 'price_change_24h': 0.121156, 'price_change_percentage_24h': 0.71684, 'market_cap_change_24h': 12138184, 'market_cap_change_percentage_24h': 0.4477, 'circulating_supply': 160550377.064999, 'total_supply': 1019506849.315, 'max_supply': None, 'ath': 20.16, 'ath_change_percentage': -15.89267, 'ath_date': '2024-01-15T10:34:34.684Z', 'atl': 2.08, 'atl_change_percentage': 713.86725, 'atl_date': '2023-10-31T15:14:31.951Z', 'roi': None, 'last_updated': '2024-01-28T15:16:29.921Z'}, {'id': 'filecoin', 'symbol': 'fil', 'name': 'Filecoin', 'image': 'https://assets.coingecko.com/coins/images/12817/large/filecoin.png?1696512609', 'current_price': 5.26, 'market_cap': 2627223445, 'market_cap_rank': 36, 'fully_diluted_valuation': 10302308592, 'total_volume': 123707089, 'high_24h': 5.4, 'low_24h': 5.21, 'price_change_24h': 0.02666766, 'price_change_percentage_24h': 0.50937, 'market_cap_change_24h': 8706523, 'market_cap_change_percentage_24h': 0.3325, 'circulating_supply': 500070473.0, 'total_supply': 1960960093.0, 'max_supply': 1960960093.0, 'ath': 236.84, 'ath_change_percentage': -97.79137, 'ath_date': '2021-04-01T13:29:41.564Z', 'atl': 2.64, 'atl_change_percentage': 98.06828, 'atl_date': '2022-12-16T22:45:28.552Z', 'roi': None, 'last_updated': '2024-01-28T15:16:46.366Z'}, {'id': 'immutable-x', 'symbol': 'imx', 'name': 'Immutable', 'image': 'https://assets.coingecko.com/coins/images/17233/large/immutableX-symbol-BLK-RGB.png?1696516787', 'current_price': 1.95, 'market_cap': 2618984440, 'market_cap_rank': 37, 'fully_diluted_valuation': 3891017501, 'total_volume': 52551509, 'high_24h': 1.97, 'low_24h': 1.92, 'price_change_24h': 0.01863113, 'price_change_percentage_24h': 0.96457, 'market_cap_change_24h': 13462007, 'market_cap_change_percentage_24h': 0.51667, 'circulating_supply': 1346169447.490024, 'total_supply': 2000000000.0, 'max_supply': 2000000000.0, 'ath': 9.52, 'ath_change_percentage': -79.60294, 'ath_date': '2021-11-26T01:03:01.536Z', 'atl': 0.378055, 'atl_change_percentage': 413.62579, 'atl_date': '2022-12-31T07:36:37.649Z', 'roi': None, 'last_updated': '2024-01-28T15:16:45.556Z'}, {'id': 'first-digital-usd', 'symbol': 'fdusd', 'name': 'First Digital USD', 'image': 'https://assets.coingecko.com/coins/images/31079/large/firstfigital.jpeg?1696529912', 'current_price': 0.999946, 'market_cap': 2587183718, 'market_cap_rank': 38, 'fully_diluted_valuation': 2587183718, 'total_volume': 2268020503, 'high_24h': 1.003, 'low_24h': 0.995232, 'price_change_24h': 0.00051417, 'price_change_percentage_24h': 0.05145, 'market_cap_change_24h': -1290812.476407051, 'market_cap_change_percentage_24h': -0.04987, 'circulating_supply': 2589684851.31, 'total_supply': 2589684851.31, 'max_supply': None, 'ath': 1.041, 'ath_change_percentage': -4.14836, 'ath_date': '2023-10-23T22:55:15.103Z', 'atl': 0.942129, 'atl_change_percentage': 5.94579, 'atl_date': '2023-08-17T21:55:41.478Z', 'roi': None, 'last_updated': '2024-01-28T15:16:22.850Z'}, {'id': 'hedera-hashgraph', 'symbol': 'hbar', 'name': 'Hedera', 'image': 'https://assets.coingecko.com/coins/images/3688/large/hbar.png?1696504364', 'current_price': 0.074088, 'market_cap': 2489920026, 'market_cap_rank': 39, 'fully_diluted_valuation': 3698306470, 'total_volume': 25539443, 'high_24h': 0.075995, 'low_24h': 0.073773, 'price_change_24h': -0.000110846652164459, 'price_change_percentage_24h': -0.14939, 'market_cap_change_24h': -12022680.429275036, 'market_cap_change_percentage_24h': -0.48053, 'circulating_supply': 33662975831.8502, 'total_supply': 50000000000.0, 'max_supply': 50000000000.0, 'ath': 0.569229, 'ath_change_percentage': -87.03943, 'ath_date': '2021-09-15T10:40:28.318Z', 'atl': 0.00986111, 'atl_change_percentage': 648.14435, 'atl_date': '2020-01-02T17:30:24.852Z', 'roi': None, 'last_updated': '2024-01-28T15:16:46.140Z'}, {'id': 'kaspa', 'symbol': 'kas', 'name': 'Kaspa', 'image': 'https://assets.coingecko.com/coins/images/25751/large/kaspa-icon-exchanges.png?1696524837', 'current_price': 0.105329, 'market_cap': 2364434654, 'market_cap_rank': 40, 'fully_diluted_valuation': 2364410501, 'total_volume': 15129163, 'high_24h': 0.109885, 'low_24h': 0.104843, 'price_change_24h': 0.0004859, 'price_change_percentage_24h': 0.46346, 'market_cap_change_24h': 7215914, 'market_cap_change_percentage_24h': 0.30612, 'circulating_supply': 22481238219.0838, 'total_supply': 22481008573.2741, 'max_supply': 28704026601.0, 'ath': 0.152699, 'ath_change_percentage': -31.16678, 'ath_date': '2023-11-19T21:34:58.238Z', 'atl': 0.00017105, 'atl_change_percentage': 61348.80682, 'atl_date': '2022-05-26T14:42:59.316Z', 'roi': None, 'last_updated': '2024-01-28T15:16:16.603Z'}, {'id': 'arbitrum', 'symbol': 'arb', 'name': 'Arbitrum', 'image': 'https://assets.coingecko.com/coins/images/16547/large/photo_2023-03-29_21.47.00.jpeg?1696516109', 'current_price': 1.83, 'market_cap': 2328940814, 'market_cap_rank': 41, 'fully_diluted_valuation': 18266202461, 'total_volume': 375151626, 'high_24h': 1.9, 'low_24h': 1.79, 'price_change_24h': 0.03312065, 'price_change_percentage_24h': 1.84403, 'market_cap_change_24h': 37215080, 'market_cap_change_percentage_24h': 1.62389, 'circulating_supply': 1275000000.0, 'total_supply': 10000000000.0, 'max_supply': 10000000000.0, 'ath': 2.39, 'ath_change_percentage': -23.66693, 'ath_date': '2024-01-12T12:29:59.231Z', 'atl': 0.744925, 'atl_change_percentage': 144.93422, 'atl_date': '2023-09-11T19:40:49.196Z', 'roi': None, 'last_updated': '2024-01-28T15:16:32.783Z'}, {'id': 'bittensor', 'symbol': 'tao', 'name': 'Bittensor', 'image': 'https://assets.coingecko.com/coins/images/28452/large/ARUsPeNQ_400x400.jpeg?1696527447', 'current_price': 379.96, 'market_cap': 2317489727, 'market_cap_rank': 42, 'fully_diluted_valuation': 2317489727, 'total_volume': 12361904, 'high_24h': 380.02, 'low_24h': 332.65, 'price_change_24h': 47.31, 'price_change_percentage_24h': 14.22226, 'market_cap_change_24h': 276229407, 'market_cap_change_percentage_24h': 13.5323, 'circulating_supply': 6130428.0, 'total_supply': 6130428.0, 'max_supply': 21000000.0, 'ath': 394.0, 'ath_change_percentage': -4.5765, 'ath_date': '2023-12-14T20:03:59.063Z', 'atl': 30.83, 'atl_change_percentage': 1119.50126, 'atl_date': '2023-05-14T08:57:53.732Z', 'roi': None, 'last_updated': '2024-01-28T15:16:33.928Z'}, {'id': 'blockstack', 'symbol': 'stx', 'name': 'Stacks', 'image': 'https://assets.coingecko.com/coins/images/2069/large/Stacks_logo_full.png?1696503035', 'current_price': 1.52, 'market_cap': 2183412414, 'market_cap_rank': 43, 'fully_diluted_valuation': 2762553779, 'total_volume': 42384854, 'high_24h': 1.57, 'low_24h': 1.5, 'price_change_24h': 0.01533302, 'price_change_percentage_24h': 1.01842, 'market_cap_change_24h': 14120753, 'market_cap_change_percentage_24h': 0.65094, 'circulating_supply': 1436874749.64239, 'total_supply': 1818000000.0, 'max_supply': 1818000000.0, 'ath': 3.39, 'ath_change_percentage': -55.19687, 'ath_date': '2021-12-01T01:32:34.725Z', 'atl': 0.04559639, 'atl_change_percentage': 3230.66499, 'atl_date': '2020-03-13T02:29:26.415Z', 'roi': {'times': 11.674147462640716, 'currency': 'usd', 'percentage': 1167.4147462640717}, 'last_updated': '2024-01-28T15:16:33.404Z'}, {'id': 'crypto-com-chain', 'symbol': 'cro', 'name': 'Cronos', 'image': 'https://assets.coingecko.com/coins/images/7310/large/cro_token_logo.png?1696507599', 'current_price': 0.081025, 'market_cap': 2144999481, 'market_cap_rank': 44, 'fully_diluted_valuation': 2428102518, 'total_volume': 6252616, 'high_24h': 0.082901, 'low_24h': 0.080535, 'price_change_24h': -0.000549040145474883, 'price_change_percentage_24h': -0.67306, 'market_cap_change_24h': -19175435.883834124, 'market_cap_change_percentage_24h': -0.88604, 'circulating_supply': 26502169468.2708, 'total_supply': 30000000000.0, 'max_supply': None, 'ath': 0.965407, 'ath_change_percentage': -91.61731, 'ath_date': '2021-11-24T15:53:54.855Z', 'atl': 0.0121196, 'atl_change_percentage': 567.73768, 'atl_date': '2019-02-08T00:00:00.000Z', 'roi': None, 'last_updated': '2024-01-28T15:16:39.852Z'}, {'id': 'vechain', 'symbol': 'vet', 'name': 'VeChain', 'image': 'https://assets.coingecko.com/coins/images/1167/large/VET_Token_Icon.png?1696502256', 'current_price': 0.0284695, 'market_cap': 2069326476, 'market_cap_rank': 45, 'fully_diluted_valuation': 2446982115, 'total_volume': 36385386, 'high_24h': 0.02885864, 'low_24h': 0.02814146, 'price_change_24h': 0.00032805, 'price_change_percentage_24h': 1.16571, 'market_cap_change_24h': 21377448, 'market_cap_change_percentage_24h': 1.04385, 'circulating_supply': 72714516834.0, 'total_supply': 85985041177.0, 'max_supply': 86712634466.0, 'ath': 0.280991, 'ath_change_percentage': -89.89559, 'ath_date': '2021-04-19T01:08:21.675Z', 'atl': 0.00191713, 'atl_change_percentage': 1380.98628, 'atl_date': '2020-03-13T02:29:59.652Z', 'roi': {'times': 3.383830843401588, 'currency': 'eth', 'percentage': 338.3830843401588}, 'last_updated': '2024-01-28T15:16:37.535Z'}, {'id': 'mantle', 'symbol': 'mnt', 'name': 'Mantle', 'image': 'https://assets.coingecko.com/coins/images/30980/large/token-logo.png?1696529819', 'current_price': 0.647833, 'market_cap': 2044498387, 'market_cap_rank': 46, 'fully_diluted_valuation': 4020748429, 'total_volume': 50656396, 'high_24h': 0.659119, 'low_24h': 0.645575, 'price_change_24h': -0.008585532088021266, 'price_change_percentage_24h': -1.30794, 'market_cap_change_24h': -27484799.665395737, 'market_cap_change_percentage_24h': -1.3265, 'circulating_supply': 3162441863.03314, 'total_supply': 6219316794.99, 'max_supply': 6219316794.99, 'ath': 0.849137, 'ath_change_percentage': -23.88703, 'ath_date': '2024-01-11T13:25:10.126Z', 'atl': 0.307978, 'atl_change_percentage': 109.85416, 'atl_date': '2023-10-18T02:50:46.942Z', 'roi': None, 'last_updated': '2024-01-28T15:16:47.750Z'}, {'id': 'maker', 'symbol': 'mkr', 'name': 'Maker', 'image': 'https://assets.coingecko.com/coins/images/1364/large/Mark_Maker.png?1696502423', 'current_price': 1996.12, 'market_cap': 1838697239, 'market_cap_rank': 47, 'fully_diluted_valuation': 1949180118, 'total_volume': 52696851, 'high_24h': 2025.72, 'low_24h': 1988.7, 'price_change_24h': -4.217979553446185, 'price_change_percentage_24h': -0.21086, 'market_cap_change_24h': -7710366.196415663, 'market_cap_change_percentage_24h': -0.41759, 'circulating_supply': 922217.22970642, 'total_supply': 977631.036950888, 'max_supply': 1005577.0, 'ath': 6292.31, 'ath_change_percentage': -68.32152, 'ath_date': '2021-05-03T21:54:29.333Z', 'atl': 168.36, 'atl_change_percentage': 1083.9737, 'atl_date': '2020-03-16T20:52:36.527Z', 'roi': None, 'last_updated': '2024-01-28T15:16:50.895Z'}, {'id': 'true-usd', 'symbol': 'tusd', 'name': 'TrueUSD', 'image': 'https://assets.coingecko.com/coins/images/3449/large/tusd.png?1696504140', 'current_price': 0.988118, 'market_cap': 1598099972, 'market_cap_rank': 48, 'fully_diluted_valuation': 1598099972, 'total_volume': 58497121, 'high_24h': 0.991817, 'low_24h': 0.985321, 'price_change_24h': -0.000432389046341464, 'price_change_percentage_24h': -0.04374, 'market_cap_change_24h': -2577913.6155996323, 'market_cap_change_percentage_24h': -0.16105, 'circulating_supply': 1619457471.81, 'total_supply': 1619457471.81, 'max_supply': None, 'ath': 1.62, 'ath_change_percentage': -39.13052, 'ath_date': '2018-08-26T20:41:09.375Z', 'atl': 0.88355, 'atl_change_percentage': 11.50251, 'atl_date': '2020-03-12T10:47:51.380Z', 'roi': None, 'last_updated': '2024-01-28T15:16:40.777Z'}, {'id': 'sei-network', 'symbol': 'sei', 'name': 'Sei', 'image': 'https://assets.coingecko.com/coins/images/28205/large/Sei_Logo_-_Transparent.png?1696527207', 'current_price': 0.653169, 'market_cap': 1577495279, 'market_cap_rank': 49, 'fully_diluted_valuation': 6505135173, 'total_volume': 155645198, 'high_24h': 0.68902, 'low_24h': 0.637099, 'price_change_24h': 0.01263419, 'price_change_percentage_24h': 1.97244, 'market_cap_change_24h': 26851152, 'market_cap_change_percentage_24h': 1.73161, 'circulating_supply': 2425000000.0, 'total_supply': 10000000000.0, 'max_supply': None, 'ath': 0.877895, 'ath_change_percentage': -26.07056, 'ath_date': '2024-01-03T21:20:26.826Z', 'atl': 0.095364, 'atl_change_percentage': 580.57562, 'atl_date': '2023-10-19T08:05:30.655Z', 'roi': None, 'last_updated': '2024-01-28T15:16:44.632Z'}, {'id': 'quant-network', 'symbol': 'qnt', 'name': 'Quant', 'image': 'https://assets.coingecko.com/coins/images/3370/large/5ZOu7brX_400x400.jpg?1696504070', 'current_price': 106.98, 'market_cap': 1555253733, 'market_cap_rank': 50, 'fully_diluted_valuation': 1562559064, 'total_volume': 18958814, 'high_24h': 110.32, 'low_24h': 106.69, 'price_change_24h': -3.126544415112946, 'price_change_percentage_24h': -2.83954, 'market_cap_change_24h': -47518934.79725599, 'market_cap_change_percentage_24h': -2.9648, 'circulating_supply': 14544176.164091088, 'total_supply': 14612493.0, 'max_supply': 14612493.0, 'ath': 427.42, 'ath_change_percentage': -75.04105, 'ath_date': '2021-09-11T09:15:00.668Z', 'atl': 0.215773, 'atl_change_percentage': 49340.84379, 'atl_date': '2018-08-23T00:00:00.000Z', 'roi': {'times': 19.23857216316431, 'currency': 'eth', 'percentage': 1923.857216316431}, 'last_updated': '2024-01-28T15:16:43.818Z'}, {'id': 'render-token', 'symbol': 'rndr', 'name': 'Render', 'image': 'https://assets.coingecko.com/coins/images/11636/large/rndr.png?1696511529', 'current_price': 4.07, 'market_cap': 1530107477, 'market_cap_rank': 51, 'fully_diluted_valuation': 2160191646, 'total_volume': 101885828, 'high_24h': 4.26, 'low_24h': 3.9, 'price_change_24h': 0.170779, 'price_change_percentage_24h': 4.37511, 'market_cap_change_24h': 58802896, 'market_cap_change_percentage_24h': 3.99665, 'circulating_supply': 376146335.687948, 'total_supply': 531039932.967948, 'max_supply': 531039932.967948, 'ath': 8.78, 'ath_change_percentage': -53.84656, 'ath_date': '2021-11-21T10:03:19.097Z', 'atl': 0.03665669, 'atl_change_percentage': 10958.44713, 'atl_date': '2020-06-16T13:22:25.900Z', 'roi': None, 'last_updated': '2024-01-28T15:16:33.398Z'}, {'id': 'sui', 'symbol': 'sui', 'name': 'Sui', 'image': 'https://assets.coingecko.com/coins/images/26375/large/sui_asset.jpeg?1696525453', 'current_price': 1.35, 'market_cap': 1485131796, 'market_cap_rank': 52, 'fully_diluted_valuation': 13489582210, 'total_volume': 321870415, 'high_24h': 1.48, 'low_24h': 1.33, 'price_change_24h': -0.04674122867835062, 'price_change_percentage_24h': -3.34294, 'market_cap_change_24h': -57187005.67997861, 'market_cap_change_percentage_24h': -3.70786, 'circulating_supply': 1100947214.55346, 'total_supply': 10000000000.0, 'max_supply': 10000000000.0, 'ath': 2.16, 'ath_change_percentage': -37.66777, 'ath_date': '2023-05-03T12:00:26.430Z', 'atl': 0.364846, 'atl_change_percentage': 269.45542, 'atl_date': '2023-10-19T10:40:30.078Z', 'roi': None, 'last_updated': '2024-01-28T15:16:40.631Z'}, {'id': 'the-graph', 'symbol': 'grt', 'name': 'The Graph', 'image': 'https://assets.coingecko.com/coins/images/13397/large/Graph_Token.png?1696513159', 'current_price': 0.158239, 'market_cap': 1483498932, 'market_cap_rank': 53, 'fully_diluted_valuation': 1704367805, 'total_volume': 37096092, 'high_24h': 0.162474, 'low_24h': 0.157298, 'price_change_24h': -0.001979644995543761, 'price_change_percentage_24h': -1.23559, 'market_cap_change_24h': -23344817.99993038, 'market_cap_change_percentage_24h': -1.54925, 'circulating_supply': 9389987797.88531, 'total_supply': 10788004319.0, 'max_supply': 10788004319.0, 'ath': 2.84, 'ath_change_percentage': -94.4598, 'ath_date': '2021-02-12T07:28:45.775Z', 'atl': 0.052051, 'atl_change_percentage': 202.44379, 'atl_date': '2022-11-22T10:05:03.503Z', 'roi': None, 'last_updated': '2024-01-28T15:16:45.553Z'}, {'id': 'bitcoin-cash-sv', 'symbol': 'bsv', 'name': 'Bitcoin SV', 'image': 'https://assets.coingecko.com/coins/images/6799/large/BSV.png?1696507128', 'current_price': 72.2, 'market_cap': 1414140310, 'market_cap_rank': 54, 'fully_diluted_valuation': 1513667556, 'total_volume': 52534583, 'high_24h': 74.52, 'low_24h': 71.79, 'price_change_24h': 0.081855, 'price_change_percentage_24h': 0.11351, 'market_cap_change_24h': -1818436.0245616436, 'market_cap_change_percentage_24h': -0.12842, 'circulating_supply': 19619200.0, 'total_supply': 21000000.0, 'max_supply': 21000000.0, 'ath': 489.75, 'ath_change_percentage': -85.32032, 'ath_date': '2021-04-16T17:09:04.630Z', 'atl': 21.43, 'atl_change_percentage': 235.4066, 'atl_date': '2023-06-10T04:32:12.266Z', 'roi': None, 'last_updated': '2024-01-28T15:16:34.822Z'}, {'id': 'elrond-erd-2', 'symbol': 'egld', 'name': 'MultiversX', 'image': 'https://assets.coingecko.com/coins/images/12335/large/egld-token-logo.png?1696512162', 'current_price': 52.94, 'market_cap': 1401097611, 'market_cap_rank': 55, 'fully_diluted_valuation': 1401369964, 'total_volume': 22940261, 'high_24h': 54.28, 'low_24h': 52.61, 'price_change_24h': 0.326815, 'price_change_percentage_24h': 0.62118, 'market_cap_change_24h': 5625495, 'market_cap_change_percentage_24h': 0.40312, 'circulating_supply': 26504009.0, 'total_supply': 26509161.0, 'max_supply': 31415926.0, 'ath': 545.64, 'ath_change_percentage': -90.34022, 'ath_date': '2021-11-23T10:33:26.737Z', 'atl': 6.51, 'atl_change_percentage': 710.05523, 'atl_date': '2020-10-07T01:44:53.554Z', 'roi': None, 'last_updated': '2024-01-28T15:16:40.231Z'}, {'id': 'rocket-pool-eth', 'symbol': 'reth', 'name': 'Rocket Pool ETH', 'image': 'https://assets.coingecko.com/coins/images/20764/large/reth.png?1696520159', 'current_price': 2493.88, 'market_cap': 1401028350, 'market_cap_rank': 56, 'fully_diluted_valuation': 1401028350, 'total_volume': 3818712, 'high_24h': 2525.79, 'low_24h': 2485.14, 'price_change_24h': 2.64, 'price_change_percentage_24h': 0.10611, 'market_cap_change_24h': 3972547, 'market_cap_change_percentage_24h': 0.28435, 'circulating_supply': 561739.501856905, 'total_supply': 561739.501856905, 'max_supply': None, 'ath': 4814.31, 'ath_change_percentage': -48.25138, 'ath_date': '2021-12-01T08:03:50.749Z', 'atl': 887.26, 'atl_change_percentage': 180.78908, 'atl_date': '2022-06-18T20:55:45.957Z', 'roi': None, 'last_updated': '2024-01-28T15:16:47.869Z'}, {'id': 'aave', 'symbol': 'aave', 'name': 'Aave', 'image': 'https://assets.coingecko.com/coins/images/12645/large/AAVE.png?1696512452', 'current_price': 91.54, 'market_cap': 1344910108, 'market_cap_rank': 57, 'fully_diluted_valuation': 1462588519, 'total_volume': 88923460, 'high_24h': 93.4, 'low_24h': 91.01, 'price_change_24h': 0.524539, 'price_change_percentage_24h': 0.57633, 'market_cap_change_24h': 4695161, 'market_cap_change_percentage_24h': 0.35033, 'circulating_supply': 14712655.986474646, 'total_supply': 16000000.0, 'max_supply': 16000000.0, 'ath': 661.69, 'ath_change_percentage': -86.1844, 'ath_date': '2021-05-18T21:19:59.514Z', 'atl': 26.02, 'atl_change_percentage': 251.28893, 'atl_date': '2020-11-05T09:20:11.928Z', 'roi': None, 'last_updated': '2024-01-28T15:16:41.380Z'}, {'id': 'algorand', 'symbol': 'algo', 'name': 'Algorand', 'image': 'https://assets.coingecko.com/coins/images/4380/large/download.png?1696504978', 'current_price': 0.165406, 'market_cap': 1329678234, 'market_cap_rank': 58, 'fully_diluted_valuation': 1329678263, 'total_volume': 35189593, 'high_24h': 0.168581, 'low_24h': 0.164417, 'price_change_24h': -0.001071769528790456, 'price_change_percentage_24h': -0.64379, 'market_cap_change_24h': -11071639.67730689, 'market_cap_change_percentage_24h': -0.82578, 'circulating_supply': 8044533210.72848, 'total_supply': 8044533383.92053, 'max_supply': 10000000000.0, 'ath': 3.56, 'ath_change_percentage': -95.36496, 'ath_date': '2019-06-20T14:51:19.480Z', 'atl': 0.087513, 'atl_change_percentage': 88.6119, 'atl_date': '2023-09-11T19:42:08.247Z', 'roi': {'times': -0.9310808301267611, 'currency': 'usd', 'percentage': -93.10808301267612}, 'last_updated': '2024-01-28T15:16:46.193Z'}, {'id': 'thorchain', 'symbol': 'rune', 'name': 'THORChain', 'image': 'https://assets.coingecko.com/coins/images/6595/large/Rune200x200.png?1696506946', 'current_price': 4.32, 'market_cap': 1294421141, 'market_cap_rank': 59, 'fully_diluted_valuation': 2152342412, 'total_volume': 183562281, 'high_24h': 4.43, 'low_24h': 4.27, 'price_change_24h': 0.01769559, 'price_change_percentage_24h': 0.41163, 'market_cap_change_24h': 702324, 'market_cap_change_percentage_24h': 0.05429, 'circulating_supply': 300700561.0, 'total_supply': 500000000.0, 'max_supply': 500000000.0, 'ath': 20.87, 'ath_change_percentage': -79.40264, 'ath_date': '2021-05-19T00:30:09.436Z', 'atl': 0.00851264, 'atl_change_percentage': 50391.60576, 'atl_date': '2019-09-28T00:00:00.000Z', 'roi': {'times': 112.59411204216237, 'currency': 'usd', 'percentage': 11259.411204216236}, 'last_updated': '2024-01-28T15:16:40.676Z'}, {'id': 'ordinals', 'symbol': 'ordi', 'name': 'ORDI', 'image': 'https://assets.coingecko.com/coins/images/30162/large/ordi.png?1696529082', 'current_price': 55.65, 'market_cap': 1166513767, 'market_cap_rank': 60, 'fully_diluted_valuation': 1166513767, 'total_volume': 182485476, 'high_24h': 58.65, 'low_24h': 54.81, 'price_change_24h': -1.4839254876419687, 'price_change_percentage_24h': -2.59746, 'market_cap_change_24h': -33035269.014852285, 'market_cap_change_percentage_24h': -2.75397, 'circulating_supply': 21000000.0, 'total_supply': 21000000.0, 'max_supply': None, 'ath': 89.94, 'ath_change_percentage': -38.23629, 'ath_date': '2024-01-02T11:30:17.565Z', 'atl': 2.86, 'atl_change_percentage': 1841.65343, 'atl_date': '2023-09-11T15:22:32.140Z', 'roi': None, 'last_updated': '2024-01-28T15:16:30.250Z'}, {'id': 'tokenize-xchange', 'symbol': 'tkx', 'name': 'Tokenize Xchange', 'image': 'https://assets.coingecko.com/coins/images/4984/large/TKX_-_Logo_-_RGB-15.png?1696505519', 'current_price': 14.44, 'market_cap': 1154810574, 'market_cap_rank': 61, 'fully_diluted_valuation': 1443585398, 'total_volume': 28255663, 'high_24h': 14.48, 'low_24h': 13.93, 'price_change_24h': 0.44192, 'price_change_percentage_24h': 3.15743, 'market_cap_change_24h': 34046352, 'market_cap_change_percentage_24h': 3.03778, 'circulating_supply': 79995999.94518414, 'total_supply': 100000000.0, 'max_supply': 100000000.0, 'ath': 22.3, 'ath_change_percentage': -35.36227, 'ath_date': '2022-10-31T10:23:59.455Z', 'atl': 0.111255, 'atl_change_percentage': 12853.86273, 'atl_date': '2019-04-28T00:00:00.000Z', 'roi': {'times': 48.70097764953694, 'currency': 'usd', 'percentage': 4870.0977649536935}, 'last_updated': '2024-01-28T15:16:36.508Z'}, {'id': 'helium', 'symbol': 'hnt', 'name': 'Helium', 'image': 'https://assets.coingecko.com/coins/images/4284/large/Helium_HNT.png?1696504894', 'current_price': 7.93, 'market_cap': 1140445690, 'market_cap_rank': 62, 'fully_diluted_valuation': 1766906628, 'total_volume': 13634582, 'high_24h': 8.47, 'low_24h': 7.69, 'price_change_24h': 0.152789, 'price_change_percentage_24h': 1.96471, 'market_cap_change_24h': 22600179, 'market_cap_change_percentage_24h': 2.02176, 'circulating_supply': 143934820.830308, 'total_supply': 223000000.0, 'max_supply': 223000000.0, 'ath': 54.88, 'ath_change_percentage': -85.6482, 'ath_date': '2021-11-12T23:08:25.301Z', 'atl': 0.113248, 'atl_change_percentage': 6854.53013, 'atl_date': '2020-04-18T00:19:10.902Z', 'roi': None, 'last_updated': '2024-01-28T15:16:21.483Z'}, {'id': 'mina-protocol', 'symbol': 'mina', 'name': 'Mina Protocol', 'image': 'https://assets.coingecko.com/coins/images/15628/large/JM4_vQ34_400x400.png?1696515261', 'current_price': 1.083, 'market_cap': 1127342101, 'market_cap_rank': 63, 'fully_diluted_valuation': 1210981815, 'total_volume': 22385874, 'high_24h': 1.12, 'low_24h': 1.079, 'price_change_24h': -0.010305200016618388, 'price_change_percentage_24h': -0.94219, 'market_cap_change_24h': -10055374.028054953, 'market_cap_change_percentage_24h': -0.88407, 'circulating_supply': 1042143285.84004, 'total_supply': 1119461932.84004, 'max_supply': None, 'ath': 9.09, 'ath_change_percentage': -88.13186, 'ath_date': '2021-06-01T01:42:37.064Z', 'atl': 0.351341, 'atl_change_percentage': 207.06748, 'atl_date': '2023-10-11T04:00:22.740Z', 'roi': None, 'last_updated': '2024-01-28T15:16:24.451Z'}, {'id': 'flow', 'symbol': 'flow', 'name': 'Flow', 'image': 'https://assets.coingecko.com/coins/images/13446/large/5f6294c0c7a8cda55cb1c936_Flow_Wordmark.png?1696513210', 'current_price': 0.752731, 'market_cap': 1115881356, 'market_cap_rank': 64, 'fully_diluted_valuation': 1115881355, 'total_volume': 26059262, 'high_24h': 0.771878, 'low_24h': 0.747165, 'price_change_24h': -0.002378151756723846, 'price_change_percentage_24h': -0.31494, 'market_cap_change_24h': -5880001.354482889, 'market_cap_change_percentage_24h': -0.52418, 'circulating_supply': 1485069351.0, 'total_supply': 1485069350.90682, 'max_supply': 1485069350.90682, 'ath': 42.4, 'ath_change_percentage': -98.2297, 'ath_date': '2021-04-05T13:49:10.098Z', 'atl': 0.391969, 'atl_change_percentage': 91.48421, 'atl_date': '2023-09-11T19:41:06.528Z', 'roi': None, 'last_updated': '2024-01-28T15:16:41.179Z'}, {'id': 'fantom', 'symbol': 'ftm', 'name': 'Fantom', 'image': 'https://assets.coingecko.com/coins/images/4001/large/Fantom_round.png?1696504642', 'current_price': 0.380878, 'market_cap': 1067026223, 'market_cap_rank': 65, 'fully_diluted_valuation': 1208362877, 'total_volume': 84757901, 'high_24h': 0.394457, 'low_24h': 0.36624, 'price_change_24h': 0.01463796, 'price_change_percentage_24h': 3.99682, 'market_cap_change_24h': 38128615, 'market_cap_change_percentage_24h': 3.70577, 'circulating_supply': 2803634835.52659, 'total_supply': 3175000000.0, 'max_supply': 3175000000.0, 'ath': 3.46, 'ath_change_percentage': -89.02997, 'ath_date': '2021-10-28T05:19:39.845Z', 'atl': 0.00190227, 'atl_change_percentage': 19844.94453, 'atl_date': '2020-03-13T02:25:38.280Z', 'roi': {'times': 11.695930493267364, 'currency': 'usd', 'percentage': 1169.5930493267363}, 'last_updated': '2024-01-28T15:16:40.587Z'}, {'id': 'havven', 'symbol': 'snx', 'name': 'Synthetix Network', 'image': 'https://assets.coingecko.com/coins/images/3406/large/SNX.png?1696504103', 'current_price': 3.2, 'market_cap': 1046504988, 'market_cap_rank': 66, 'fully_diluted_valuation': 1047858446, 'total_volume': 24558485, 'high_24h': 3.31, 'low_24h': 3.18, 'price_change_24h': -0.04385451852919697, 'price_change_percentage_24h': -1.35267, 'market_cap_change_24h': -17794686.362249494, 'market_cap_change_percentage_24h': -1.67196, 'circulating_supply': 327769196.13952357, 'total_supply': 328193104.088774, 'max_supply': 328193104.088774, 'ath': 28.53, 'ath_change_percentage': -88.85065, 'ath_date': '2021-02-14T01:12:38.505Z', 'atl': 0.0347864, 'atl_change_percentage': 9044.85246, 'atl_date': '2019-01-06T00:00:00.000Z', 'roi': {'times': 5.396448243732556, 'currency': 'usd', 'percentage': 539.6448243732556}, 'last_updated': '2024-01-28T15:16:39.478Z'}, {'id': 'dydx-chain', 'symbol': 'dydx', 'name': 'dYdX', 'image': 'https://assets.coingecko.com/coins/images/32594/large/dydx.png?1698673495', 'current_price': 2.72, 'market_cap': 1026711068, 'market_cap_rank': 67, 'fully_diluted_valuation': 1879138051, 'total_volume': 13217780, 'high_24h': 2.84, 'low_24h': 2.7, 'price_change_24h': 0.0215574, 'price_change_percentage_24h': 0.79937, 'market_cap_change_24h': 8244424, 'market_cap_change_percentage_24h': 0.80949, 'circulating_supply': 377821714.5, 'total_supply': 691508237.0, 'max_supply': 1000000000.0, 'ath': 3.73, 'ath_change_percentage': -27.32265, 'ath_date': '2023-12-03T23:23:34.201Z', 'atl': 2.3, 'atl_change_percentage': 17.84789, 'atl_date': '2024-01-03T12:14:30.340Z', 'roi': None, 'last_updated': '2024-01-28T15:14:49.771Z'}, {'id': 'the-sandbox', 'symbol': 'sand', 'name': 'The Sandbox', 'image': 'https://assets.coingecko.com/coins/images/12129/large/sandbox_logo.jpg?1696511971', 'current_price': 0.456873, 'market_cap': 1020275251, 'market_cap_rank': 68, 'fully_diluted_valuation': 1367825037, 'total_volume': 70440152, 'high_24h': 0.469737, 'low_24h': 0.45197, 'price_change_24h': 0.0049026, 'price_change_percentage_24h': 1.08472, 'market_cap_change_24h': 8187488, 'market_cap_change_percentage_24h': 0.80897, 'circulating_supply': 2237731926.2233224, 'total_supply': 3000000000.0, 'max_supply': 3000000000.0, 'ath': 8.4, 'ath_change_percentage': -94.58062, 'ath_date': '2021-11-25T06:04:40.957Z', 'atl': 0.02897764, 'atl_change_percentage': 1470.36336, 'atl_date': '2020-11-04T15:59:14.441Z', 'roi': None, 'last_updated': '2024-01-28T15:16:35.420Z'}, {'id': 'sats-ordinals', 'symbol': 'sats', 'name': 'SATS (Ordinals)', 'image': 'https://assets.coingecko.com/coins/images/30666/large/_dD8qr3M_400x400.png?1702913020', 'current_price': 4.80965e-07, 'market_cap': 1007669426, 'market_cap_rank': 69, 'fully_diluted_valuation': 1007669426, 'total_volume': 46220013, 'high_24h': 5.30868e-07, 'low_24h': 4.69533e-07, 'price_change_24h': -3.370167973e-08, 'price_change_percentage_24h': -6.54826, 'market_cap_change_24h': -58642881.00829303, 'market_cap_change_percentage_24h': -5.4996, 'circulating_supply': 2100000000000000.0, 'total_supply': 2100000000000000.0, 'max_supply': 2100000000000000.0, 'ath': 9.22983e-07, 'ath_change_percentage': -48.05641, 'ath_date': '2023-12-15T11:45:07.985Z', 'atl': 3.189e-09, 'atl_change_percentage': 14933.38573, 'atl_date': '2023-07-08T13:03:18.882Z', 'roi': None, 'last_updated': '2024-01-28T15:16:30.961Z'}, {'id': 'astar', 'symbol': 'astr', 'name': 'Astar', 'image': 'https://assets.coingecko.com/coins/images/22617/large/astr.png?1696521933', 'current_price': 0.182507, 'market_cap': 1005069709, 'market_cap_rank': 70, 'fully_diluted_valuation': 1526516647, 'total_volume': 28659344, 'high_24h': 0.188709, 'low_24h': 0.179578, 'price_change_24h': -0.002980504995942879, 'price_change_percentage_24h': -1.60685, 'market_cap_change_24h': -16147611.543323278, 'market_cap_change_percentage_24h': -1.58121, 'circulating_supply': 5511322676.0, 'total_supply': 8370688858.0, 'max_supply': None, 'ath': 0.421574, 'ath_change_percentage': -56.9013, 'ath_date': '2022-01-17T13:34:36.289Z', 'atl': 0.03269521, 'atl_change_percentage': 455.71652, 'atl_date': '2022-10-13T13:05:41.982Z', 'roi': None, 'last_updated': '2024-01-28T15:16:31.504Z'}, {'id': 'osmosis', 'symbol': 'osmo', 'name': 'Osmosis', 'image': 'https://assets.coingecko.com/coins/images/16724/large/osmo.png?1696516298', 'current_price': 1.59, 'market_cap': 1003235092, 'market_cap_rank': 71, 'fully_diluted_valuation': 1583889609, 'total_volume': 22355195, 'high_24h': 1.6, 'low_24h': 1.55, 'price_change_24h': 0.03711816, 'price_change_percentage_24h': 2.397, 'market_cap_change_24h': 22613373, 'market_cap_change_percentage_24h': 2.30602, 'circulating_supply': 633386517.0, 'total_supply': 999979298.0, 'max_supply': 1000000000.0, 'ath': 11.25, 'ath_change_percentage': -85.92219, 'ath_date': '2022-03-04T05:12:18.707Z', 'atl': 0.224523, 'atl_change_percentage': 605.32781, 'atl_date': '2023-10-19T17:45:36.695Z', 'roi': None, 'last_updated': '2024-01-28T15:16:43.108Z'}, {'id': 'axie-infinity', 'symbol': 'axs', 'name': 'Axie Infinity', 'image': 'https://assets.coingecko.com/coins/images/13029/large/axie_infinity_logo.png?1696512817', 'current_price': 7.33, 'market_cap': 995153550, 'market_cap_rank': 72, 'fully_diluted_valuation': 1974771139, 'total_volume': 53677369, 'high_24h': 7.51, 'low_24h': 7.29, 'price_change_24h': 0.00048394, 'price_change_percentage_24h': 0.00661, 'market_cap_change_24h': -3962096.4015147686, 'market_cap_change_percentage_24h': -0.39656, 'circulating_supply': 136062074.855038, 'total_supply': 270000000.0, 'max_supply': 270000000.0, 'ath': 164.9, 'ath_change_percentage': -95.57708, 'ath_date': '2021-11-06T19:29:29.482Z', 'atl': 0.123718, 'atl_change_percentage': 5795.08912, 'atl_date': '2020-11-06T08:05:43.662Z', 'roi': None, 'last_updated': '2024-01-28T15:16:45.540Z'}, {'id': 'theta-token', 'symbol': 'theta', 'name': 'Theta Network', 'image': 'https://assets.coingecko.com/coins/images/2538/large/theta-token-logo.png?1696503349', 'current_price': 0.995537, 'market_cap': 993670680, 'market_cap_rank': 73, 'fully_diluted_valuation': 993670680, 'total_volume': 14095174, 'high_24h': 1.02, 'low_24h': 0.990881, 'price_change_24h': 0.00080401, 'price_change_percentage_24h': 0.08083, 'market_cap_change_24h': -1696277.6649392843, 'market_cap_change_percentage_24h': -0.17042, 'circulating_supply': 1000000000.0, 'total_supply': 1000000000.0, 'max_supply': 1000000000.0, 'ath': 15.72, 'ath_change_percentage': -93.69657, 'ath_date': '2021-04-16T13:15:11.190Z', 'atl': 0.04039979, 'atl_change_percentage': 2352.68766, 'atl_date': '2020-03-13T02:24:16.483Z', 'roi': {'times': 5.6369133831103095, 'currency': 'usd', 'percentage': 563.6913383110309}, 'last_updated': '2024-01-28T15:16:34.989Z'}, {'id': 'kucoin-shares', 'symbol': 'kcs', 'name': 'KuCoin', 'image': 'https://assets.coingecko.com/coins/images/1047/large/sa9z79.png?1696502152', 'current_price': 9.99, 'market_cap': 964082865, 'market_cap_rank': 74, 'fully_diluted_valuation': 1438647028, 'total_volume': 62237, 'high_24h': 10.04, 'low_24h': 9.91, 'price_change_24h': 0.01954006, 'price_change_percentage_24h': 0.19597, 'market_cap_change_24h': 315024, 'market_cap_change_percentage_24h': 0.03269, 'circulating_supply': 96496827.2890287, 'total_supply': 143996827.288945, 'max_supply': None, 'ath': 28.83, 'ath_change_percentage': -65.42221, 'ath_date': '2021-12-01T15:09:35.541Z', 'atl': 0.342863, 'atl_change_percentage': 2807.49859, 'atl_date': '2019-02-07T00:00:00.000Z', 'roi': None, 'last_updated': '2024-01-28T15:16:32.518Z'}, {'id': 'chiliz', 'symbol': 'chz', 'name': 'Chiliz', 'image': 'https://assets.coingecko.com/coins/images/8834/large/CHZ_Token_updated.png?1696508986', 'current_price': 0.106705, 'market_cap': 947283151, 'market_cap_rank': 75, 'fully_diluted_valuation': 947283151, 'total_volume': 104952035, 'high_24h': 0.113701, 'low_24h': 0.106235, 'price_change_24h': -0.000105397204279906, 'price_change_percentage_24h': -0.09868, 'market_cap_change_24h': -17117.51636004448, 'market_cap_change_percentage_24h': -0.00181, 'circulating_supply': 8888888888.0, 'total_supply': 8888888888.0, 'max_supply': 8888888888.0, 'ath': 0.878633, 'ath_change_percentage': -87.89288, 'ath_date': '2021-03-13T08:04:21.200Z', 'atl': 0.00410887, 'atl_change_percentage': 2488.96113, 'atl_date': '2019-09-28T00:00:00.000Z', 'roi': {'times': 3.8502090408601, 'currency': 'usd', 'percentage': 385.02090408601}, 'last_updated': '2024-01-28T15:16:36.202Z'}, {'id': 'beam-2', 'symbol': 'beam', 'name': 'Beam', 'image': 'https://assets.coingecko.com/coins/images/32417/large/chain-logo.png?1698114384', 'current_price': 0.01832143, 'market_cap': 926936018, 'market_cap_rank': 76, 'fully_diluted_valuation': 1144548267, 'total_volume': 17284779, 'high_24h': 0.01940823, 'low_24h': 0.01761383, 'price_change_24h': 0.00070759, 'price_change_percentage_24h': 4.01726, 'market_cap_change_24h': 34578150, 'market_cap_change_percentage_24h': 3.87492, 'circulating_supply': 50693685958.1535, 'total_supply': 62594795429.7398, 'max_supply': 62594795429.7398, 'ath': 0.02720031, 'ath_change_percentage': -32.85292, 'ath_date': '2023-12-14T05:24:58.029Z', 'atl': 0.0043383, 'atl_change_percentage': 320.99924, 'atl_date': '2023-10-29T08:20:14.064Z', 'roi': None, 'last_updated': '2024-01-28T15:16:27.618Z'}, {'id': 'whitebit', 'symbol': 'wbt', 'name': 'WhiteBIT Coin', 'image': 'https://assets.coingecko.com/coins/images/27045/large/wbt_token.png?1696526096', 'current_price': 6.33, 'market_cap': 913750050, 'market_cap_rank': 77, 'fully_diluted_valuation': 2284403796, 'total_volume': 9461295, 'high_24h': 6.4, 'low_24h': 6.28, 'price_change_24h': 0.01181904, 'price_change_percentage_24h': 0.18698, 'market_cap_change_24h': 3563851, 'market_cap_change_percentage_24h': 0.39155, 'circulating_supply': 144118517.10815412, 'total_supply': 360300815.0, 'max_supply': 400000000.0, 'ath': 14.64, 'ath_change_percentage': -56.7302, 'ath_date': '2022-10-28T12:32:18.119Z', 'atl': 3.06, 'atl_change_percentage': 106.96553, 'atl_date': '2023-02-13T19:01:21.899Z', 'roi': None, 'last_updated': '2024-01-28T15:16:27.579Z'}, {'id': 'manta-network', 'symbol': 'manta', 'name': 'Manta Network', 'image': 'https://assets.coingecko.com/coins/images/34289/large/manta.jpg?1704468717', 'current_price': 3.53, 'market_cap': 888616671, 'market_cap_rank': 78, 'fully_diluted_valuation': 3540305461, 'total_volume': 414015814, 'high_24h': 3.83, 'low_24h': 3.43, 'price_change_24h': -0.12036640810759325, 'price_change_percentage_24h': -3.29551, 'market_cap_change_24h': -23623434.8298043, 'market_cap_change_percentage_24h': -2.58961, 'circulating_supply': 251000000.0, 'total_supply': 1000000000.0, 'max_supply': 1000000000.0, 'ath': 3.83, 'ath_change_percentage': -7.39271, 'ath_date': '2024-01-28T01:49:54.287Z', 'atl': 2.02, 'atl_change_percentage': 75.9732, 'atl_date': '2024-01-18T10:04:12.606Z', 'roi': None, 'last_updated': '2024-01-28T15:16:29.944Z'}, {'id': 'tezos', 'symbol': 'xtz', 'name': 'Tezos', 'image': 'https://assets.coingecko.com/coins/images/976/large/Tezos-logo.png?1696502091', 'current_price': 0.978454, 'market_cap': 880102742, 'market_cap_rank': 79, 'fully_diluted_valuation': 967713559, 'total_volume': 24137994, 'high_24h': 1.013, 'low_24h': 0.977129, 'price_change_24h': -0.012842361499702084, 'price_change_percentage_24h': -1.29551, 'market_cap_change_24h': -12568587.874546051, 'market_cap_change_percentage_24h': -1.40797, 'circulating_supply': 900151684.991428, 'total_supply': 989758296.368459, 'max_supply': None, 'ath': 9.12, 'ath_change_percentage': -89.28124, 'ath_date': '2021-10-04T00:41:18.025Z', 'atl': 0.350476, 'atl_change_percentage': 178.80068, 'atl_date': '2018-12-07T00:00:00.000Z', 'roi': {'times': 1.0818165413888836, 'currency': 'usd', 'percentage': 108.18165413888836}, 'last_updated': '2024-01-28T15:16:33.808Z'}, {'id': 'bittorrent', 'symbol': 'btt', 'name': 'BitTorrent', 'image': 'https://assets.coingecko.com/coins/images/22457/large/btt_logo.png?1696521780', 'current_price': 8.8841e-07, 'market_cap': 859471696, 'market_cap_rank': 80, 'fully_diluted_valuation': 878781428, 'total_volume': 32361504, 'high_24h': 9.28718e-07, 'low_24h': 8.67013e-07, 'price_change_24h': 1.7364e-08, 'price_change_percentage_24h': 1.99344, 'market_cap_change_24h': 13989142, 'market_cap_change_percentage_24h': 1.65457, 'circulating_supply': 968246428571000.0, 'total_supply': 990000000000000.0, 'max_supply': 990000000000000.0, 'ath': 3.43e-06, 'ath_change_percentage': -74.06154, 'ath_date': '2022-01-21T04:00:31.909Z', 'atl': 3.65368e-07, 'atl_change_percentage': 143.60015, 'atl_date': '2023-10-13T05:10:41.241Z', 'roi': None, 'last_updated': '2024-01-28T15:16:39.111Z'}, {'id': 'cheelee', 'symbol': 'cheel', 'name': 'Cheelee', 'image': 'https://assets.coingecko.com/coins/images/28573/large/CHEEL_%D1%82%D0%BE%D0%BD%D0%BA%D0%B0%D1%8F_%D0%BE%D0%B1%D0%B2%D0%BE%D0%B4%D0%BA%D0%B0_%283%29.png?1696527561', 'current_price': 15.9, 'market_cap': 855530284, 'market_cap_rank': 81, 'fully_diluted_valuation': 15890198255, 'total_volume': 5212125, 'high_24h': 16.02, 'low_24h': 15.55, 'price_change_24h': 0.241004, 'price_change_percentage_24h': 1.5388, 'market_cap_change_24h': 11774985, 'market_cap_change_percentage_24h': 1.39555, 'circulating_supply': 53840126.4745925, 'total_supply': 1000000000.0, 'max_supply': 1000000000.0, 'ath': 17.32, 'ath_change_percentage': -8.05063, 'ath_date': '2023-07-16T21:40:08.888Z', 'atl': 3.44, 'atl_change_percentage': 362.99763, 'atl_date': '2023-02-13T02:53:08.933Z', 'roi': None, 'last_updated': '2024-01-28T15:16:13.800Z'}, {'id': 'wemix-token', 'symbol': 'wemix', 'name': 'WEMIX', 'image': 'https://assets.coingecko.com/coins/images/12998/large/wemixcoin_color_200.png?1696512788', 'current_price': 2.35, 'market_cap': 853183829, 'market_cap_rank': 82, 'fully_diluted_valuation': 2276356024, 'total_volume': 4492938, 'high_24h': 2.41, 'low_24h': 2.37, 'price_change_24h': -0.04257386888736825, 'price_change_percentage_24h': -1.77973, 'market_cap_change_24h': 9365593, 'market_cap_change_percentage_24h': 1.10991, 'circulating_supply': 356554402.935104, 'total_supply': 951312877.078946, 'max_supply': None, 'ath': 24.71, 'ath_change_percentage': -90.30138, 'ath_date': '2021-11-21T17:33:44.178Z', 'atl': 0.128398, 'atl_change_percentage': 1766.61685, 'atl_date': '2021-06-22T12:52:49.089Z', 'roi': None, 'last_updated': '2024-01-28T15:16:36.848Z'}, {'id': 'dydx', 'symbol': 'ethdydx', 'name': 'dYdX', 'image': 'https://assets.coingecko.com/coins/images/17500/large/hjnIm9bV.jpg?1696517040', 'current_price': 2.72, 'market_cap': 850919131, 'market_cap_rank': 83, 'fully_diluted_valuation': 1454233858, 'total_volume': 62964560, 'high_24h': 2.83, 'low_24h': 2.7, 'price_change_24h': 0.02080346, 'price_change_percentage_24h': 0.77165, 'market_cap_change_24h': 5232688, 'market_cap_change_percentage_24h': 0.61875, 'circulating_supply': 313656630.8339807, 'total_supply': 536043997.31, 'max_supply': 536043997.31, 'ath': 27.86, 'ath_change_percentage': -90.27503, 'ath_date': '2021-09-30T01:23:43.570Z', 'atl': 1.011, 'atl_change_percentage': 168.09947, 'atl_date': '2022-06-18T20:55:50.603Z', 'roi': None, 'last_updated': '2024-01-28T15:16:46.528Z'}, {'id': 'apecoin', 'symbol': 'ape', 'name': 'ApeCoin', 'image': 'https://assets.coingecko.com/coins/images/24383/large/apecoin.jpg?1696523566', 'current_price': 1.41, 'market_cap': 850395360, 'market_cap_rank': 84, 'fully_diluted_valuation': 1405854221, 'total_volume': 39310061, 'high_24h': 1.45, 'low_24h': 1.4, 'price_change_24h': -0.024466185800981144, 'price_change_percentage_24h': -1.70988, 'market_cap_change_24h': -15363692.631663442, 'market_cap_change_percentage_24h': -1.77459, 'circulating_supply': 604895833.0, 'total_supply': 1000000000.0, 'max_supply': 1000000000.0, 'ath': 26.7, 'ath_change_percentage': -94.73592, 'ath_date': '2022-04-28T21:44:21.164Z', 'atl': 1.008, 'atl_change_percentage': 39.47585, 'atl_date': '2023-10-10T20:51:07.411Z', 'roi': None, 'last_updated': '2024-01-28T15:16:32.642Z'}, {'id': 'decentraland', 'symbol': 'mana', 'name': 'Decentraland', 'image': 'https://assets.coingecko.com/coins/images/878/large/decentraland-mana.png?1696502010', 'current_price': 0.449305, 'market_cap': 828767364, 'market_cap_rank': 85, 'fully_diluted_valuation': 984132708, 'total_volume': 40224450, 'high_24h': 0.463088, 'low_24h': 0.447725, 'price_change_24h': -0.001648136650961918, 'price_change_percentage_24h': -0.36548, 'market_cap_change_24h': -3911182.941690564, 'market_cap_change_percentage_24h': -0.46971, 'circulating_supply': 1846941409.5578756, 'total_supply': 2193179327.32015, 'max_supply': 2193179327.32015, 'ath': 5.85, 'ath_change_percentage': -92.34766, 'ath_date': '2021-11-25T10:04:18.534Z', 'atl': 0.00923681, 'atl_change_percentage': 4747.17976, 'atl_date': '2017-10-31T00:00:00.000Z', 'roi': {'times': 21.465256330992496, 'currency': 'usd', 'percentage': 2146.5256330992497}, 'last_updated': '2024-01-28T15:16:40.701Z'}, {'id': 'bitget-token', 'symbol': 'bgb', 'name': 'Bitget Token', 'image': 'https://assets.coingecko.com/coins/images/11610/large/icon_colour.png?1696511504', 'current_price': 0.590225, 'market_cap': 825917132, 'market_cap_rank': 86, 'fully_diluted_valuation': 1179880774, 'total_volume': 25662237, 'high_24h': 0.592703, 'low_24h': 0.581569, 'price_change_24h': -0.001914993183892988, 'price_change_percentage_24h': -0.3234, 'market_cap_change_24h': -4142779.841183305, 'market_cap_change_percentage_24h': -0.49909, 'circulating_supply': 1400001000.0, 'total_supply': 2000000000.0, 'max_supply': 2000000000.0, 'ath': 0.701227, 'ath_change_percentage': -15.90007, 'ath_date': '2023-12-19T07:13:51.026Z', 'atl': 0.0142795, 'atl_change_percentage': 4029.91812, 'atl_date': '2020-06-25T04:17:05.895Z', 'roi': None, 'last_updated': '2024-01-28T15:16:39.089Z'}, {'id': 'eos', 'symbol': 'eos', 'name': 'EOS', 'image': 'https://assets.coingecko.com/coins/images/738/large/eos-eos-logo.png?1696501893', 'current_price': 0.716823, 'market_cap': 813957640, 'market_cap_rank': 87, 'fully_diluted_valuation': None, 'total_volume': 97993158, 'high_24h': 0.733347, 'low_24h': 0.700771, 'price_change_24h': 0.01605207, 'price_change_percentage_24h': 2.29063, 'market_cap_change_24h': 16196344, 'market_cap_change_percentage_24h': 2.03022, 'circulating_supply': 1137058323.7648, 'total_supply': None, 'max_supply': None, 'ath': 22.71, 'ath_change_percentage': -96.85414, 'ath_date': '2018-04-29T07:50:33.540Z', 'atl': 0.5024, 'atl_change_percentage': 42.21037, 'atl_date': '2017-10-23T00:00:00.000Z', 'roi': {'times': -0.2759363903783618, 'currency': 'usd', 'percentage': -27.593639037836184}, 'last_updated': '2024-01-28T15:16:37.880Z'}, {'id': 'conflux-token', 'symbol': 'cfx', 'name': 'Conflux', 'image': 'https://assets.coingecko.com/coins/images/13079/large/3vuYMbjN.png?1696512867', 'current_price': 0.22308, 'market_cap': 809860164, 'market_cap_rank': 88, 'fully_diluted_valuation': 1211039675, 'total_volume': 68354959, 'high_24h': 0.233657, 'low_24h': 0.212143, 'price_change_24h': -0.010577162726367911, 'price_change_percentage_24h': -4.52679, 'market_cap_change_24h': -48755718.223073006, 'market_cap_change_percentage_24h': -5.67841, 'circulating_supply': 3652749815.07421, 'total_supply': 5462208352.35911, 'max_supply': None, 'ath': 1.7, 'ath_change_percentage': -87.05165, 'ath_date': '2021-03-27T03:43:35.178Z', 'atl': 0.02199898, 'atl_change_percentage': 901.09871, 'atl_date': '2022-12-30T08:16:30.345Z', 'roi': None, 'last_updated': '2024-01-28T15:16:35.509Z'}, {'id': 'blur', 'symbol': 'blur', 'name': 'Blur', 'image': 'https://assets.coingecko.com/coins/images/28453/large/blur.png?1696527448', 'current_price': 0.620366, 'market_cap': 786036252, 'market_cap_rank': 89, 'fully_diluted_valuation': 1859157706, 'total_volume': 68644662, 'high_24h': 0.658002, 'low_24h': 0.61792, 'price_change_24h': -0.015314500018732469, 'price_change_percentage_24h': -2.40915, 'market_cap_change_24h': -21689411.723722816, 'market_cap_change_percentage_24h': -2.68524, 'circulating_supply': 1268374785.00761, 'total_supply': 3000000000.0, 'max_supply': 3000000000.0, 'ath': 5.02, 'ath_change_percentage': -87.65051, 'ath_date': '2023-02-14T17:33:55.928Z', 'atl': 0.153143, 'atl_change_percentage': 304.5103, 'atl_date': '2023-10-12T17:10:39.401Z', 'roi': None, 'last_updated': '2024-01-28T15:16:28.585Z'}, {'id': 'kava', 'symbol': 'kava', 'name': 'Kava', 'image': 'https://assets.coingecko.com/coins/images/9761/large/kava.png?1696509822', 'current_price': 0.72578, 'market_cap': 784124809, 'market_cap_rank': 90, 'fully_diluted_valuation': 784124809, 'total_volume': 14684600, 'high_24h': 0.733237, 'low_24h': 0.707547, 'price_change_24h': 0.01823321, 'price_change_percentage_24h': 2.57696, 'market_cap_change_24h': 17492611, 'market_cap_change_percentage_24h': 2.28175, 'circulating_supply': 1082861778.0, 'total_supply': 1082861778.0, 'max_supply': None, 'ath': 9.12, 'ath_change_percentage': -92.07345, 'ath_date': '2021-08-30T11:10:02.948Z', 'atl': 0.287137, 'atl_change_percentage': 151.76848, 'atl_date': '2020-03-13T02:24:16.835Z', 'roi': None, 'last_updated': '2024-01-28T15:16:36.094Z'}, {'id': 'ronin', 'symbol': 'ron', 'name': 'Ronin', 'image': 'https://assets.coingecko.com/coins/images/20009/large/Ronin_Mark_Blue.png?1696519431', 'current_price': 2.71, 'market_cap': 776583832, 'market_cap_rank': 91, 'fully_diluted_valuation': 2698590753, 'total_volume': 27732853, 'high_24h': 2.75, 'low_24h': 2.49, 'price_change_24h': 0.213176, 'price_change_percentage_24h': 8.52653, 'market_cap_change_24h': 59029950, 'market_cap_change_percentage_24h': 8.22655, 'circulating_supply': 287773842.896926, 'total_supply': 1000000000.0, 'max_supply': 1000000000.0, 'ath': 4.29, 'ath_change_percentage': -37.06991, 'ath_date': '2022-01-27T13:14:36.500Z', 'atl': 0.196601, 'atl_change_percentage': 1274.58719, 'atl_date': '2022-11-21T19:36:31.487Z', 'roi': None, 'last_updated': '2024-01-28T15:16:38.087Z'}, {'id': 'iota', 'symbol': 'iota', 'name': 'IOTA', 'image': 'https://assets.coingecko.com/coins/images/692/large/IOTA_Swirl.png?1696501881', 'current_price': 0.249637, 'market_cap': 775977555, 'market_cap_rank': 92, 'fully_diluted_valuation': 1146023954, 'total_volume': 22843142, 'high_24h': 0.263342, 'low_24h': 0.243056, 'price_change_24h': 0.00658096, 'price_change_percentage_24h': 2.70759, 'market_cap_change_24h': 19664153, 'market_cap_change_percentage_24h': 2.6, 'circulating_supply': 3114679008.0, 'total_supply': 4600000000.0, 'max_supply': 4600000000.0, 'ath': 5.25, 'ath_change_percentage': -95.26264, 'ath_date': '2017-12-19T00:00:00.000Z', 'atl': 0.081637, 'atl_change_percentage': 204.58285, 'atl_date': '2020-03-13T02:22:41.168Z', 'roi': {'times': 3.397910666888702, 'currency': 'btc', 'percentage': 339.7910666888702}, 'last_updated': '2024-01-28T15:16:35.850Z'}, {'id': 'neo', 'symbol': 'neo', 'name': 'NEO', 'image': 'https://assets.coingecko.com/coins/images/480/large/NEO_512_512.png?1696501735', 'current_price': 10.89, 'market_cap': 766530830, 'market_cap_rank': 93, 'fully_diluted_valuation': 1086815298, 'total_volume': 18529683, 'high_24h': 11.15, 'low_24h': 10.83, 'price_change_24h': -0.09877021034580835, 'price_change_percentage_24h': -0.89859, 'market_cap_change_24h': -8720240.925723314, 'market_cap_change_percentage_24h': -1.12483, 'circulating_supply': 70530000.0, 'total_supply': 100000000.0, 'max_supply': None, 'ath': 198.38, 'ath_change_percentage': -94.5274, 'ath_date': '2018-01-15T00:00:00.000Z', 'atl': 0.078349, 'atl_change_percentage': 13756.6593, 'atl_date': '2016-10-21T00:00:00.000Z', 'roi': {'times': 301.5799212148706, 'currency': 'usd', 'percentage': 30157.992121487056}, 'last_updated': '2024-01-28T15:16:34.858Z'}, {'id': 'frax-share', 'symbol': 'fxs', 'name': 'Frax Share', 'image': 'https://assets.coingecko.com/coins/images/13423/large/Frax_Shares_icon.png?1696513183', 'current_price': 9.97, 'market_cap': 762009202, 'market_cap_rank': 94, 'fully_diluted_valuation': 992852355, 'total_volume': 30114649, 'high_24h': 10.48, 'low_24h': 9.94, 'price_change_24h': -0.302092003294554, 'price_change_percentage_24h': -2.93993, 'market_cap_change_24h': -26570517.864869237, 'market_cap_change_percentage_24h': -3.36941, 'circulating_supply': 76505047.8198411, 'total_supply': 99681495.5911336, 'max_supply': 99681495.5911336, 'ath': 42.8, 'ath_change_percentage': -76.78171, 'ath_date': '2022-01-12T15:22:27.465Z', 'atl': 1.5, 'atl_change_percentage': 561.09906, 'atl_date': '2021-06-25T16:50:51.447Z', 'roi': None, 'last_updated': '2024-01-28T15:16:43.475Z'}, {'id': 'gala', 'symbol': 'gala', 'name': 'GALA', 'image': 'https://assets.coingecko.com/coins/images/12493/large/GALA-COINGECKO.png?1696512310', 'current_price': 0.0229672, 'market_cap': 742355455, 'market_cap_rank': 95, 'fully_diluted_valuation': 742348526, 'total_volume': 48515597, 'high_24h': 0.02376006, 'low_24h': 0.02288615, 'price_change_24h': 6.05e-06, 'price_change_percentage_24h': 0.02634, 'market_cap_change_24h': -1408489.8518755436, 'market_cap_change_percentage_24h': -0.18937, 'circulating_supply': 32370961902.8119, 'total_supply': 32370659750.1245, 'max_supply': 50000000000.0, 'ath': 0.824837, 'ath_change_percentage': -97.22404, 'ath_date': '2021-11-26T01:03:48.731Z', 'atl': 0.00013475, 'atl_change_percentage': 16892.36216, 'atl_date': '2020-12-28T08:46:48.367Z', 'roi': None, 'last_updated': '2024-01-28T15:16:26.448Z'}, {'id': 'bonk', 'symbol': 'bonk', 'name': 'Bonk', 'image': 'https://assets.coingecko.com/coins/images/28600/large/bonk.jpg?1696527587', 'current_price': 1.208e-05, 'market_cap': 734408059, 'market_cap_rank': 96, 'fully_diluted_valuation': 1130979879, 'total_volume': 76550764, 'high_24h': 1.251e-05, 'low_24h': 1.162e-05, 'price_change_24h': 4.59538e-07, 'price_change_percentage_24h': 3.9532, 'market_cap_change_24h': 27358518, 'market_cap_change_percentage_24h': 3.86939, 'circulating_supply': 60837624528359.55, 'total_supply': 93689234980611.55, 'max_supply': 100000000000000.0, 'ath': 3.416e-05, 'ath_change_percentage': -64.69697, 'ath_date': '2023-12-15T07:35:13.369Z', 'atl': 8.6142e-08, 'atl_change_percentage': 13900.83396, 'atl_date': '2022-12-29T22:48:46.755Z', 'roi': None, 'last_updated': '2024-01-28T15:16:34.735Z'}, {'id': 'usdd', 'symbol': 'usdd', 'name': 'USDD', 'image': 'https://assets.coingecko.com/coins/images/25380/large/UUSD.jpg?1696524513', 'current_price': 0.994797, 'market_cap': 721486050, 'market_cap_rank': 97, 'fully_diluted_valuation': None, 'total_volume': 9848126, 'high_24h': 0.996673, 'low_24h': 0.988882, 'price_change_24h': -0.0002545759463779, 'price_change_percentage_24h': -0.02558, 'market_cap_change_24h': 12849.82, 'market_cap_change_percentage_24h': 0.00178, 'circulating_supply': 725332033.742248, 'total_supply': None, 'max_supply': None, 'ath': 1.052, 'ath_change_percentage': -5.31712, 'ath_date': '2023-10-23T22:45:25.398Z', 'atl': 0.928067, 'atl_change_percentage': 7.30827, 'atl_date': '2022-06-19T16:15:11.558Z', 'roi': None, 'last_updated': '2024-01-28T15:16:38.958Z'}, {'id': 'oasis-network', 'symbol': 'rose', 'name': 'Oasis Network', 'image': 'https://assets.coingecko.com/coins/images/13162/large/rose.png?1696512946', 'current_price': 0.107373, 'market_cap': 720932821, 'market_cap_rank': 98, 'fully_diluted_valuation': 1071255105, 'total_volume': 21552602, 'high_24h': 0.109747, 'low_24h': 0.10354, 'price_change_24h': 0.00325094, 'price_change_percentage_24h': 3.12223, 'market_cap_change_24h': 18944036, 'market_cap_change_percentage_24h': 2.69862, 'circulating_supply': 6729795897.58809, 'total_supply': 10000000000.0, 'max_supply': 10000000000.0, 'ath': 0.597347, 'ath_change_percentage': -82.13272, 'ath_date': '2022-01-15T03:31:11.062Z', 'atl': 0.03200566, 'atl_change_percentage': 233.47106, 'atl_date': '2020-11-26T17:09:12.182Z', 'roi': None, 'last_updated': '2024-01-28T15:16:37.012Z'}, {'id': 'klay-token', 'symbol': 'klay', 'name': 'Klaytn', 'image': 'https://assets.coingecko.com/coins/images/9672/large/klaytn.png?1696509742', 'current_price': 0.204334, 'market_cap': 710545531, 'market_cap_rank': 99, 'fully_diluted_valuation': 1200315858, 'total_volume': 9688619, 'high_24h': 0.210298, 'low_24h': 0.202637, 'price_change_24h': 0.00077865, 'price_change_percentage_24h': 0.38253, 'market_cap_change_24h': 47455, 'market_cap_change_percentage_24h': 0.00668, 'circulating_supply': 3485678200.18123, 'total_supply': 5888313472.56926, 'max_supply': None, 'ath': 4.34, 'ath_change_percentage': -95.31197, 'ath_date': '2021-03-30T03:44:28.828Z', 'atl': 0.06044, 'atl_change_percentage': 236.55029, 'atl_date': '2020-04-29T08:19:34.574Z', 'roi': None, 'last_updated': '2024-01-28T15:16:37.905Z'}, {'id': 'frax-ether', 'symbol': 'frxeth', 'name': 'Frax Ether', 'image': 'https://assets.coingecko.com/coins/images/28284/large/frxETH_icon.png?1696527284', 'current_price': 2266.98, 'market_cap': 702815595, 'market_cap_rank': 100, 'fully_diluted_valuation': 702815595, 'total_volume': 3867257, 'high_24h': 2299.74, 'low_24h': 2256.09, 'price_change_24h': 4.12, 'price_change_percentage_24h': 0.1822, 'market_cap_change_24h': 3680997, 'market_cap_change_percentage_24h': 0.52651, 'circulating_supply': 310041.566374601, 'total_supply': 310041.566374601, 'max_supply': None, 'ath': 2672.41, 'ath_change_percentage': -15.33409, 'ath_date': '2024-01-12T16:49:45.243Z', 'atl': 1137.25, 'atl_change_percentage': 98.95557, 'atl_date': '2022-11-23T02:25:33.267Z', 'roi': None, 'last_updated': '2024-01-28T15:16:45.888Z'}]\n"
          ]
        }
      ],
      "source": [
        "import requests\n",
        "resp = requests.get('https://api.coingecko.com/api/v3/coins/markets/?vs_currency=usd')\n",
        "cc_data = resp.json()\n",
        "print(cc_data)"
      ]
    },
    {
      "cell_type": "code",
      "execution_count": 129,
      "metadata": {
        "id": "tXPpKYECD_pJ"
      },
      "outputs": [],
      "source": [
        "import json\n",
        "\n",
        "json.dump(cc_data, open('/content/drive/MyDrive/AIS_DG/cc1.json','w'))"
      ]
    },
    {
      "cell_type": "code",
      "execution_count": 125,
      "metadata": {
        "id": "hmDX9Dr0k6xY",
        "colab": {
          "base_uri": "https://localhost:8080/",
          "height": 0
        },
        "outputId": "ce26cad9-8d13-4e74-d028-933a6c3971a4"
      },
      "outputs": [
        {
          "output_type": "execute_result",
          "data": {
            "text/plain": [
              "[{'id': 'bitcoin',\n",
              "  'symbol': 'btc',\n",
              "  'name': 'Bitcoin',\n",
              "  'image': 'https://assets.coingecko.com/coins/images/1/large/bitcoin.png?1696501400',\n",
              "  'current_price': 42365,\n",
              "  'market_cap': 830056440968,\n",
              "  'market_cap_rank': 1,\n",
              "  'fully_diluted_valuation': 888834064145,\n",
              "  'total_volume': 13680664375,\n",
              "  'high_24h': 42743,\n",
              "  'low_24h': 41750,\n",
              "  'price_change_24h': 580.57,\n",
              "  'price_change_percentage_24h': 1.38946,\n",
              "  'market_cap_change_24h': 10178363134,\n",
              "  'market_cap_change_percentage_24h': 1.24145,\n",
              "  'circulating_supply': 19611293.0,\n",
              "  'total_supply': 21000000.0,\n",
              "  'max_supply': 21000000.0,\n",
              "  'ath': 69045,\n",
              "  'ath_change_percentage': -38.77496,\n",
              "  'ath_date': '2021-11-10T14:24:11.849Z',\n",
              "  'atl': 67.81,\n",
              "  'atl_change_percentage': 62240.81797,\n",
              "  'atl_date': '2013-07-06T00:00:00.000Z',\n",
              "  'roi': None,\n",
              "  'last_updated': '2024-01-28T15:16:31.783Z'},\n",
              " {'id': 'ethereum',\n",
              "  'symbol': 'eth',\n",
              "  'name': 'Ethereum',\n",
              "  'image': 'https://assets.coingecko.com/coins/images/279/large/ethereum.png?1696501628',\n",
              "  'current_price': 2272.86,\n",
              "  'market_cap': 273004453349,\n",
              "  'market_cap_rank': 2,\n",
              "  'fully_diluted_valuation': 273004453349,\n",
              "  'total_volume': 6339633935,\n",
              "  'high_24h': 2302.02,\n",
              "  'low_24h': 2263.35,\n",
              "  'price_change_24h': 2.86,\n",
              "  'price_change_percentage_24h': 0.12588,\n",
              "  'market_cap_change_24h': -25881449.58694458,\n",
              "  'market_cap_change_percentage_24h': -0.00948,\n",
              "  'circulating_supply': 120181248.371207,\n",
              "  'total_supply': 120181248.371207,\n",
              "  'max_supply': None,\n",
              "  'ath': 4878.26,\n",
              "  'ath_change_percentage': -53.53587,\n",
              "  'ath_date': '2021-11-10T14:24:19.604Z',\n",
              "  'atl': 0.432979,\n",
              "  'atl_change_percentage': 523399.30057,\n",
              "  'atl_date': '2015-10-20T00:00:00.000Z',\n",
              "  'roi': {'times': 70.7378812471397,\n",
              "   'currency': 'btc',\n",
              "   'percentage': 7073.788124713969},\n",
              "  'last_updated': '2024-01-28T15:16:47.437Z'},\n",
              " {'id': 'tether',\n",
              "  'symbol': 'usdt',\n",
              "  'name': 'Tether',\n",
              "  'image': 'https://assets.coingecko.com/coins/images/325/large/Tether.png?1696501661',\n",
              "  'current_price': 1.0,\n",
              "  'market_cap': 96010610015,\n",
              "  'market_cap_rank': 3,\n",
              "  'fully_diluted_valuation': 96010610015,\n",
              "  'total_volume': 20584135558,\n",
              "  'high_24h': 1.004,\n",
              "  'low_24h': 0.998729,\n",
              "  'price_change_24h': 0.00019153,\n",
              "  'price_change_percentage_24h': 0.01915,\n",
              "  'market_cap_change_24h': -58378499.314208984,\n",
              "  'market_cap_change_percentage_24h': -0.06077,\n",
              "  'circulating_supply': 96036749591.5366,\n",
              "  'total_supply': 96036749591.5366,\n",
              "  'max_supply': None,\n",
              "  'ath': 1.32,\n",
              "  'ath_change_percentage': -24.46119,\n",
              "  'ath_date': '2018-07-24T00:00:00.000Z',\n",
              "  'atl': 0.572521,\n",
              "  'atl_change_percentage': 74.57009,\n",
              "  'atl_date': '2015-03-02T00:00:00.000Z',\n",
              "  'roi': None,\n",
              "  'last_updated': '2024-01-28T15:15:13.242Z'},\n",
              " {'id': 'binancecoin',\n",
              "  'symbol': 'bnb',\n",
              "  'name': 'BNB',\n",
              "  'image': 'https://assets.coingecko.com/coins/images/825/large/bnb-icon2_2x.png?1696501970',\n",
              "  'current_price': 306.92,\n",
              "  'market_cap': 47180206671,\n",
              "  'market_cap_rank': 4,\n",
              "  'fully_diluted_valuation': 47180206671,\n",
              "  'total_volume': 532944093,\n",
              "  'high_24h': 308.75,\n",
              "  'low_24h': 303.0,\n",
              "  'price_change_24h': 3.12,\n",
              "  'price_change_percentage_24h': 1.02543,\n",
              "  'market_cap_change_24h': 384806453,\n",
              "  'market_cap_change_percentage_24h': 0.82232,\n",
              "  'circulating_supply': 153856150.0,\n",
              "  'total_supply': 153856150.0,\n",
              "  'max_supply': 200000000.0,\n",
              "  'ath': 686.31,\n",
              "  'ath_change_percentage': -55.40065,\n",
              "  'ath_date': '2021-05-10T07:24:17.097Z',\n",
              "  'atl': 0.0398177,\n",
              "  'atl_change_percentage': 768624.19776,\n",
              "  'atl_date': '2017-10-19T00:00:00.000Z',\n",
              "  'roi': None,\n",
              "  'last_updated': '2024-01-28T15:16:30.024Z'},\n",
              " {'id': 'solana',\n",
              "  'symbol': 'sol',\n",
              "  'name': 'Solana',\n",
              "  'image': 'https://assets.coingecko.com/coins/images/4128/large/solana.png?1696504756',\n",
              "  'current_price': 97.38,\n",
              "  'market_cap': 42186392338,\n",
              "  'market_cap_rank': 5,\n",
              "  'fully_diluted_valuation': 55312477209,\n",
              "  'total_volume': 2173657246,\n",
              "  'high_24h': 99.19,\n",
              "  'low_24h': 92.44,\n",
              "  'price_change_24h': 4.77,\n",
              "  'price_change_percentage_24h': 5.15159,\n",
              "  'market_cap_change_24h': 2011221100,\n",
              "  'market_cap_change_percentage_24h': 5.00613,\n",
              "  'circulating_supply': 433380084.390521,\n",
              "  'total_supply': 568224128.970358,\n",
              "  'max_supply': None,\n",
              "  'ath': 259.96,\n",
              "  'ath_change_percentage': -62.7583,\n",
              "  'ath_date': '2021-11-06T21:54:35.825Z',\n",
              "  'atl': 0.500801,\n",
              "  'atl_change_percentage': 19231.66951,\n",
              "  'atl_date': '2020-05-11T19:35:23.449Z',\n",
              "  'roi': None,\n",
              "  'last_updated': '2024-01-28T15:16:33.836Z'},\n",
              " {'id': 'ripple',\n",
              "  'symbol': 'xrp',\n",
              "  'name': 'XRP',\n",
              "  'image': 'https://assets.coingecko.com/coins/images/44/large/xrp-symbol-white-128.png?1696501442',\n",
              "  'current_price': 0.529753,\n",
              "  'market_cap': 28788788988,\n",
              "  'market_cap_rank': 6,\n",
              "  'fully_diluted_valuation': 52938997549,\n",
              "  'total_volume': 420263125,\n",
              "  'high_24h': 0.53558,\n",
              "  'low_24h': 0.528239,\n",
              "  'price_change_24h': 1.792e-05,\n",
              "  'price_change_percentage_24h': 0.00338,\n",
              "  'market_cap_change_24h': -15917767.741088867,\n",
              "  'market_cap_change_percentage_24h': -0.05526,\n",
              "  'circulating_supply': 54374512255.0,\n",
              "  'total_supply': 99987956150.0,\n",
              "  'max_supply': 100000000000.0,\n",
              "  'ath': 3.4,\n",
              "  'ath_change_percentage': -84.45505,\n",
              "  'ath_date': '2018-01-07T00:00:00.000Z',\n",
              "  'atl': 0.00268621,\n",
              "  'atl_change_percentage': 19566.66467,\n",
              "  'atl_date': '2014-05-22T00:00:00.000Z',\n",
              "  'roi': None,\n",
              "  'last_updated': '2024-01-28T15:16:37.596Z'},\n",
              " {'id': 'usd-coin',\n",
              "  'symbol': 'usdc',\n",
              "  'name': 'USDC',\n",
              "  'image': 'https://assets.coingecko.com/coins/images/6319/large/usdc.png?1696506694',\n",
              "  'current_price': 1.001,\n",
              "  'market_cap': 26149226668,\n",
              "  'market_cap_rank': 7,\n",
              "  'fully_diluted_valuation': 25474285589,\n",
              "  'total_volume': 3373291896,\n",
              "  'high_24h': 1.002,\n",
              "  'low_24h': 0.998163,\n",
              "  'price_change_24h': 0.00067855,\n",
              "  'price_change_percentage_24h': 0.06785,\n",
              "  'market_cap_change_24h': 45457024,\n",
              "  'market_cap_change_percentage_24h': 0.17414,\n",
              "  'circulating_supply': 26145634341.2858,\n",
              "  'total_supply': 25470785983.8999,\n",
              "  'max_supply': None,\n",
              "  'ath': 1.17,\n",
              "  'ath_change_percentage': -14.88214,\n",
              "  'ath_date': '2019-05-08T00:40:28.300Z',\n",
              "  'atl': 0.877647,\n",
              "  'atl_change_percentage': 13.73397,\n",
              "  'atl_date': '2023-03-11T08:02:13.981Z',\n",
              "  'roi': None,\n",
              "  'last_updated': '2024-01-28T15:16:26.787Z'},\n",
              " {'id': 'staked-ether',\n",
              "  'symbol': 'steth',\n",
              "  'name': 'Lido Staked Ether',\n",
              "  'image': 'https://assets.coingecko.com/coins/images/13442/large/steth_logo.png?1696513206',\n",
              "  'current_price': 2270.07,\n",
              "  'market_cap': 21295408296,\n",
              "  'market_cap_rank': 8,\n",
              "  'fully_diluted_valuation': 21295408296,\n",
              "  'total_volume': 16196293,\n",
              "  'high_24h': 2299.78,\n",
              "  'low_24h': 2260.86,\n",
              "  'price_change_24h': 0.359341,\n",
              "  'price_change_percentage_24h': 0.01583,\n",
              "  'market_cap_change_24h': 20952781,\n",
              "  'market_cap_change_percentage_24h': 0.09849,\n",
              "  'circulating_supply': 9381711.85586445,\n",
              "  'total_supply': 9381711.85586445,\n",
              "  'max_supply': 9381711.85586445,\n",
              "  'ath': 4829.57,\n",
              "  'ath_change_percentage': -53.03625,\n",
              "  'ath_date': '2021-11-10T14:40:47.256Z',\n",
              "  'atl': 482.9,\n",
              "  'atl_change_percentage': 369.69668,\n",
              "  'atl_date': '2020-12-22T04:08:21.854Z',\n",
              "  'roi': None,\n",
              "  'last_updated': '2024-01-28T15:16:43.660Z'},\n",
              " {'id': 'cardano',\n",
              "  'symbol': 'ada',\n",
              "  'name': 'Cardano',\n",
              "  'image': 'https://assets.coingecko.com/coins/images/975/large/cardano.png?1696502090',\n",
              "  'current_price': 0.491878,\n",
              "  'market_cap': 17230541686,\n",
              "  'market_cap_rank': 9,\n",
              "  'fully_diluted_valuation': 22090237717,\n",
              "  'total_volume': 316390823,\n",
              "  'high_24h': 0.499694,\n",
              "  'low_24h': 0.483623,\n",
              "  'price_change_24h': 0.00759318,\n",
              "  'price_change_percentage_24h': 1.56792,\n",
              "  'market_cap_change_24h': 218302933,\n",
              "  'market_cap_change_percentage_24h': 1.28321,\n",
              "  'circulating_supply': 35100318330.6778,\n",
              "  'total_supply': 45000000000.0,\n",
              "  'max_supply': 45000000000.0,\n",
              "  'ath': 3.09,\n",
              "  'ath_change_percentage': -84.12173,\n",
              "  'ath_date': '2021-09-02T06:00:10.474Z',\n",
              "  'atl': 0.01925275,\n",
              "  'atl_change_percentage': 2445.86059,\n",
              "  'atl_date': '2020-03-13T02:22:55.044Z',\n",
              "  'roi': None,\n",
              "  'last_updated': '2024-01-28T15:16:36.724Z'},\n",
              " {'id': 'avalanche-2',\n",
              "  'symbol': 'avax',\n",
              "  'name': 'Avalanche',\n",
              "  'image': 'https://assets.coingecko.com/coins/images/12559/large/Avalanche_Circle_RedWhite_Trans.png?1696512369',\n",
              "  'current_price': 35.52,\n",
              "  'market_cap': 12991785746,\n",
              "  'market_cap_rank': 10,\n",
              "  'fully_diluted_valuation': 15399882624,\n",
              "  'total_volume': 861927998,\n",
              "  'high_24h': 36.53,\n",
              "  'low_24h': 32.35,\n",
              "  'price_change_24h': 2.96,\n",
              "  'price_change_percentage_24h': 9.07296,\n",
              "  'market_cap_change_24h': 1011651739,\n",
              "  'market_cap_change_percentage_24h': 8.44441,\n",
              "  'circulating_supply': 367040415.863273,\n",
              "  'total_supply': 435073317.331182,\n",
              "  'max_supply': 720000000.0,\n",
              "  'ath': 144.96,\n",
              "  'ath_change_percentage': -75.44674,\n",
              "  'ath_date': '2021-11-21T14:18:56.538Z',\n",
              "  'atl': 2.8,\n",
              "  'atl_change_percentage': 1170.68522,\n",
              "  'atl_date': '2020-12-31T13:15:21.540Z',\n",
              "  'roi': None,\n",
              "  'last_updated': '2024-01-28T15:16:29.088Z'}]"
            ]
          },
          "metadata": {},
          "execution_count": 125
        }
      ],
      "source": [
        "cc_data[:10]"
      ]
    },
    {
      "cell_type": "markdown",
      "metadata": {
        "id": "uf6ogyD82AIp"
      },
      "source": [
        "1. What is the latest price of BTC?"
      ]
    },
    {
      "cell_type": "code",
      "execution_count": 126,
      "metadata": {
        "id": "MAkJg_4K2AIp",
        "colab": {
          "base_uri": "https://localhost:8080/",
          "height": 0
        },
        "outputId": "c7c99809-38f2-4ef3-d433-fc164f034aec"
      },
      "outputs": [
        {
          "output_type": "execute_result",
          "data": {
            "text/plain": [
              "42365"
            ]
          },
          "metadata": {},
          "execution_count": 126
        }
      ],
      "source": [
        "# Write your answer here\n",
        "cc_data[0]['current_price']"
      ]
    },
    {
      "cell_type": "markdown",
      "metadata": {
        "id": "QpcsDKJQ2AIp"
      },
      "source": [
        "2. What date is the date of data retrieval?"
      ]
    },
    {
      "cell_type": "code",
      "execution_count": 127,
      "metadata": {
        "id": "IbgbBATy2AIq",
        "colab": {
          "base_uri": "https://localhost:8080/",
          "height": 34
        },
        "outputId": "f80da5d8-dada-4273-b654-9fbdfcced694"
      },
      "outputs": [
        {
          "output_type": "execute_result",
          "data": {
            "text/plain": [
              "'2024-01-28T15:16:31.783Z'"
            ],
            "application/vnd.google.colaboratory.intrinsic+json": {
              "type": "string"
            }
          },
          "metadata": {},
          "execution_count": 127
        }
      ],
      "source": [
        "# Write your answer here\n",
        "cc_data[0]['last_updated']"
      ]
    },
    {
      "cell_type": "markdown",
      "metadata": {
        "id": "wYnWC0j82AIq"
      },
      "source": [
        "3. How do we know if our code can properly access the website or not? (require a bit of function reference searching on Internet)"
      ]
    },
    {
      "cell_type": "code",
      "execution_count": 128,
      "metadata": {
        "id": "f9em6TZg2AIq",
        "colab": {
          "base_uri": "https://localhost:8080/",
          "height": 0
        },
        "outputId": "4ebfd30c-9923-4b11-d819-cc2fad41978c"
      },
      "outputs": [
        {
          "output_type": "execute_result",
          "data": {
            "text/plain": [
              "200"
            ]
          },
          "metadata": {},
          "execution_count": 128
        }
      ],
      "source": [
        "# Write your answer here\n",
        "resp.status_code"
      ]
    },
    {
      "cell_type": "code",
      "execution_count": 133,
      "metadata": {
        "id": "lYli6YxX2AIq",
        "colab": {
          "base_uri": "https://localhost:8080/",
          "height": 0
        },
        "outputId": "f2106637-ddec-4f7e-ca7e-df3fa71729e5"
      },
      "outputs": [
        {
          "output_type": "stream",
          "name": "stdout",
          "text": [
            "[{'id': 'bitcoin', 'symbol': 'btc', 'name': 'Bitcoin', 'image': 'https://assets.coingecko.com/coins/images/1/large/bitcoin.png?1696501400', 'current_price': 42365, 'market_cap': 830056440968, 'market_cap_rank': 1, 'fully_diluted_valuation': 888834064145, 'total_volume': 13680664375, 'high_24h': 42743, 'low_24h': 41750, 'price_change_24h': 580.57, 'price_change_percentage_24h': 1.38946, 'market_cap_change_24h': 10178363134, 'market_cap_change_percentage_24h': 1.24145, 'circulating_supply': 19611293.0, 'total_supply': 21000000.0, 'max_supply': 21000000.0, 'ath': 69045, 'ath_change_percentage': -38.77496, 'ath_date': '2021-11-10T14:24:11.849Z', 'atl': 67.81, 'atl_change_percentage': 62240.81797, 'atl_date': '2013-07-06T00:00:00.000Z', 'roi': None, 'last_updated': '2024-01-28T15:16:31.783Z'}, {'id': 'ethereum', 'symbol': 'eth', 'name': 'Ethereum', 'image': 'https://assets.coingecko.com/coins/images/279/large/ethereum.png?1696501628', 'current_price': 2272.86, 'market_cap': 273004453349, 'market_cap_rank': 2, 'fully_diluted_valuation': 273004453349, 'total_volume': 6339633935, 'high_24h': 2302.02, 'low_24h': 2263.35, 'price_change_24h': 2.86, 'price_change_percentage_24h': 0.12588, 'market_cap_change_24h': -25881449.58694458, 'market_cap_change_percentage_24h': -0.00948, 'circulating_supply': 120181248.371207, 'total_supply': 120181248.371207, 'max_supply': None, 'ath': 4878.26, 'ath_change_percentage': -53.53587, 'ath_date': '2021-11-10T14:24:19.604Z', 'atl': 0.432979, 'atl_change_percentage': 523399.30057, 'atl_date': '2015-10-20T00:00:00.000Z', 'roi': {'times': 70.7378812471397, 'currency': 'btc', 'percentage': 7073.788124713969}, 'last_updated': '2024-01-28T15:16:47.437Z'}, {'id': 'tether', 'symbol': 'usdt', 'name': 'Tether', 'image': 'https://assets.coingecko.com/coins/images/325/large/Tether.png?1696501661', 'current_price': 1.0, 'market_cap': 96010610015, 'market_cap_rank': 3, 'fully_diluted_valuation': 96010610015, 'total_volume': 20584135558, 'high_24h': 1.004, 'low_24h': 0.998729, 'price_change_24h': 0.00019153, 'price_change_percentage_24h': 0.01915, 'market_cap_change_24h': -58378499.314208984, 'market_cap_change_percentage_24h': -0.06077, 'circulating_supply': 96036749591.5366, 'total_supply': 96036749591.5366, 'max_supply': None, 'ath': 1.32, 'ath_change_percentage': -24.46119, 'ath_date': '2018-07-24T00:00:00.000Z', 'atl': 0.572521, 'atl_change_percentage': 74.57009, 'atl_date': '2015-03-02T00:00:00.000Z', 'roi': None, 'last_updated': '2024-01-28T15:15:13.242Z'}, {'id': 'binancecoin', 'symbol': 'bnb', 'name': 'BNB', 'image': 'https://assets.coingecko.com/coins/images/825/large/bnb-icon2_2x.png?1696501970', 'current_price': 306.92, 'market_cap': 47180206671, 'market_cap_rank': 4, 'fully_diluted_valuation': 47180206671, 'total_volume': 532944093, 'high_24h': 308.75, 'low_24h': 303.0, 'price_change_24h': 3.12, 'price_change_percentage_24h': 1.02543, 'market_cap_change_24h': 384806453, 'market_cap_change_percentage_24h': 0.82232, 'circulating_supply': 153856150.0, 'total_supply': 153856150.0, 'max_supply': 200000000.0, 'ath': 686.31, 'ath_change_percentage': -55.40065, 'ath_date': '2021-05-10T07:24:17.097Z', 'atl': 0.0398177, 'atl_change_percentage': 768624.19776, 'atl_date': '2017-10-19T00:00:00.000Z', 'roi': None, 'last_updated': '2024-01-28T15:16:30.024Z'}, {'id': 'solana', 'symbol': 'sol', 'name': 'Solana', 'image': 'https://assets.coingecko.com/coins/images/4128/large/solana.png?1696504756', 'current_price': 97.38, 'market_cap': 42186392338, 'market_cap_rank': 5, 'fully_diluted_valuation': 55312477209, 'total_volume': 2173657246, 'high_24h': 99.19, 'low_24h': 92.44, 'price_change_24h': 4.77, 'price_change_percentage_24h': 5.15159, 'market_cap_change_24h': 2011221100, 'market_cap_change_percentage_24h': 5.00613, 'circulating_supply': 433380084.390521, 'total_supply': 568224128.970358, 'max_supply': None, 'ath': 259.96, 'ath_change_percentage': -62.7583, 'ath_date': '2021-11-06T21:54:35.825Z', 'atl': 0.500801, 'atl_change_percentage': 19231.66951, 'atl_date': '2020-05-11T19:35:23.449Z', 'roi': None, 'last_updated': '2024-01-28T15:16:33.836Z'}, {'id': 'ripple', 'symbol': 'xrp', 'name': 'XRP', 'image': 'https://assets.coingecko.com/coins/images/44/large/xrp-symbol-white-128.png?1696501442', 'current_price': 0.529753, 'market_cap': 28788788988, 'market_cap_rank': 6, 'fully_diluted_valuation': 52938997549, 'total_volume': 420263125, 'high_24h': 0.53558, 'low_24h': 0.528239, 'price_change_24h': 1.792e-05, 'price_change_percentage_24h': 0.00338, 'market_cap_change_24h': -15917767.741088867, 'market_cap_change_percentage_24h': -0.05526, 'circulating_supply': 54374512255.0, 'total_supply': 99987956150.0, 'max_supply': 100000000000.0, 'ath': 3.4, 'ath_change_percentage': -84.45505, 'ath_date': '2018-01-07T00:00:00.000Z', 'atl': 0.00268621, 'atl_change_percentage': 19566.66467, 'atl_date': '2014-05-22T00:00:00.000Z', 'roi': None, 'last_updated': '2024-01-28T15:16:37.596Z'}, {'id': 'usd-coin', 'symbol': 'usdc', 'name': 'USDC', 'image': 'https://assets.coingecko.com/coins/images/6319/large/usdc.png?1696506694', 'current_price': 1.001, 'market_cap': 26149226668, 'market_cap_rank': 7, 'fully_diluted_valuation': 25474285589, 'total_volume': 3373291896, 'high_24h': 1.002, 'low_24h': 0.998163, 'price_change_24h': 0.00067855, 'price_change_percentage_24h': 0.06785, 'market_cap_change_24h': 45457024, 'market_cap_change_percentage_24h': 0.17414, 'circulating_supply': 26145634341.2858, 'total_supply': 25470785983.8999, 'max_supply': None, 'ath': 1.17, 'ath_change_percentage': -14.88214, 'ath_date': '2019-05-08T00:40:28.300Z', 'atl': 0.877647, 'atl_change_percentage': 13.73397, 'atl_date': '2023-03-11T08:02:13.981Z', 'roi': None, 'last_updated': '2024-01-28T15:16:26.787Z'}, {'id': 'staked-ether', 'symbol': 'steth', 'name': 'Lido Staked Ether', 'image': 'https://assets.coingecko.com/coins/images/13442/large/steth_logo.png?1696513206', 'current_price': 2270.07, 'market_cap': 21295408296, 'market_cap_rank': 8, 'fully_diluted_valuation': 21295408296, 'total_volume': 16196293, 'high_24h': 2299.78, 'low_24h': 2260.86, 'price_change_24h': 0.359341, 'price_change_percentage_24h': 0.01583, 'market_cap_change_24h': 20952781, 'market_cap_change_percentage_24h': 0.09849, 'circulating_supply': 9381711.85586445, 'total_supply': 9381711.85586445, 'max_supply': 9381711.85586445, 'ath': 4829.57, 'ath_change_percentage': -53.03625, 'ath_date': '2021-11-10T14:40:47.256Z', 'atl': 482.9, 'atl_change_percentage': 369.69668, 'atl_date': '2020-12-22T04:08:21.854Z', 'roi': None, 'last_updated': '2024-01-28T15:16:43.660Z'}, {'id': 'cardano', 'symbol': 'ada', 'name': 'Cardano', 'image': 'https://assets.coingecko.com/coins/images/975/large/cardano.png?1696502090', 'current_price': 0.491878, 'market_cap': 17230541686, 'market_cap_rank': 9, 'fully_diluted_valuation': 22090237717, 'total_volume': 316390823, 'high_24h': 0.499694, 'low_24h': 0.483623, 'price_change_24h': 0.00759318, 'price_change_percentage_24h': 1.56792, 'market_cap_change_24h': 218302933, 'market_cap_change_percentage_24h': 1.28321, 'circulating_supply': 35100318330.6778, 'total_supply': 45000000000.0, 'max_supply': 45000000000.0, 'ath': 3.09, 'ath_change_percentage': -84.12173, 'ath_date': '2021-09-02T06:00:10.474Z', 'atl': 0.01925275, 'atl_change_percentage': 2445.86059, 'atl_date': '2020-03-13T02:22:55.044Z', 'roi': None, 'last_updated': '2024-01-28T15:16:36.724Z'}, {'id': 'avalanche-2', 'symbol': 'avax', 'name': 'Avalanche', 'image': 'https://assets.coingecko.com/coins/images/12559/large/Avalanche_Circle_RedWhite_Trans.png?1696512369', 'current_price': 35.52, 'market_cap': 12991785746, 'market_cap_rank': 10, 'fully_diluted_valuation': 15399882624, 'total_volume': 861927998, 'high_24h': 36.53, 'low_24h': 32.35, 'price_change_24h': 2.96, 'price_change_percentage_24h': 9.07296, 'market_cap_change_24h': 1011651739, 'market_cap_change_percentage_24h': 8.44441, 'circulating_supply': 367040415.863273, 'total_supply': 435073317.331182, 'max_supply': 720000000.0, 'ath': 144.96, 'ath_change_percentage': -75.44674, 'ath_date': '2021-11-21T14:18:56.538Z', 'atl': 2.8, 'atl_change_percentage': 1170.68522, 'atl_date': '2020-12-31T13:15:21.540Z', 'roi': None, 'last_updated': '2024-01-28T15:16:29.088Z'}, {'id': 'dogecoin', 'symbol': 'doge', 'name': 'Dogecoin', 'image': 'https://assets.coingecko.com/coins/images/5/large/dogecoin.png?1696501409', 'current_price': 0.079466, 'market_cap': 11347234214, 'market_cap_rank': 11, 'fully_diluted_valuation': 11347206410, 'total_volume': 292229267, 'high_24h': 0.081329, 'low_24h': 0.079312, 'price_change_24h': -8.8811098582248e-05, 'price_change_percentage_24h': -0.11163, 'market_cap_change_24h': -17108764.51222229, 'market_cap_change_percentage_24h': -0.15055, 'circulating_supply': 142840406383.705, 'total_supply': 142840056383.705, 'max_supply': None, 'ath': 0.731578, 'ath_change_percentage': -89.15455, 'ath_date': '2021-05-08T05:08:23.458Z', 'atl': 8.69e-05, 'atl_change_percentage': 91199.81222, 'atl_date': '2015-05-06T00:00:00.000Z', 'roi': None, 'last_updated': '2024-01-28T15:16:28.292Z'}, {'id': 'tron', 'symbol': 'trx', 'name': 'TRON', 'image': 'https://assets.coingecko.com/coins/images/1094/large/tron-logo.png?1696502193', 'current_price': 0.112089, 'market_cap': 9879470002, 'market_cap_rank': 12, 'fully_diluted_valuation': 9879492907, 'total_volume': 228027825, 'high_24h': 0.113692, 'low_24h': 0.111713, 'price_change_24h': -0.001151810240725179, 'price_change_percentage_24h': -1.01713, 'market_cap_change_24h': -109528805.999012, 'market_cap_change_percentage_24h': -1.09649, 'circulating_supply': 88154693739.7927, 'total_supply': 88154898118.8388, 'max_supply': None, 'ath': 0.231673, 'ath_change_percentage': -51.70431, 'ath_date': '2018-01-05T00:00:00.000Z', 'atl': 0.00180434, 'atl_change_percentage': 6101.041, 'atl_date': '2017-11-12T00:00:00.000Z', 'roi': {'times': 57.994340329396266, 'currency': 'usd', 'percentage': 5799.434032939626}, 'last_updated': '2024-01-28T15:16:41.347Z'}, {'id': 'polkadot', 'symbol': 'dot', 'name': 'Polkadot', 'image': 'https://assets.coingecko.com/coins/images/12171/large/polkadot.png?1696512008', 'current_price': 6.67, 'market_cap': 8817906341, 'market_cap_rank': 13, 'fully_diluted_valuation': 9357099499, 'total_volume': 161058921, 'high_24h': 6.79, 'low_24h': 6.65, 'price_change_24h': -0.011431834943090635, 'price_change_percentage_24h': -0.1712, 'market_cap_change_24h': -53557610.86231613, 'market_cap_change_percentage_24h': -0.60371, 'circulating_supply': 1323833333.83156, 'total_supply': 1404782467.12792, 'max_supply': None, 'ath': 54.98, 'ath_change_percentage': -87.89284, 'ath_date': '2021-11-04T14:10:09.301Z', 'atl': 2.7, 'atl_change_percentage': 146.77422, 'atl_date': '2020-08-20T05:48:11.359Z', 'roi': None, 'last_updated': '2024-01-28T15:16:35.015Z'}, {'id': 'chainlink', 'symbol': 'link', 'name': 'Chainlink', 'image': 'https://assets.coingecko.com/coins/images/877/large/chainlink-new-logo.png?1696502009', 'current_price': 14.36, 'market_cap': 8157071843, 'market_cap_rank': 14, 'fully_diluted_valuation': 14358514796, 'total_volume': 317015520, 'high_24h': 14.69, 'low_24h': 14.25, 'price_change_24h': 0.087354, 'price_change_percentage_24h': 0.6119, 'market_cap_change_24h': 28767485, 'market_cap_change_percentage_24h': 0.35392, 'circulating_supply': 568099971.3083414, 'total_supply': 1000000000.0, 'max_supply': 1000000000.0, 'ath': 52.7, 'ath_change_percentage': -72.82159, 'ath_date': '2021-05-10T00:13:57.214Z', 'atl': 0.148183, 'atl_change_percentage': 9565.12904, 'atl_date': '2017-11-29T00:00:00.000Z', 'roi': None, 'last_updated': '2024-01-28T15:16:46.204Z'}, {'id': 'matic-network', 'symbol': 'matic', 'name': 'Polygon', 'image': 'https://assets.coingecko.com/coins/images/4713/large/polygon.png?1698233745', 'current_price': 0.794813, 'market_cap': 7368422966, 'market_cap_rank': 15, 'fully_diluted_valuation': 7937593193, 'total_volume': 318667807, 'high_24h': 0.810006, 'low_24h': 0.77594, 'price_change_24h': 0.01873668, 'price_change_percentage_24h': 2.41428, 'market_cap_change_24h': 156253036, 'market_cap_change_percentage_24h': 2.16652, 'circulating_supply': 9282943566.203985, 'total_supply': 10000000000.0, 'max_supply': 10000000000.0, 'ath': 2.92, 'ath_change_percentage': -72.83126, 'ath_date': '2021-12-27T02:08:34.307Z', 'atl': 0.00314376, 'atl_change_percentage': 25102.67885, 'atl_date': '2019-05-10T00:00:00.000Z', 'roi': {'times': 301.21031835861714, 'currency': 'usd', 'percentage': 30121.031835861715}, 'last_updated': '2024-01-28T15:16:50.956Z'}, {'id': 'the-open-network', 'symbol': 'ton', 'name': 'Toncoin', 'image': 'https://assets.coingecko.com/coins/images/17980/large/ton_symbol.png?1696517498', 'current_price': 2.11, 'market_cap': 7269801314, 'market_cap_rank': 16, 'fully_diluted_valuation': 10727465723, 'total_volume': 12364103, 'high_24h': 2.13, 'low_24h': 2.07, 'price_change_24h': 0.03555706, 'price_change_percentage_24h': 1.71726, 'market_cap_change_24h': 114447788, 'market_cap_change_percentage_24h': 1.59947, 'circulating_supply': 3457514430.46367, 'total_supply': 5101978160.90746, 'max_supply': None, 'ath': 5.29, 'ath_change_percentage': -60.25312, 'ath_date': '2021-11-12T06:50:02.476Z', 'atl': 0.519364, 'atl_change_percentage': 304.90422, 'atl_date': '2021-09-21T00:33:11.092Z', 'roi': None, 'last_updated': '2024-01-28T15:16:50.255Z'}, {'id': 'wrapped-bitcoin', 'symbol': 'wbtc', 'name': 'Wrapped Bitcoin', 'image': 'https://assets.coingecko.com/coins/images/7598/large/wrapped_bitcoin_wbtc.png?1696507857', 'current_price': 42245, 'market_cap': 6663822126, 'market_cap_rank': 17, 'fully_diluted_valuation': 6663822126, 'total_volume': 160494418, 'high_24h': 42616, 'low_24h': 41695, 'price_change_24h': 510.77, 'price_change_percentage_24h': 1.22387, 'market_cap_change_24h': 75227144, 'market_cap_change_percentage_24h': 1.14178, 'circulating_supply': 157867.62371727, 'total_supply': 157867.62371727, 'max_supply': 157867.62371727, 'ath': 70643, 'ath_change_percentage': -40.32508, 'ath_date': '2021-11-10T14:40:19.650Z', 'atl': 3139.17, 'atl_change_percentage': 1242.91382, 'atl_date': '2019-04-02T00:00:00.000Z', 'roi': None, 'last_updated': '2024-01-28T15:16:42.511Z'}, {'id': 'internet-computer', 'symbol': 'icp', 'name': 'Internet Computer', 'image': 'https://assets.coingecko.com/coins/images/14495/large/Internet_Computer_logo.png?1696514180', 'current_price': 12.51, 'market_cap': 5700598286, 'market_cap_rank': 18, 'fully_diluted_valuation': 6417619575, 'total_volume': 130731507, 'high_24h': 12.98, 'low_24h': 12.45, 'price_change_24h': -0.006456265788981953, 'price_change_percentage_24h': -0.0516, 'market_cap_change_24h': -26243038.19231701, 'market_cap_change_percentage_24h': -0.45825, 'circulating_supply': 456480801.829092, 'total_supply': 513896960.033768, 'max_supply': None, 'ath': 700.65, 'ath_change_percentage': -98.21877, 'ath_date': '2021-05-10T16:05:53.653Z', 'atl': 2.87, 'atl_change_percentage': 335.60426, 'atl_date': '2023-09-22T00:29:57.369Z', 'roi': None, 'last_updated': '2024-01-28T15:16:36.289Z'}, {'id': 'shiba-inu', 'symbol': 'shib', 'name': 'Shiba Inu', 'image': 'https://assets.coingecko.com/coins/images/11939/large/shiba.png?1696511800', 'current_price': 9.09e-06, 'market_cap': 5349733577, 'market_cap_rank': 19, 'fully_diluted_valuation': 9078242752, 'total_volume': 86583482, 'high_24h': 9.25e-06, 'low_24h': 9.05e-06, 'price_change_24h': 4.4995e-08, 'price_change_percentage_24h': 0.49738, 'market_cap_change_24h': 18889080, 'market_cap_change_percentage_24h': 0.35434, 'circulating_supply': 589281372340733.4, 'total_supply': 999982386137001.0, 'max_supply': None, 'ath': 8.616e-05, 'ath_change_percentage': -89.48432, 'ath_date': '2021-10-28T03:54:55.568Z', 'atl': 5.6366e-11, 'atl_change_percentage': 16073636.79711, 'atl_date': '2020-11-28T11:26:25.838Z', 'roi': None, 'last_updated': '2024-01-28T15:16:40.723Z'}, {'id': 'dai', 'symbol': 'dai', 'name': 'Dai', 'image': 'https://assets.coingecko.com/coins/images/9956/large/Badge_Dai.png?1696509996', 'current_price': 0.99777, 'market_cap': 5223852636, 'market_cap_rank': 20, 'fully_diluted_valuation': 5223852636, 'total_volume': 136782064, 'high_24h': 1.003, 'low_24h': 0.997033, 'price_change_24h': -0.002749958321896618, 'price_change_percentage_24h': -0.27485, 'market_cap_change_24h': -7186295.507614136, 'market_cap_change_percentage_24h': -0.13738, 'circulating_supply': 5232534926.55237, 'total_supply': 5232534926.55237, 'max_supply': None, 'ath': 1.22, 'ath_change_percentage': -18.1465, 'ath_date': '2020-03-13T03:02:50.373Z', 'atl': 0.88196, 'atl_change_percentage': 13.12729, 'atl_date': '2023-03-11T07:50:50.514Z', 'roi': None, 'last_updated': '2024-01-28T15:15:10.105Z'}, {'id': 'litecoin', 'symbol': 'ltc', 'name': 'Litecoin', 'image': 'https://assets.coingecko.com/coins/images/2/large/litecoin.png?1696501400', 'current_price': 67.59, 'market_cap': 5007539268, 'market_cap_rank': 21, 'fully_diluted_valuation': 5673243141, 'total_volume': 212166442, 'high_24h': 68.4, 'low_24h': 67.07, 'price_change_24h': 0.521667, 'price_change_percentage_24h': 0.77779, 'market_cap_change_24h': 30400311, 'market_cap_change_percentage_24h': 0.6108, 'circulating_supply': 74143358.2334713, 'total_supply': 84000000.0, 'max_supply': 84000000.0, 'ath': 410.26, 'ath_change_percentage': -83.56255, 'ath_date': '2021-05-10T03:13:07.904Z', 'atl': 1.15, 'atl_change_percentage': 5769.92997, 'atl_date': '2015-01-14T00:00:00.000Z', 'roi': None, 'last_updated': '2024-01-28T15:16:36.625Z'}, {'id': 'bitcoin-cash', 'symbol': 'bch', 'name': 'Bitcoin Cash', 'image': 'https://assets.coingecko.com/coins/images/780/large/bitcoin-cash-circle.png?1696501932', 'current_price': 240.41, 'market_cap': 4714170219, 'market_cap_rank': 22, 'fully_diluted_valuation': 5044136324, 'total_volume': 117106398, 'high_24h': 245.83, 'low_24h': 239.81, 'price_change_24h': -3.485577037839221, 'price_change_percentage_24h': -1.42915, 'market_cap_change_24h': -66873341.69066429, 'market_cap_change_percentage_24h': -1.39872, 'circulating_supply': 19626268.6466508, 'total_supply': 21000000.0, 'max_supply': 21000000.0, 'ath': 3785.82, 'ath_change_percentage': -93.66278, 'ath_date': '2017-12-20T00:00:00.000Z', 'atl': 76.93, 'atl_change_percentage': 211.84288, 'atl_date': '2018-12-16T00:00:00.000Z', 'roi': None, 'last_updated': '2024-01-28T15:16:46.681Z'}, {'id': 'uniswap', 'symbol': 'uni', 'name': 'Uniswap', 'image': 'https://assets.coingecko.com/coins/images/12504/large/uni.jpg?1696512319', 'current_price': 5.95, 'market_cap': 4478558087, 'market_cap_rank': 23, 'fully_diluted_valuation': 5941570891, 'total_volume': 62073866, 'high_24h': 6.07, 'low_24h': 5.92, 'price_change_24h': 0.0242183, 'price_change_percentage_24h': 0.40875, 'market_cap_change_24h': 7379210, 'market_cap_change_percentage_24h': 0.16504, 'circulating_supply': 753766667.0, 'total_supply': 1000000000.0, 'max_supply': 1000000000.0, 'ath': 44.92, 'ath_change_percentage': -86.78958, 'ath_date': '2021-05-03T05:25:04.822Z', 'atl': 1.03, 'atl_change_percentage': 476.0077, 'atl_date': '2020-09-17T01:20:38.214Z', 'roi': None, 'last_updated': '2024-01-28T15:16:34.009Z'}, {'id': 'leo-token', 'symbol': 'leo', 'name': 'LEO Token', 'image': 'https://assets.coingecko.com/coins/images/8418/large/leo-token.png?1696508607', 'current_price': 4.07, 'market_cap': 3773926616, 'market_cap_rank': 24, 'fully_diluted_valuation': 4007650254, 'total_volume': 1066972, 'high_24h': 4.08, 'low_24h': 4.01, 'price_change_24h': -0.00957494468430209, 'price_change_percentage_24h': -0.23491, 'market_cap_change_24h': -1220258.4470863342, 'market_cap_change_percentage_24h': -0.03232, 'circulating_supply': 927780956.9, 'total_supply': 985239504.0, 'max_supply': None, 'ath': 8.14, 'ath_change_percentage': -50.01152, 'ath_date': '2022-02-08T17:40:10.285Z', 'atl': 0.799859, 'atl_change_percentage': 408.43134, 'atl_date': '2019-12-24T15:14:35.376Z', 'roi': None, 'last_updated': '2024-01-28T15:16:28.512Z'}, {'id': 'cosmos', 'symbol': 'atom', 'name': 'Cosmos Hub', 'image': 'https://assets.coingecko.com/coins/images/1481/large/cosmos_hub.png?1696502525', 'current_price': 9.5, 'market_cap': 3644149032, 'market_cap_rank': 25, 'fully_diluted_valuation': 3644149032, 'total_volume': 96507074, 'high_24h': 9.78, 'low_24h': 9.48, 'price_change_24h': -0.003526575275898836, 'price_change_percentage_24h': -0.03709, 'market_cap_change_24h': -5154359.040060997, 'market_cap_change_percentage_24h': -0.14124, 'circulating_supply': 383774098.795288, 'total_supply': 383774098.795288, 'max_supply': None, 'ath': 44.45, 'ath_change_percentage': -78.62218, 'ath_date': '2022-01-17T00:34:41.497Z', 'atl': 1.16, 'atl_change_percentage': 719.09817, 'atl_date': '2020-03-13T02:27:44.591Z', 'roi': {'times': 94.03902233463754, 'currency': 'usd', 'percentage': 9403.902233463754}, 'last_updated': '2024-01-28T15:16:37.909Z'}, {'id': 'ethereum-classic', 'symbol': 'etc', 'name': 'Ethereum Classic', 'image': 'https://assets.coingecko.com/coins/images/453/large/ethereum-classic-logo.png?1696501717', 'current_price': 23.82, 'market_cap': 3408471284, 'market_cap_rank': 26, 'fully_diluted_valuation': 5015043777, 'total_volume': 151605118, 'high_24h': 24.39, 'low_24h': 23.73, 'price_change_24h': -0.14383863718315837, 'price_change_percentage_24h': -0.60016, 'market_cap_change_24h': -26522695.42848587, 'market_cap_change_percentage_24h': -0.77213, 'circulating_supply': 143202119.751449, 'total_supply': 210700000.0, 'max_supply': 210700000.0, 'ath': 167.09, 'ath_change_percentage': -85.77856, 'ath_date': '2021-05-06T18:34:22.133Z', 'atl': 0.615038, 'atl_change_percentage': 3763.49322, 'atl_date': '2016-07-25T00:00:00.000Z', 'roi': {'times': 51.9394646759418, 'currency': 'usd', 'percentage': 5193.94646759418}, 'last_updated': '2024-01-28T15:16:26.614Z'}, {'id': 'injective-protocol', 'symbol': 'inj', 'name': 'Injective', 'image': 'https://assets.coingecko.com/coins/images/12882/large/Secondary_Symbol.png?1696512670', 'current_price': 37.4, 'market_cap': 3305604597, 'market_cap_rank': 27, 'fully_diluted_valuation': 3739700745, 'total_volume': 190662416, 'high_24h': 38.35, 'low_24h': 34.64, 'price_change_24h': 2.08, 'price_change_percentage_24h': 5.89641, 'market_cap_change_24h': 178540444, 'market_cap_change_percentage_24h': 5.70952, 'circulating_supply': 88392222.33, 'total_supply': 100000000.0, 'max_supply': None, 'ath': 45.01, 'ath_change_percentage': -16.82153, 'ath_date': '2024-01-09T06:31:10.010Z', 'atl': 0.657401, 'atl_change_percentage': 5595.298, 'atl_date': '2020-11-03T16:19:30.576Z', 'roi': None, 'last_updated': '2024-01-28T15:16:36.291Z'}, {'id': 'stellar', 'symbol': 'xlm', 'name': 'Stellar', 'image': 'https://assets.coingecko.com/coins/images/100/large/Stellar_symbol_black_RGB.png?1696501482', 'current_price': 0.114488, 'market_cap': 3249461128, 'market_cap_rank': 28, 'fully_diluted_valuation': 5721066606, 'total_volume': 52447587, 'high_24h': 0.116906, 'low_24h': 0.114292, 'price_change_24h': -0.001614123620308938, 'price_change_percentage_24h': -1.39026, 'market_cap_change_24h': -50431883.394394875, 'market_cap_change_percentage_24h': -1.52829, 'circulating_supply': 28400099927.6715, 'total_supply': 50001787044.0868, 'max_supply': 50001787044.0868, 'ath': 0.875563, 'ath_change_percentage': -86.94651, 'ath_date': '2018-01-03T00:00:00.000Z', 'atl': 0.00047612, 'atl_change_percentage': 23904.59944, 'atl_date': '2015-03-05T00:00:00.000Z', 'roi': None, 'last_updated': '2024-01-28T15:16:51.151Z'}, {'id': 'okb', 'symbol': 'okb', 'name': 'OKB', 'image': 'https://assets.coingecko.com/coins/images/4463/large/WeChat_Image_20220118095654.png?1696505053', 'current_price': 52.04, 'market_cap': 3119242981, 'market_cap_rank': 29, 'fully_diluted_valuation': 12266822563, 'total_volume': 9787438, 'high_24h': 53.73, 'low_24h': 51.71, 'price_change_24h': -1.6726158305950918, 'price_change_percentage_24h': -3.11393, 'market_cap_change_24h': -96502253.43425655, 'market_cap_change_percentage_24h': -3.00093, 'circulating_supply': 60000000.0, 'total_supply': 235957685.3, 'max_supply': 300000000.0, 'ath': 64.92, 'ath_change_percentage': -20.03628, 'ath_date': '2023-11-14T16:15:10.918Z', 'atl': 0.580608, 'atl_change_percentage': 8841.30446, 'atl_date': '2019-01-14T00:00:00.000Z', 'roi': None, 'last_updated': '2024-01-28T15:16:34.205Z'}, {'id': 'near', 'symbol': 'near', 'name': 'NEAR Protocol', 'image': 'https://assets.coingecko.com/coins/images/10365/large/near.jpg?1696510367', 'current_price': 2.95, 'market_cap': 3028707637, 'market_cap_rank': 30, 'fully_diluted_valuation': 3457918010, 'total_volume': 212129681, 'high_24h': 3.06, 'low_24h': 2.89, 'price_change_24h': 0.053751, 'price_change_percentage_24h': 1.85764, 'market_cap_change_24h': 43596768, 'market_cap_change_percentage_24h': 1.46047, 'circulating_supply': 1028620840.45732, 'total_supply': 1174390848.02988, 'max_supply': None, 'ath': 20.44, 'ath_change_percentage': -85.64791, 'ath_date': '2022-01-16T22:09:45.873Z', 'atl': 0.526762, 'atl_change_percentage': 456.85416, 'atl_date': '2020-11-04T16:09:15.137Z', 'roi': None, 'last_updated': '2024-01-28T15:16:28.503Z'}, {'id': 'aptos', 'symbol': 'apt', 'name': 'Aptos', 'image': 'https://assets.coingecko.com/coins/images/26455/large/aptos_round.png?1696525528', 'current_price': 8.93, 'market_cap': 3004547157, 'market_cap_rank': 31, 'fully_diluted_valuation': 9608183798, 'total_volume': 105360898, 'high_24h': 9.31, 'low_24h': 8.9, 'price_change_24h': -0.11497076003382034, 'price_change_percentage_24h': -1.27113, 'market_cap_change_24h': -46601085.62790871, 'market_cap_change_percentage_24h': -1.52733, 'circulating_supply': 337120683.873454, 'total_supply': 1078071777.15254, 'max_supply': None, 'ath': 19.92, 'ath_change_percentage': -55.28112, 'ath_date': '2023-01-26T14:25:17.390Z', 'atl': 3.08, 'atl_change_percentage': 189.24577, 'atl_date': '2022-12-29T21:35:14.796Z', 'roi': None, 'last_updated': '2024-01-28T15:16:32.792Z'}, {'id': 'optimism', 'symbol': 'op', 'name': 'Optimism', 'image': 'https://assets.coingecko.com/coins/images/25244/large/Optimism.png?1696524385', 'current_price': 3.08, 'market_cap': 2946767020, 'market_cap_rank': 32, 'fully_diluted_valuation': 13219710992, 'total_volume': 143642871, 'high_24h': 3.18, 'low_24h': 3.06, 'price_change_24h': 0.0079698, 'price_change_percentage_24h': 0.25936, 'market_cap_change_24h': -464321.1307005882, 'market_cap_change_percentage_24h': -0.01575, 'circulating_supply': 957378568.0, 'total_supply': 4294967296.0, 'max_supply': 4294967296.0, 'ath': 4.23, 'ath_change_percentage': -27.34801, 'ath_date': '2024-01-12T13:44:50.085Z', 'atl': 0.402159, 'atl_change_percentage': 663.86084, 'atl_date': '2022-06-18T20:54:52.178Z', 'roi': None, 'last_updated': '2024-01-28T15:16:35.935Z'}, {'id': 'monero', 'symbol': 'xmr', 'name': 'Monero', 'image': 'https://assets.coingecko.com/coins/images/69/large/monero_logo.png?1696501460', 'current_price': 159.78, 'market_cap': 2890578977, 'market_cap_rank': 33, 'fully_diluted_valuation': None, 'total_volume': 50015466, 'high_24h': 162.3, 'low_24h': 158.98, 'price_change_24h': -0.8541879230581628, 'price_change_percentage_24h': -0.53175, 'market_cap_change_24h': -23833397.49532318, 'market_cap_change_percentage_24h': -0.81778, 'circulating_supply': 18147820.3764146, 'total_supply': None, 'max_supply': None, 'ath': 542.33, 'ath_change_percentage': -70.68082, 'ath_date': '2018-01-09T00:00:00.000Z', 'atl': 0.216177, 'atl_change_percentage': 73453.43825, 'atl_date': '2015-01-14T00:00:00.000Z', 'roi': None, 'last_updated': '2024-01-28T15:16:35.086Z'}, {'id': 'lido-dao', 'symbol': 'ldo', 'name': 'Lido DAO', 'image': 'https://assets.coingecko.com/coins/images/13573/large/Lido_DAO.png?1696513326', 'current_price': 3.15, 'market_cap': 2800277935, 'market_cap_rank': 34, 'fully_diluted_valuation': 3145665678, 'total_volume': 49328724, 'high_24h': 3.16, 'low_24h': 3.0, 'price_change_24h': 0.145985, 'price_change_percentage_24h': 4.86162, 'market_cap_change_24h': 120986294, 'market_cap_change_percentage_24h': 4.51561, 'circulating_supply': 890202018.181518, 'total_supply': 1000000000.0, 'max_supply': 1000000000.0, 'ath': 7.3, 'ath_change_percentage': -57.09851, 'ath_date': '2021-08-20T08:35:20.158Z', 'atl': 0.40615, 'atl_change_percentage': 671.40031, 'atl_date': '2022-06-18T20:55:12.035Z', 'roi': None, 'last_updated': '2024-01-28T15:16:39.397Z'}, {'id': 'celestia', 'symbol': 'tia', 'name': 'Celestia', 'image': 'https://assets.coingecko.com/coins/images/31967/large/tia.jpg?1696530772', 'current_price': 17.02, 'market_cap': 2723348098, 'market_cap_rank': 35, 'fully_diluted_valuation': 17293463211, 'total_volume': 122915103, 'high_24h': 17.6, 'low_24h': 16.79, 'price_change_24h': 0.121156, 'price_change_percentage_24h': 0.71684, 'market_cap_change_24h': 12138184, 'market_cap_change_percentage_24h': 0.4477, 'circulating_supply': 160550377.064999, 'total_supply': 1019506849.315, 'max_supply': None, 'ath': 20.16, 'ath_change_percentage': -15.89267, 'ath_date': '2024-01-15T10:34:34.684Z', 'atl': 2.08, 'atl_change_percentage': 713.86725, 'atl_date': '2023-10-31T15:14:31.951Z', 'roi': None, 'last_updated': '2024-01-28T15:16:29.921Z'}, {'id': 'filecoin', 'symbol': 'fil', 'name': 'Filecoin', 'image': 'https://assets.coingecko.com/coins/images/12817/large/filecoin.png?1696512609', 'current_price': 5.26, 'market_cap': 2627223445, 'market_cap_rank': 36, 'fully_diluted_valuation': 10302308592, 'total_volume': 123707089, 'high_24h': 5.4, 'low_24h': 5.21, 'price_change_24h': 0.02666766, 'price_change_percentage_24h': 0.50937, 'market_cap_change_24h': 8706523, 'market_cap_change_percentage_24h': 0.3325, 'circulating_supply': 500070473.0, 'total_supply': 1960960093.0, 'max_supply': 1960960093.0, 'ath': 236.84, 'ath_change_percentage': -97.79137, 'ath_date': '2021-04-01T13:29:41.564Z', 'atl': 2.64, 'atl_change_percentage': 98.06828, 'atl_date': '2022-12-16T22:45:28.552Z', 'roi': None, 'last_updated': '2024-01-28T15:16:46.366Z'}, {'id': 'immutable-x', 'symbol': 'imx', 'name': 'Immutable', 'image': 'https://assets.coingecko.com/coins/images/17233/large/immutableX-symbol-BLK-RGB.png?1696516787', 'current_price': 1.95, 'market_cap': 2618984440, 'market_cap_rank': 37, 'fully_diluted_valuation': 3891017501, 'total_volume': 52551509, 'high_24h': 1.97, 'low_24h': 1.92, 'price_change_24h': 0.01863113, 'price_change_percentage_24h': 0.96457, 'market_cap_change_24h': 13462007, 'market_cap_change_percentage_24h': 0.51667, 'circulating_supply': 1346169447.490024, 'total_supply': 2000000000.0, 'max_supply': 2000000000.0, 'ath': 9.52, 'ath_change_percentage': -79.60294, 'ath_date': '2021-11-26T01:03:01.536Z', 'atl': 0.378055, 'atl_change_percentage': 413.62579, 'atl_date': '2022-12-31T07:36:37.649Z', 'roi': None, 'last_updated': '2024-01-28T15:16:45.556Z'}, {'id': 'first-digital-usd', 'symbol': 'fdusd', 'name': 'First Digital USD', 'image': 'https://assets.coingecko.com/coins/images/31079/large/firstfigital.jpeg?1696529912', 'current_price': 0.999946, 'market_cap': 2587183718, 'market_cap_rank': 38, 'fully_diluted_valuation': 2587183718, 'total_volume': 2268020503, 'high_24h': 1.003, 'low_24h': 0.995232, 'price_change_24h': 0.00051417, 'price_change_percentage_24h': 0.05145, 'market_cap_change_24h': -1290812.476407051, 'market_cap_change_percentage_24h': -0.04987, 'circulating_supply': 2589684851.31, 'total_supply': 2589684851.31, 'max_supply': None, 'ath': 1.041, 'ath_change_percentage': -4.14836, 'ath_date': '2023-10-23T22:55:15.103Z', 'atl': 0.942129, 'atl_change_percentage': 5.94579, 'atl_date': '2023-08-17T21:55:41.478Z', 'roi': None, 'last_updated': '2024-01-28T15:16:22.850Z'}, {'id': 'hedera-hashgraph', 'symbol': 'hbar', 'name': 'Hedera', 'image': 'https://assets.coingecko.com/coins/images/3688/large/hbar.png?1696504364', 'current_price': 0.074088, 'market_cap': 2489920026, 'market_cap_rank': 39, 'fully_diluted_valuation': 3698306470, 'total_volume': 25539443, 'high_24h': 0.075995, 'low_24h': 0.073773, 'price_change_24h': -0.000110846652164459, 'price_change_percentage_24h': -0.14939, 'market_cap_change_24h': -12022680.429275036, 'market_cap_change_percentage_24h': -0.48053, 'circulating_supply': 33662975831.8502, 'total_supply': 50000000000.0, 'max_supply': 50000000000.0, 'ath': 0.569229, 'ath_change_percentage': -87.03943, 'ath_date': '2021-09-15T10:40:28.318Z', 'atl': 0.00986111, 'atl_change_percentage': 648.14435, 'atl_date': '2020-01-02T17:30:24.852Z', 'roi': None, 'last_updated': '2024-01-28T15:16:46.140Z'}, {'id': 'kaspa', 'symbol': 'kas', 'name': 'Kaspa', 'image': 'https://assets.coingecko.com/coins/images/25751/large/kaspa-icon-exchanges.png?1696524837', 'current_price': 0.105329, 'market_cap': 2364434654, 'market_cap_rank': 40, 'fully_diluted_valuation': 2364410501, 'total_volume': 15129163, 'high_24h': 0.109885, 'low_24h': 0.104843, 'price_change_24h': 0.0004859, 'price_change_percentage_24h': 0.46346, 'market_cap_change_24h': 7215914, 'market_cap_change_percentage_24h': 0.30612, 'circulating_supply': 22481238219.0838, 'total_supply': 22481008573.2741, 'max_supply': 28704026601.0, 'ath': 0.152699, 'ath_change_percentage': -31.16678, 'ath_date': '2023-11-19T21:34:58.238Z', 'atl': 0.00017105, 'atl_change_percentage': 61348.80682, 'atl_date': '2022-05-26T14:42:59.316Z', 'roi': None, 'last_updated': '2024-01-28T15:16:16.603Z'}, {'id': 'arbitrum', 'symbol': 'arb', 'name': 'Arbitrum', 'image': 'https://assets.coingecko.com/coins/images/16547/large/photo_2023-03-29_21.47.00.jpeg?1696516109', 'current_price': 1.83, 'market_cap': 2328940814, 'market_cap_rank': 41, 'fully_diluted_valuation': 18266202461, 'total_volume': 375151626, 'high_24h': 1.9, 'low_24h': 1.79, 'price_change_24h': 0.03312065, 'price_change_percentage_24h': 1.84403, 'market_cap_change_24h': 37215080, 'market_cap_change_percentage_24h': 1.62389, 'circulating_supply': 1275000000.0, 'total_supply': 10000000000.0, 'max_supply': 10000000000.0, 'ath': 2.39, 'ath_change_percentage': -23.66693, 'ath_date': '2024-01-12T12:29:59.231Z', 'atl': 0.744925, 'atl_change_percentage': 144.93422, 'atl_date': '2023-09-11T19:40:49.196Z', 'roi': None, 'last_updated': '2024-01-28T15:16:32.783Z'}, {'id': 'bittensor', 'symbol': 'tao', 'name': 'Bittensor', 'image': 'https://assets.coingecko.com/coins/images/28452/large/ARUsPeNQ_400x400.jpeg?1696527447', 'current_price': 379.96, 'market_cap': 2317489727, 'market_cap_rank': 42, 'fully_diluted_valuation': 2317489727, 'total_volume': 12361904, 'high_24h': 380.02, 'low_24h': 332.65, 'price_change_24h': 47.31, 'price_change_percentage_24h': 14.22226, 'market_cap_change_24h': 276229407, 'market_cap_change_percentage_24h': 13.5323, 'circulating_supply': 6130428.0, 'total_supply': 6130428.0, 'max_supply': 21000000.0, 'ath': 394.0, 'ath_change_percentage': -4.5765, 'ath_date': '2023-12-14T20:03:59.063Z', 'atl': 30.83, 'atl_change_percentage': 1119.50126, 'atl_date': '2023-05-14T08:57:53.732Z', 'roi': None, 'last_updated': '2024-01-28T15:16:33.928Z'}, {'id': 'blockstack', 'symbol': 'stx', 'name': 'Stacks', 'image': 'https://assets.coingecko.com/coins/images/2069/large/Stacks_logo_full.png?1696503035', 'current_price': 1.52, 'market_cap': 2183412414, 'market_cap_rank': 43, 'fully_diluted_valuation': 2762553779, 'total_volume': 42384854, 'high_24h': 1.57, 'low_24h': 1.5, 'price_change_24h': 0.01533302, 'price_change_percentage_24h': 1.01842, 'market_cap_change_24h': 14120753, 'market_cap_change_percentage_24h': 0.65094, 'circulating_supply': 1436874749.64239, 'total_supply': 1818000000.0, 'max_supply': 1818000000.0, 'ath': 3.39, 'ath_change_percentage': -55.19687, 'ath_date': '2021-12-01T01:32:34.725Z', 'atl': 0.04559639, 'atl_change_percentage': 3230.66499, 'atl_date': '2020-03-13T02:29:26.415Z', 'roi': {'times': 11.674147462640716, 'currency': 'usd', 'percentage': 1167.4147462640717}, 'last_updated': '2024-01-28T15:16:33.404Z'}, {'id': 'crypto-com-chain', 'symbol': 'cro', 'name': 'Cronos', 'image': 'https://assets.coingecko.com/coins/images/7310/large/cro_token_logo.png?1696507599', 'current_price': 0.081025, 'market_cap': 2144999481, 'market_cap_rank': 44, 'fully_diluted_valuation': 2428102518, 'total_volume': 6252616, 'high_24h': 0.082901, 'low_24h': 0.080535, 'price_change_24h': -0.000549040145474883, 'price_change_percentage_24h': -0.67306, 'market_cap_change_24h': -19175435.883834124, 'market_cap_change_percentage_24h': -0.88604, 'circulating_supply': 26502169468.2708, 'total_supply': 30000000000.0, 'max_supply': None, 'ath': 0.965407, 'ath_change_percentage': -91.61731, 'ath_date': '2021-11-24T15:53:54.855Z', 'atl': 0.0121196, 'atl_change_percentage': 567.73768, 'atl_date': '2019-02-08T00:00:00.000Z', 'roi': None, 'last_updated': '2024-01-28T15:16:39.852Z'}, {'id': 'vechain', 'symbol': 'vet', 'name': 'VeChain', 'image': 'https://assets.coingecko.com/coins/images/1167/large/VET_Token_Icon.png?1696502256', 'current_price': 0.0284695, 'market_cap': 2069326476, 'market_cap_rank': 45, 'fully_diluted_valuation': 2446982115, 'total_volume': 36385386, 'high_24h': 0.02885864, 'low_24h': 0.02814146, 'price_change_24h': 0.00032805, 'price_change_percentage_24h': 1.16571, 'market_cap_change_24h': 21377448, 'market_cap_change_percentage_24h': 1.04385, 'circulating_supply': 72714516834.0, 'total_supply': 85985041177.0, 'max_supply': 86712634466.0, 'ath': 0.280991, 'ath_change_percentage': -89.89559, 'ath_date': '2021-04-19T01:08:21.675Z', 'atl': 0.00191713, 'atl_change_percentage': 1380.98628, 'atl_date': '2020-03-13T02:29:59.652Z', 'roi': {'times': 3.383830843401588, 'currency': 'eth', 'percentage': 338.3830843401588}, 'last_updated': '2024-01-28T15:16:37.535Z'}, {'id': 'mantle', 'symbol': 'mnt', 'name': 'Mantle', 'image': 'https://assets.coingecko.com/coins/images/30980/large/token-logo.png?1696529819', 'current_price': 0.647833, 'market_cap': 2044498387, 'market_cap_rank': 46, 'fully_diluted_valuation': 4020748429, 'total_volume': 50656396, 'high_24h': 0.659119, 'low_24h': 0.645575, 'price_change_24h': -0.008585532088021266, 'price_change_percentage_24h': -1.30794, 'market_cap_change_24h': -27484799.665395737, 'market_cap_change_percentage_24h': -1.3265, 'circulating_supply': 3162441863.03314, 'total_supply': 6219316794.99, 'max_supply': 6219316794.99, 'ath': 0.849137, 'ath_change_percentage': -23.88703, 'ath_date': '2024-01-11T13:25:10.126Z', 'atl': 0.307978, 'atl_change_percentage': 109.85416, 'atl_date': '2023-10-18T02:50:46.942Z', 'roi': None, 'last_updated': '2024-01-28T15:16:47.750Z'}, {'id': 'maker', 'symbol': 'mkr', 'name': 'Maker', 'image': 'https://assets.coingecko.com/coins/images/1364/large/Mark_Maker.png?1696502423', 'current_price': 1996.12, 'market_cap': 1838697239, 'market_cap_rank': 47, 'fully_diluted_valuation': 1949180118, 'total_volume': 52696851, 'high_24h': 2025.72, 'low_24h': 1988.7, 'price_change_24h': -4.217979553446185, 'price_change_percentage_24h': -0.21086, 'market_cap_change_24h': -7710366.196415663, 'market_cap_change_percentage_24h': -0.41759, 'circulating_supply': 922217.22970642, 'total_supply': 977631.036950888, 'max_supply': 1005577.0, 'ath': 6292.31, 'ath_change_percentage': -68.32152, 'ath_date': '2021-05-03T21:54:29.333Z', 'atl': 168.36, 'atl_change_percentage': 1083.9737, 'atl_date': '2020-03-16T20:52:36.527Z', 'roi': None, 'last_updated': '2024-01-28T15:16:50.895Z'}, {'id': 'true-usd', 'symbol': 'tusd', 'name': 'TrueUSD', 'image': 'https://assets.coingecko.com/coins/images/3449/large/tusd.png?1696504140', 'current_price': 0.988118, 'market_cap': 1598099972, 'market_cap_rank': 48, 'fully_diluted_valuation': 1598099972, 'total_volume': 58497121, 'high_24h': 0.991817, 'low_24h': 0.985321, 'price_change_24h': -0.000432389046341464, 'price_change_percentage_24h': -0.04374, 'market_cap_change_24h': -2577913.6155996323, 'market_cap_change_percentage_24h': -0.16105, 'circulating_supply': 1619457471.81, 'total_supply': 1619457471.81, 'max_supply': None, 'ath': 1.62, 'ath_change_percentage': -39.13052, 'ath_date': '2018-08-26T20:41:09.375Z', 'atl': 0.88355, 'atl_change_percentage': 11.50251, 'atl_date': '2020-03-12T10:47:51.380Z', 'roi': None, 'last_updated': '2024-01-28T15:16:40.777Z'}, {'id': 'sei-network', 'symbol': 'sei', 'name': 'Sei', 'image': 'https://assets.coingecko.com/coins/images/28205/large/Sei_Logo_-_Transparent.png?1696527207', 'current_price': 0.653169, 'market_cap': 1577495279, 'market_cap_rank': 49, 'fully_diluted_valuation': 6505135173, 'total_volume': 155645198, 'high_24h': 0.68902, 'low_24h': 0.637099, 'price_change_24h': 0.01263419, 'price_change_percentage_24h': 1.97244, 'market_cap_change_24h': 26851152, 'market_cap_change_percentage_24h': 1.73161, 'circulating_supply': 2425000000.0, 'total_supply': 10000000000.0, 'max_supply': None, 'ath': 0.877895, 'ath_change_percentage': -26.07056, 'ath_date': '2024-01-03T21:20:26.826Z', 'atl': 0.095364, 'atl_change_percentage': 580.57562, 'atl_date': '2023-10-19T08:05:30.655Z', 'roi': None, 'last_updated': '2024-01-28T15:16:44.632Z'}, {'id': 'quant-network', 'symbol': 'qnt', 'name': 'Quant', 'image': 'https://assets.coingecko.com/coins/images/3370/large/5ZOu7brX_400x400.jpg?1696504070', 'current_price': 106.98, 'market_cap': 1555253733, 'market_cap_rank': 50, 'fully_diluted_valuation': 1562559064, 'total_volume': 18958814, 'high_24h': 110.32, 'low_24h': 106.69, 'price_change_24h': -3.126544415112946, 'price_change_percentage_24h': -2.83954, 'market_cap_change_24h': -47518934.79725599, 'market_cap_change_percentage_24h': -2.9648, 'circulating_supply': 14544176.164091088, 'total_supply': 14612493.0, 'max_supply': 14612493.0, 'ath': 427.42, 'ath_change_percentage': -75.04105, 'ath_date': '2021-09-11T09:15:00.668Z', 'atl': 0.215773, 'atl_change_percentage': 49340.84379, 'atl_date': '2018-08-23T00:00:00.000Z', 'roi': {'times': 19.23857216316431, 'currency': 'eth', 'percentage': 1923.857216316431}, 'last_updated': '2024-01-28T15:16:43.818Z'}, {'id': 'render-token', 'symbol': 'rndr', 'name': 'Render', 'image': 'https://assets.coingecko.com/coins/images/11636/large/rndr.png?1696511529', 'current_price': 4.07, 'market_cap': 1530107477, 'market_cap_rank': 51, 'fully_diluted_valuation': 2160191646, 'total_volume': 101885828, 'high_24h': 4.26, 'low_24h': 3.9, 'price_change_24h': 0.170779, 'price_change_percentage_24h': 4.37511, 'market_cap_change_24h': 58802896, 'market_cap_change_percentage_24h': 3.99665, 'circulating_supply': 376146335.687948, 'total_supply': 531039932.967948, 'max_supply': 531039932.967948, 'ath': 8.78, 'ath_change_percentage': -53.84656, 'ath_date': '2021-11-21T10:03:19.097Z', 'atl': 0.03665669, 'atl_change_percentage': 10958.44713, 'atl_date': '2020-06-16T13:22:25.900Z', 'roi': None, 'last_updated': '2024-01-28T15:16:33.398Z'}, {'id': 'sui', 'symbol': 'sui', 'name': 'Sui', 'image': 'https://assets.coingecko.com/coins/images/26375/large/sui_asset.jpeg?1696525453', 'current_price': 1.35, 'market_cap': 1485131796, 'market_cap_rank': 52, 'fully_diluted_valuation': 13489582210, 'total_volume': 321870415, 'high_24h': 1.48, 'low_24h': 1.33, 'price_change_24h': -0.04674122867835062, 'price_change_percentage_24h': -3.34294, 'market_cap_change_24h': -57187005.67997861, 'market_cap_change_percentage_24h': -3.70786, 'circulating_supply': 1100947214.55346, 'total_supply': 10000000000.0, 'max_supply': 10000000000.0, 'ath': 2.16, 'ath_change_percentage': -37.66777, 'ath_date': '2023-05-03T12:00:26.430Z', 'atl': 0.364846, 'atl_change_percentage': 269.45542, 'atl_date': '2023-10-19T10:40:30.078Z', 'roi': None, 'last_updated': '2024-01-28T15:16:40.631Z'}, {'id': 'the-graph', 'symbol': 'grt', 'name': 'The Graph', 'image': 'https://assets.coingecko.com/coins/images/13397/large/Graph_Token.png?1696513159', 'current_price': 0.158239, 'market_cap': 1483498932, 'market_cap_rank': 53, 'fully_diluted_valuation': 1704367805, 'total_volume': 37096092, 'high_24h': 0.162474, 'low_24h': 0.157298, 'price_change_24h': -0.001979644995543761, 'price_change_percentage_24h': -1.23559, 'market_cap_change_24h': -23344817.99993038, 'market_cap_change_percentage_24h': -1.54925, 'circulating_supply': 9389987797.88531, 'total_supply': 10788004319.0, 'max_supply': 10788004319.0, 'ath': 2.84, 'ath_change_percentage': -94.4598, 'ath_date': '2021-02-12T07:28:45.775Z', 'atl': 0.052051, 'atl_change_percentage': 202.44379, 'atl_date': '2022-11-22T10:05:03.503Z', 'roi': None, 'last_updated': '2024-01-28T15:16:45.553Z'}, {'id': 'bitcoin-cash-sv', 'symbol': 'bsv', 'name': 'Bitcoin SV', 'image': 'https://assets.coingecko.com/coins/images/6799/large/BSV.png?1696507128', 'current_price': 72.2, 'market_cap': 1414140310, 'market_cap_rank': 54, 'fully_diluted_valuation': 1513667556, 'total_volume': 52534583, 'high_24h': 74.52, 'low_24h': 71.79, 'price_change_24h': 0.081855, 'price_change_percentage_24h': 0.11351, 'market_cap_change_24h': -1818436.0245616436, 'market_cap_change_percentage_24h': -0.12842, 'circulating_supply': 19619200.0, 'total_supply': 21000000.0, 'max_supply': 21000000.0, 'ath': 489.75, 'ath_change_percentage': -85.32032, 'ath_date': '2021-04-16T17:09:04.630Z', 'atl': 21.43, 'atl_change_percentage': 235.4066, 'atl_date': '2023-06-10T04:32:12.266Z', 'roi': None, 'last_updated': '2024-01-28T15:16:34.822Z'}, {'id': 'elrond-erd-2', 'symbol': 'egld', 'name': 'MultiversX', 'image': 'https://assets.coingecko.com/coins/images/12335/large/egld-token-logo.png?1696512162', 'current_price': 52.94, 'market_cap': 1401097611, 'market_cap_rank': 55, 'fully_diluted_valuation': 1401369964, 'total_volume': 22940261, 'high_24h': 54.28, 'low_24h': 52.61, 'price_change_24h': 0.326815, 'price_change_percentage_24h': 0.62118, 'market_cap_change_24h': 5625495, 'market_cap_change_percentage_24h': 0.40312, 'circulating_supply': 26504009.0, 'total_supply': 26509161.0, 'max_supply': 31415926.0, 'ath': 545.64, 'ath_change_percentage': -90.34022, 'ath_date': '2021-11-23T10:33:26.737Z', 'atl': 6.51, 'atl_change_percentage': 710.05523, 'atl_date': '2020-10-07T01:44:53.554Z', 'roi': None, 'last_updated': '2024-01-28T15:16:40.231Z'}, {'id': 'rocket-pool-eth', 'symbol': 'reth', 'name': 'Rocket Pool ETH', 'image': 'https://assets.coingecko.com/coins/images/20764/large/reth.png?1696520159', 'current_price': 2493.88, 'market_cap': 1401028350, 'market_cap_rank': 56, 'fully_diluted_valuation': 1401028350, 'total_volume': 3818712, 'high_24h': 2525.79, 'low_24h': 2485.14, 'price_change_24h': 2.64, 'price_change_percentage_24h': 0.10611, 'market_cap_change_24h': 3972547, 'market_cap_change_percentage_24h': 0.28435, 'circulating_supply': 561739.501856905, 'total_supply': 561739.501856905, 'max_supply': None, 'ath': 4814.31, 'ath_change_percentage': -48.25138, 'ath_date': '2021-12-01T08:03:50.749Z', 'atl': 887.26, 'atl_change_percentage': 180.78908, 'atl_date': '2022-06-18T20:55:45.957Z', 'roi': None, 'last_updated': '2024-01-28T15:16:47.869Z'}, {'id': 'aave', 'symbol': 'aave', 'name': 'Aave', 'image': 'https://assets.coingecko.com/coins/images/12645/large/AAVE.png?1696512452', 'current_price': 91.54, 'market_cap': 1344910108, 'market_cap_rank': 57, 'fully_diluted_valuation': 1462588519, 'total_volume': 88923460, 'high_24h': 93.4, 'low_24h': 91.01, 'price_change_24h': 0.524539, 'price_change_percentage_24h': 0.57633, 'market_cap_change_24h': 4695161, 'market_cap_change_percentage_24h': 0.35033, 'circulating_supply': 14712655.986474646, 'total_supply': 16000000.0, 'max_supply': 16000000.0, 'ath': 661.69, 'ath_change_percentage': -86.1844, 'ath_date': '2021-05-18T21:19:59.514Z', 'atl': 26.02, 'atl_change_percentage': 251.28893, 'atl_date': '2020-11-05T09:20:11.928Z', 'roi': None, 'last_updated': '2024-01-28T15:16:41.380Z'}, {'id': 'algorand', 'symbol': 'algo', 'name': 'Algorand', 'image': 'https://assets.coingecko.com/coins/images/4380/large/download.png?1696504978', 'current_price': 0.165406, 'market_cap': 1329678234, 'market_cap_rank': 58, 'fully_diluted_valuation': 1329678263, 'total_volume': 35189593, 'high_24h': 0.168581, 'low_24h': 0.164417, 'price_change_24h': -0.001071769528790456, 'price_change_percentage_24h': -0.64379, 'market_cap_change_24h': -11071639.67730689, 'market_cap_change_percentage_24h': -0.82578, 'circulating_supply': 8044533210.72848, 'total_supply': 8044533383.92053, 'max_supply': 10000000000.0, 'ath': 3.56, 'ath_change_percentage': -95.36496, 'ath_date': '2019-06-20T14:51:19.480Z', 'atl': 0.087513, 'atl_change_percentage': 88.6119, 'atl_date': '2023-09-11T19:42:08.247Z', 'roi': {'times': -0.9310808301267611, 'currency': 'usd', 'percentage': -93.10808301267612}, 'last_updated': '2024-01-28T15:16:46.193Z'}, {'id': 'thorchain', 'symbol': 'rune', 'name': 'THORChain', 'image': 'https://assets.coingecko.com/coins/images/6595/large/Rune200x200.png?1696506946', 'current_price': 4.32, 'market_cap': 1294421141, 'market_cap_rank': 59, 'fully_diluted_valuation': 2152342412, 'total_volume': 183562281, 'high_24h': 4.43, 'low_24h': 4.27, 'price_change_24h': 0.01769559, 'price_change_percentage_24h': 0.41163, 'market_cap_change_24h': 702324, 'market_cap_change_percentage_24h': 0.05429, 'circulating_supply': 300700561.0, 'total_supply': 500000000.0, 'max_supply': 500000000.0, 'ath': 20.87, 'ath_change_percentage': -79.40264, 'ath_date': '2021-05-19T00:30:09.436Z', 'atl': 0.00851264, 'atl_change_percentage': 50391.60576, 'atl_date': '2019-09-28T00:00:00.000Z', 'roi': {'times': 112.59411204216237, 'currency': 'usd', 'percentage': 11259.411204216236}, 'last_updated': '2024-01-28T15:16:40.676Z'}, {'id': 'ordinals', 'symbol': 'ordi', 'name': 'ORDI', 'image': 'https://assets.coingecko.com/coins/images/30162/large/ordi.png?1696529082', 'current_price': 55.65, 'market_cap': 1166513767, 'market_cap_rank': 60, 'fully_diluted_valuation': 1166513767, 'total_volume': 182485476, 'high_24h': 58.65, 'low_24h': 54.81, 'price_change_24h': -1.4839254876419687, 'price_change_percentage_24h': -2.59746, 'market_cap_change_24h': -33035269.014852285, 'market_cap_change_percentage_24h': -2.75397, 'circulating_supply': 21000000.0, 'total_supply': 21000000.0, 'max_supply': None, 'ath': 89.94, 'ath_change_percentage': -38.23629, 'ath_date': '2024-01-02T11:30:17.565Z', 'atl': 2.86, 'atl_change_percentage': 1841.65343, 'atl_date': '2023-09-11T15:22:32.140Z', 'roi': None, 'last_updated': '2024-01-28T15:16:30.250Z'}, {'id': 'tokenize-xchange', 'symbol': 'tkx', 'name': 'Tokenize Xchange', 'image': 'https://assets.coingecko.com/coins/images/4984/large/TKX_-_Logo_-_RGB-15.png?1696505519', 'current_price': 14.44, 'market_cap': 1154810574, 'market_cap_rank': 61, 'fully_diluted_valuation': 1443585398, 'total_volume': 28255663, 'high_24h': 14.48, 'low_24h': 13.93, 'price_change_24h': 0.44192, 'price_change_percentage_24h': 3.15743, 'market_cap_change_24h': 34046352, 'market_cap_change_percentage_24h': 3.03778, 'circulating_supply': 79995999.94518414, 'total_supply': 100000000.0, 'max_supply': 100000000.0, 'ath': 22.3, 'ath_change_percentage': -35.36227, 'ath_date': '2022-10-31T10:23:59.455Z', 'atl': 0.111255, 'atl_change_percentage': 12853.86273, 'atl_date': '2019-04-28T00:00:00.000Z', 'roi': {'times': 48.70097764953694, 'currency': 'usd', 'percentage': 4870.0977649536935}, 'last_updated': '2024-01-28T15:16:36.508Z'}, {'id': 'helium', 'symbol': 'hnt', 'name': 'Helium', 'image': 'https://assets.coingecko.com/coins/images/4284/large/Helium_HNT.png?1696504894', 'current_price': 7.93, 'market_cap': 1140445690, 'market_cap_rank': 62, 'fully_diluted_valuation': 1766906628, 'total_volume': 13634582, 'high_24h': 8.47, 'low_24h': 7.69, 'price_change_24h': 0.152789, 'price_change_percentage_24h': 1.96471, 'market_cap_change_24h': 22600179, 'market_cap_change_percentage_24h': 2.02176, 'circulating_supply': 143934820.830308, 'total_supply': 223000000.0, 'max_supply': 223000000.0, 'ath': 54.88, 'ath_change_percentage': -85.6482, 'ath_date': '2021-11-12T23:08:25.301Z', 'atl': 0.113248, 'atl_change_percentage': 6854.53013, 'atl_date': '2020-04-18T00:19:10.902Z', 'roi': None, 'last_updated': '2024-01-28T15:16:21.483Z'}, {'id': 'mina-protocol', 'symbol': 'mina', 'name': 'Mina Protocol', 'image': 'https://assets.coingecko.com/coins/images/15628/large/JM4_vQ34_400x400.png?1696515261', 'current_price': 1.083, 'market_cap': 1127342101, 'market_cap_rank': 63, 'fully_diluted_valuation': 1210981815, 'total_volume': 22385874, 'high_24h': 1.12, 'low_24h': 1.079, 'price_change_24h': -0.010305200016618388, 'price_change_percentage_24h': -0.94219, 'market_cap_change_24h': -10055374.028054953, 'market_cap_change_percentage_24h': -0.88407, 'circulating_supply': 1042143285.84004, 'total_supply': 1119461932.84004, 'max_supply': None, 'ath': 9.09, 'ath_change_percentage': -88.13186, 'ath_date': '2021-06-01T01:42:37.064Z', 'atl': 0.351341, 'atl_change_percentage': 207.06748, 'atl_date': '2023-10-11T04:00:22.740Z', 'roi': None, 'last_updated': '2024-01-28T15:16:24.451Z'}, {'id': 'flow', 'symbol': 'flow', 'name': 'Flow', 'image': 'https://assets.coingecko.com/coins/images/13446/large/5f6294c0c7a8cda55cb1c936_Flow_Wordmark.png?1696513210', 'current_price': 0.752731, 'market_cap': 1115881356, 'market_cap_rank': 64, 'fully_diluted_valuation': 1115881355, 'total_volume': 26059262, 'high_24h': 0.771878, 'low_24h': 0.747165, 'price_change_24h': -0.002378151756723846, 'price_change_percentage_24h': -0.31494, 'market_cap_change_24h': -5880001.354482889, 'market_cap_change_percentage_24h': -0.52418, 'circulating_supply': 1485069351.0, 'total_supply': 1485069350.90682, 'max_supply': 1485069350.90682, 'ath': 42.4, 'ath_change_percentage': -98.2297, 'ath_date': '2021-04-05T13:49:10.098Z', 'atl': 0.391969, 'atl_change_percentage': 91.48421, 'atl_date': '2023-09-11T19:41:06.528Z', 'roi': None, 'last_updated': '2024-01-28T15:16:41.179Z'}, {'id': 'fantom', 'symbol': 'ftm', 'name': 'Fantom', 'image': 'https://assets.coingecko.com/coins/images/4001/large/Fantom_round.png?1696504642', 'current_price': 0.380878, 'market_cap': 1067026223, 'market_cap_rank': 65, 'fully_diluted_valuation': 1208362877, 'total_volume': 84757901, 'high_24h': 0.394457, 'low_24h': 0.36624, 'price_change_24h': 0.01463796, 'price_change_percentage_24h': 3.99682, 'market_cap_change_24h': 38128615, 'market_cap_change_percentage_24h': 3.70577, 'circulating_supply': 2803634835.52659, 'total_supply': 3175000000.0, 'max_supply': 3175000000.0, 'ath': 3.46, 'ath_change_percentage': -89.02997, 'ath_date': '2021-10-28T05:19:39.845Z', 'atl': 0.00190227, 'atl_change_percentage': 19844.94453, 'atl_date': '2020-03-13T02:25:38.280Z', 'roi': {'times': 11.695930493267364, 'currency': 'usd', 'percentage': 1169.5930493267363}, 'last_updated': '2024-01-28T15:16:40.587Z'}, {'id': 'havven', 'symbol': 'snx', 'name': 'Synthetix Network', 'image': 'https://assets.coingecko.com/coins/images/3406/large/SNX.png?1696504103', 'current_price': 3.2, 'market_cap': 1046504988, 'market_cap_rank': 66, 'fully_diluted_valuation': 1047858446, 'total_volume': 24558485, 'high_24h': 3.31, 'low_24h': 3.18, 'price_change_24h': -0.04385451852919697, 'price_change_percentage_24h': -1.35267, 'market_cap_change_24h': -17794686.362249494, 'market_cap_change_percentage_24h': -1.67196, 'circulating_supply': 327769196.13952357, 'total_supply': 328193104.088774, 'max_supply': 328193104.088774, 'ath': 28.53, 'ath_change_percentage': -88.85065, 'ath_date': '2021-02-14T01:12:38.505Z', 'atl': 0.0347864, 'atl_change_percentage': 9044.85246, 'atl_date': '2019-01-06T00:00:00.000Z', 'roi': {'times': 5.396448243732556, 'currency': 'usd', 'percentage': 539.6448243732556}, 'last_updated': '2024-01-28T15:16:39.478Z'}, {'id': 'dydx-chain', 'symbol': 'dydx', 'name': 'dYdX', 'image': 'https://assets.coingecko.com/coins/images/32594/large/dydx.png?1698673495', 'current_price': 2.72, 'market_cap': 1026711068, 'market_cap_rank': 67, 'fully_diluted_valuation': 1879138051, 'total_volume': 13217780, 'high_24h': 2.84, 'low_24h': 2.7, 'price_change_24h': 0.0215574, 'price_change_percentage_24h': 0.79937, 'market_cap_change_24h': 8244424, 'market_cap_change_percentage_24h': 0.80949, 'circulating_supply': 377821714.5, 'total_supply': 691508237.0, 'max_supply': 1000000000.0, 'ath': 3.73, 'ath_change_percentage': -27.32265, 'ath_date': '2023-12-03T23:23:34.201Z', 'atl': 2.3, 'atl_change_percentage': 17.84789, 'atl_date': '2024-01-03T12:14:30.340Z', 'roi': None, 'last_updated': '2024-01-28T15:14:49.771Z'}, {'id': 'the-sandbox', 'symbol': 'sand', 'name': 'The Sandbox', 'image': 'https://assets.coingecko.com/coins/images/12129/large/sandbox_logo.jpg?1696511971', 'current_price': 0.456873, 'market_cap': 1020275251, 'market_cap_rank': 68, 'fully_diluted_valuation': 1367825037, 'total_volume': 70440152, 'high_24h': 0.469737, 'low_24h': 0.45197, 'price_change_24h': 0.0049026, 'price_change_percentage_24h': 1.08472, 'market_cap_change_24h': 8187488, 'market_cap_change_percentage_24h': 0.80897, 'circulating_supply': 2237731926.2233224, 'total_supply': 3000000000.0, 'max_supply': 3000000000.0, 'ath': 8.4, 'ath_change_percentage': -94.58062, 'ath_date': '2021-11-25T06:04:40.957Z', 'atl': 0.02897764, 'atl_change_percentage': 1470.36336, 'atl_date': '2020-11-04T15:59:14.441Z', 'roi': None, 'last_updated': '2024-01-28T15:16:35.420Z'}, {'id': 'sats-ordinals', 'symbol': 'sats', 'name': 'SATS (Ordinals)', 'image': 'https://assets.coingecko.com/coins/images/30666/large/_dD8qr3M_400x400.png?1702913020', 'current_price': 4.80965e-07, 'market_cap': 1007669426, 'market_cap_rank': 69, 'fully_diluted_valuation': 1007669426, 'total_volume': 46220013, 'high_24h': 5.30868e-07, 'low_24h': 4.69533e-07, 'price_change_24h': -3.370167973e-08, 'price_change_percentage_24h': -6.54826, 'market_cap_change_24h': -58642881.00829303, 'market_cap_change_percentage_24h': -5.4996, 'circulating_supply': 2100000000000000.0, 'total_supply': 2100000000000000.0, 'max_supply': 2100000000000000.0, 'ath': 9.22983e-07, 'ath_change_percentage': -48.05641, 'ath_date': '2023-12-15T11:45:07.985Z', 'atl': 3.189e-09, 'atl_change_percentage': 14933.38573, 'atl_date': '2023-07-08T13:03:18.882Z', 'roi': None, 'last_updated': '2024-01-28T15:16:30.961Z'}, {'id': 'astar', 'symbol': 'astr', 'name': 'Astar', 'image': 'https://assets.coingecko.com/coins/images/22617/large/astr.png?1696521933', 'current_price': 0.182507, 'market_cap': 1005069709, 'market_cap_rank': 70, 'fully_diluted_valuation': 1526516647, 'total_volume': 28659344, 'high_24h': 0.188709, 'low_24h': 0.179578, 'price_change_24h': -0.002980504995942879, 'price_change_percentage_24h': -1.60685, 'market_cap_change_24h': -16147611.543323278, 'market_cap_change_percentage_24h': -1.58121, 'circulating_supply': 5511322676.0, 'total_supply': 8370688858.0, 'max_supply': None, 'ath': 0.421574, 'ath_change_percentage': -56.9013, 'ath_date': '2022-01-17T13:34:36.289Z', 'atl': 0.03269521, 'atl_change_percentage': 455.71652, 'atl_date': '2022-10-13T13:05:41.982Z', 'roi': None, 'last_updated': '2024-01-28T15:16:31.504Z'}, {'id': 'osmosis', 'symbol': 'osmo', 'name': 'Osmosis', 'image': 'https://assets.coingecko.com/coins/images/16724/large/osmo.png?1696516298', 'current_price': 1.59, 'market_cap': 1003235092, 'market_cap_rank': 71, 'fully_diluted_valuation': 1583889609, 'total_volume': 22355195, 'high_24h': 1.6, 'low_24h': 1.55, 'price_change_24h': 0.03711816, 'price_change_percentage_24h': 2.397, 'market_cap_change_24h': 22613373, 'market_cap_change_percentage_24h': 2.30602, 'circulating_supply': 633386517.0, 'total_supply': 999979298.0, 'max_supply': 1000000000.0, 'ath': 11.25, 'ath_change_percentage': -85.92219, 'ath_date': '2022-03-04T05:12:18.707Z', 'atl': 0.224523, 'atl_change_percentage': 605.32781, 'atl_date': '2023-10-19T17:45:36.695Z', 'roi': None, 'last_updated': '2024-01-28T15:16:43.108Z'}, {'id': 'axie-infinity', 'symbol': 'axs', 'name': 'Axie Infinity', 'image': 'https://assets.coingecko.com/coins/images/13029/large/axie_infinity_logo.png?1696512817', 'current_price': 7.33, 'market_cap': 995153550, 'market_cap_rank': 72, 'fully_diluted_valuation': 1974771139, 'total_volume': 53677369, 'high_24h': 7.51, 'low_24h': 7.29, 'price_change_24h': 0.00048394, 'price_change_percentage_24h': 0.00661, 'market_cap_change_24h': -3962096.4015147686, 'market_cap_change_percentage_24h': -0.39656, 'circulating_supply': 136062074.855038, 'total_supply': 270000000.0, 'max_supply': 270000000.0, 'ath': 164.9, 'ath_change_percentage': -95.57708, 'ath_date': '2021-11-06T19:29:29.482Z', 'atl': 0.123718, 'atl_change_percentage': 5795.08912, 'atl_date': '2020-11-06T08:05:43.662Z', 'roi': None, 'last_updated': '2024-01-28T15:16:45.540Z'}, {'id': 'theta-token', 'symbol': 'theta', 'name': 'Theta Network', 'image': 'https://assets.coingecko.com/coins/images/2538/large/theta-token-logo.png?1696503349', 'current_price': 0.995537, 'market_cap': 993670680, 'market_cap_rank': 73, 'fully_diluted_valuation': 993670680, 'total_volume': 14095174, 'high_24h': 1.02, 'low_24h': 0.990881, 'price_change_24h': 0.00080401, 'price_change_percentage_24h': 0.08083, 'market_cap_change_24h': -1696277.6649392843, 'market_cap_change_percentage_24h': -0.17042, 'circulating_supply': 1000000000.0, 'total_supply': 1000000000.0, 'max_supply': 1000000000.0, 'ath': 15.72, 'ath_change_percentage': -93.69657, 'ath_date': '2021-04-16T13:15:11.190Z', 'atl': 0.04039979, 'atl_change_percentage': 2352.68766, 'atl_date': '2020-03-13T02:24:16.483Z', 'roi': {'times': 5.6369133831103095, 'currency': 'usd', 'percentage': 563.6913383110309}, 'last_updated': '2024-01-28T15:16:34.989Z'}, {'id': 'kucoin-shares', 'symbol': 'kcs', 'name': 'KuCoin', 'image': 'https://assets.coingecko.com/coins/images/1047/large/sa9z79.png?1696502152', 'current_price': 9.99, 'market_cap': 964082865, 'market_cap_rank': 74, 'fully_diluted_valuation': 1438647028, 'total_volume': 62237, 'high_24h': 10.04, 'low_24h': 9.91, 'price_change_24h': 0.01954006, 'price_change_percentage_24h': 0.19597, 'market_cap_change_24h': 315024, 'market_cap_change_percentage_24h': 0.03269, 'circulating_supply': 96496827.2890287, 'total_supply': 143996827.288945, 'max_supply': None, 'ath': 28.83, 'ath_change_percentage': -65.42221, 'ath_date': '2021-12-01T15:09:35.541Z', 'atl': 0.342863, 'atl_change_percentage': 2807.49859, 'atl_date': '2019-02-07T00:00:00.000Z', 'roi': None, 'last_updated': '2024-01-28T15:16:32.518Z'}, {'id': 'chiliz', 'symbol': 'chz', 'name': 'Chiliz', 'image': 'https://assets.coingecko.com/coins/images/8834/large/CHZ_Token_updated.png?1696508986', 'current_price': 0.106705, 'market_cap': 947283151, 'market_cap_rank': 75, 'fully_diluted_valuation': 947283151, 'total_volume': 104952035, 'high_24h': 0.113701, 'low_24h': 0.106235, 'price_change_24h': -0.000105397204279906, 'price_change_percentage_24h': -0.09868, 'market_cap_change_24h': -17117.51636004448, 'market_cap_change_percentage_24h': -0.00181, 'circulating_supply': 8888888888.0, 'total_supply': 8888888888.0, 'max_supply': 8888888888.0, 'ath': 0.878633, 'ath_change_percentage': -87.89288, 'ath_date': '2021-03-13T08:04:21.200Z', 'atl': 0.00410887, 'atl_change_percentage': 2488.96113, 'atl_date': '2019-09-28T00:00:00.000Z', 'roi': {'times': 3.8502090408601, 'currency': 'usd', 'percentage': 385.02090408601}, 'last_updated': '2024-01-28T15:16:36.202Z'}, {'id': 'beam-2', 'symbol': 'beam', 'name': 'Beam', 'image': 'https://assets.coingecko.com/coins/images/32417/large/chain-logo.png?1698114384', 'current_price': 0.01832143, 'market_cap': 926936018, 'market_cap_rank': 76, 'fully_diluted_valuation': 1144548267, 'total_volume': 17284779, 'high_24h': 0.01940823, 'low_24h': 0.01761383, 'price_change_24h': 0.00070759, 'price_change_percentage_24h': 4.01726, 'market_cap_change_24h': 34578150, 'market_cap_change_percentage_24h': 3.87492, 'circulating_supply': 50693685958.1535, 'total_supply': 62594795429.7398, 'max_supply': 62594795429.7398, 'ath': 0.02720031, 'ath_change_percentage': -32.85292, 'ath_date': '2023-12-14T05:24:58.029Z', 'atl': 0.0043383, 'atl_change_percentage': 320.99924, 'atl_date': '2023-10-29T08:20:14.064Z', 'roi': None, 'last_updated': '2024-01-28T15:16:27.618Z'}, {'id': 'whitebit', 'symbol': 'wbt', 'name': 'WhiteBIT Coin', 'image': 'https://assets.coingecko.com/coins/images/27045/large/wbt_token.png?1696526096', 'current_price': 6.33, 'market_cap': 913750050, 'market_cap_rank': 77, 'fully_diluted_valuation': 2284403796, 'total_volume': 9461295, 'high_24h': 6.4, 'low_24h': 6.28, 'price_change_24h': 0.01181904, 'price_change_percentage_24h': 0.18698, 'market_cap_change_24h': 3563851, 'market_cap_change_percentage_24h': 0.39155, 'circulating_supply': 144118517.10815412, 'total_supply': 360300815.0, 'max_supply': 400000000.0, 'ath': 14.64, 'ath_change_percentage': -56.7302, 'ath_date': '2022-10-28T12:32:18.119Z', 'atl': 3.06, 'atl_change_percentage': 106.96553, 'atl_date': '2023-02-13T19:01:21.899Z', 'roi': None, 'last_updated': '2024-01-28T15:16:27.579Z'}, {'id': 'manta-network', 'symbol': 'manta', 'name': 'Manta Network', 'image': 'https://assets.coingecko.com/coins/images/34289/large/manta.jpg?1704468717', 'current_price': 3.53, 'market_cap': 888616671, 'market_cap_rank': 78, 'fully_diluted_valuation': 3540305461, 'total_volume': 414015814, 'high_24h': 3.83, 'low_24h': 3.43, 'price_change_24h': -0.12036640810759325, 'price_change_percentage_24h': -3.29551, 'market_cap_change_24h': -23623434.8298043, 'market_cap_change_percentage_24h': -2.58961, 'circulating_supply': 251000000.0, 'total_supply': 1000000000.0, 'max_supply': 1000000000.0, 'ath': 3.83, 'ath_change_percentage': -7.39271, 'ath_date': '2024-01-28T01:49:54.287Z', 'atl': 2.02, 'atl_change_percentage': 75.9732, 'atl_date': '2024-01-18T10:04:12.606Z', 'roi': None, 'last_updated': '2024-01-28T15:16:29.944Z'}, {'id': 'tezos', 'symbol': 'xtz', 'name': 'Tezos', 'image': 'https://assets.coingecko.com/coins/images/976/large/Tezos-logo.png?1696502091', 'current_price': 0.978454, 'market_cap': 880102742, 'market_cap_rank': 79, 'fully_diluted_valuation': 967713559, 'total_volume': 24137994, 'high_24h': 1.013, 'low_24h': 0.977129, 'price_change_24h': -0.012842361499702084, 'price_change_percentage_24h': -1.29551, 'market_cap_change_24h': -12568587.874546051, 'market_cap_change_percentage_24h': -1.40797, 'circulating_supply': 900151684.991428, 'total_supply': 989758296.368459, 'max_supply': None, 'ath': 9.12, 'ath_change_percentage': -89.28124, 'ath_date': '2021-10-04T00:41:18.025Z', 'atl': 0.350476, 'atl_change_percentage': 178.80068, 'atl_date': '2018-12-07T00:00:00.000Z', 'roi': {'times': 1.0818165413888836, 'currency': 'usd', 'percentage': 108.18165413888836}, 'last_updated': '2024-01-28T15:16:33.808Z'}, {'id': 'bittorrent', 'symbol': 'btt', 'name': 'BitTorrent', 'image': 'https://assets.coingecko.com/coins/images/22457/large/btt_logo.png?1696521780', 'current_price': 8.8841e-07, 'market_cap': 859471696, 'market_cap_rank': 80, 'fully_diluted_valuation': 878781428, 'total_volume': 32361504, 'high_24h': 9.28718e-07, 'low_24h': 8.67013e-07, 'price_change_24h': 1.7364e-08, 'price_change_percentage_24h': 1.99344, 'market_cap_change_24h': 13989142, 'market_cap_change_percentage_24h': 1.65457, 'circulating_supply': 968246428571000.0, 'total_supply': 990000000000000.0, 'max_supply': 990000000000000.0, 'ath': 3.43e-06, 'ath_change_percentage': -74.06154, 'ath_date': '2022-01-21T04:00:31.909Z', 'atl': 3.65368e-07, 'atl_change_percentage': 143.60015, 'atl_date': '2023-10-13T05:10:41.241Z', 'roi': None, 'last_updated': '2024-01-28T15:16:39.111Z'}, {'id': 'cheelee', 'symbol': 'cheel', 'name': 'Cheelee', 'image': 'https://assets.coingecko.com/coins/images/28573/large/CHEEL_%D1%82%D0%BE%D0%BD%D0%BA%D0%B0%D1%8F_%D0%BE%D0%B1%D0%B2%D0%BE%D0%B4%D0%BA%D0%B0_%283%29.png?1696527561', 'current_price': 15.9, 'market_cap': 855530284, 'market_cap_rank': 81, 'fully_diluted_valuation': 15890198255, 'total_volume': 5212125, 'high_24h': 16.02, 'low_24h': 15.55, 'price_change_24h': 0.241004, 'price_change_percentage_24h': 1.5388, 'market_cap_change_24h': 11774985, 'market_cap_change_percentage_24h': 1.39555, 'circulating_supply': 53840126.4745925, 'total_supply': 1000000000.0, 'max_supply': 1000000000.0, 'ath': 17.32, 'ath_change_percentage': -8.05063, 'ath_date': '2023-07-16T21:40:08.888Z', 'atl': 3.44, 'atl_change_percentage': 362.99763, 'atl_date': '2023-02-13T02:53:08.933Z', 'roi': None, 'last_updated': '2024-01-28T15:16:13.800Z'}, {'id': 'wemix-token', 'symbol': 'wemix', 'name': 'WEMIX', 'image': 'https://assets.coingecko.com/coins/images/12998/large/wemixcoin_color_200.png?1696512788', 'current_price': 2.35, 'market_cap': 853183829, 'market_cap_rank': 82, 'fully_diluted_valuation': 2276356024, 'total_volume': 4492938, 'high_24h': 2.41, 'low_24h': 2.37, 'price_change_24h': -0.04257386888736825, 'price_change_percentage_24h': -1.77973, 'market_cap_change_24h': 9365593, 'market_cap_change_percentage_24h': 1.10991, 'circulating_supply': 356554402.935104, 'total_supply': 951312877.078946, 'max_supply': None, 'ath': 24.71, 'ath_change_percentage': -90.30138, 'ath_date': '2021-11-21T17:33:44.178Z', 'atl': 0.128398, 'atl_change_percentage': 1766.61685, 'atl_date': '2021-06-22T12:52:49.089Z', 'roi': None, 'last_updated': '2024-01-28T15:16:36.848Z'}, {'id': 'dydx', 'symbol': 'ethdydx', 'name': 'dYdX', 'image': 'https://assets.coingecko.com/coins/images/17500/large/hjnIm9bV.jpg?1696517040', 'current_price': 2.72, 'market_cap': 850919131, 'market_cap_rank': 83, 'fully_diluted_valuation': 1454233858, 'total_volume': 62964560, 'high_24h': 2.83, 'low_24h': 2.7, 'price_change_24h': 0.02080346, 'price_change_percentage_24h': 0.77165, 'market_cap_change_24h': 5232688, 'market_cap_change_percentage_24h': 0.61875, 'circulating_supply': 313656630.8339807, 'total_supply': 536043997.31, 'max_supply': 536043997.31, 'ath': 27.86, 'ath_change_percentage': -90.27503, 'ath_date': '2021-09-30T01:23:43.570Z', 'atl': 1.011, 'atl_change_percentage': 168.09947, 'atl_date': '2022-06-18T20:55:50.603Z', 'roi': None, 'last_updated': '2024-01-28T15:16:46.528Z'}, {'id': 'apecoin', 'symbol': 'ape', 'name': 'ApeCoin', 'image': 'https://assets.coingecko.com/coins/images/24383/large/apecoin.jpg?1696523566', 'current_price': 1.41, 'market_cap': 850395360, 'market_cap_rank': 84, 'fully_diluted_valuation': 1405854221, 'total_volume': 39310061, 'high_24h': 1.45, 'low_24h': 1.4, 'price_change_24h': -0.024466185800981144, 'price_change_percentage_24h': -1.70988, 'market_cap_change_24h': -15363692.631663442, 'market_cap_change_percentage_24h': -1.77459, 'circulating_supply': 604895833.0, 'total_supply': 1000000000.0, 'max_supply': 1000000000.0, 'ath': 26.7, 'ath_change_percentage': -94.73592, 'ath_date': '2022-04-28T21:44:21.164Z', 'atl': 1.008, 'atl_change_percentage': 39.47585, 'atl_date': '2023-10-10T20:51:07.411Z', 'roi': None, 'last_updated': '2024-01-28T15:16:32.642Z'}, {'id': 'decentraland', 'symbol': 'mana', 'name': 'Decentraland', 'image': 'https://assets.coingecko.com/coins/images/878/large/decentraland-mana.png?1696502010', 'current_price': 0.449305, 'market_cap': 828767364, 'market_cap_rank': 85, 'fully_diluted_valuation': 984132708, 'total_volume': 40224450, 'high_24h': 0.463088, 'low_24h': 0.447725, 'price_change_24h': -0.001648136650961918, 'price_change_percentage_24h': -0.36548, 'market_cap_change_24h': -3911182.941690564, 'market_cap_change_percentage_24h': -0.46971, 'circulating_supply': 1846941409.5578756, 'total_supply': 2193179327.32015, 'max_supply': 2193179327.32015, 'ath': 5.85, 'ath_change_percentage': -92.34766, 'ath_date': '2021-11-25T10:04:18.534Z', 'atl': 0.00923681, 'atl_change_percentage': 4747.17976, 'atl_date': '2017-10-31T00:00:00.000Z', 'roi': {'times': 21.465256330992496, 'currency': 'usd', 'percentage': 2146.5256330992497}, 'last_updated': '2024-01-28T15:16:40.701Z'}, {'id': 'bitget-token', 'symbol': 'bgb', 'name': 'Bitget Token', 'image': 'https://assets.coingecko.com/coins/images/11610/large/icon_colour.png?1696511504', 'current_price': 0.590225, 'market_cap': 825917132, 'market_cap_rank': 86, 'fully_diluted_valuation': 1179880774, 'total_volume': 25662237, 'high_24h': 0.592703, 'low_24h': 0.581569, 'price_change_24h': -0.001914993183892988, 'price_change_percentage_24h': -0.3234, 'market_cap_change_24h': -4142779.841183305, 'market_cap_change_percentage_24h': -0.49909, 'circulating_supply': 1400001000.0, 'total_supply': 2000000000.0, 'max_supply': 2000000000.0, 'ath': 0.701227, 'ath_change_percentage': -15.90007, 'ath_date': '2023-12-19T07:13:51.026Z', 'atl': 0.0142795, 'atl_change_percentage': 4029.91812, 'atl_date': '2020-06-25T04:17:05.895Z', 'roi': None, 'last_updated': '2024-01-28T15:16:39.089Z'}, {'id': 'eos', 'symbol': 'eos', 'name': 'EOS', 'image': 'https://assets.coingecko.com/coins/images/738/large/eos-eos-logo.png?1696501893', 'current_price': 0.716823, 'market_cap': 813957640, 'market_cap_rank': 87, 'fully_diluted_valuation': None, 'total_volume': 97993158, 'high_24h': 0.733347, 'low_24h': 0.700771, 'price_change_24h': 0.01605207, 'price_change_percentage_24h': 2.29063, 'market_cap_change_24h': 16196344, 'market_cap_change_percentage_24h': 2.03022, 'circulating_supply': 1137058323.7648, 'total_supply': None, 'max_supply': None, 'ath': 22.71, 'ath_change_percentage': -96.85414, 'ath_date': '2018-04-29T07:50:33.540Z', 'atl': 0.5024, 'atl_change_percentage': 42.21037, 'atl_date': '2017-10-23T00:00:00.000Z', 'roi': {'times': -0.2759363903783618, 'currency': 'usd', 'percentage': -27.593639037836184}, 'last_updated': '2024-01-28T15:16:37.880Z'}, {'id': 'conflux-token', 'symbol': 'cfx', 'name': 'Conflux', 'image': 'https://assets.coingecko.com/coins/images/13079/large/3vuYMbjN.png?1696512867', 'current_price': 0.22308, 'market_cap': 809860164, 'market_cap_rank': 88, 'fully_diluted_valuation': 1211039675, 'total_volume': 68354959, 'high_24h': 0.233657, 'low_24h': 0.212143, 'price_change_24h': -0.010577162726367911, 'price_change_percentage_24h': -4.52679, 'market_cap_change_24h': -48755718.223073006, 'market_cap_change_percentage_24h': -5.67841, 'circulating_supply': 3652749815.07421, 'total_supply': 5462208352.35911, 'max_supply': None, 'ath': 1.7, 'ath_change_percentage': -87.05165, 'ath_date': '2021-03-27T03:43:35.178Z', 'atl': 0.02199898, 'atl_change_percentage': 901.09871, 'atl_date': '2022-12-30T08:16:30.345Z', 'roi': None, 'last_updated': '2024-01-28T15:16:35.509Z'}, {'id': 'blur', 'symbol': 'blur', 'name': 'Blur', 'image': 'https://assets.coingecko.com/coins/images/28453/large/blur.png?1696527448', 'current_price': 0.620366, 'market_cap': 786036252, 'market_cap_rank': 89, 'fully_diluted_valuation': 1859157706, 'total_volume': 68644662, 'high_24h': 0.658002, 'low_24h': 0.61792, 'price_change_24h': -0.015314500018732469, 'price_change_percentage_24h': -2.40915, 'market_cap_change_24h': -21689411.723722816, 'market_cap_change_percentage_24h': -2.68524, 'circulating_supply': 1268374785.00761, 'total_supply': 3000000000.0, 'max_supply': 3000000000.0, 'ath': 5.02, 'ath_change_percentage': -87.65051, 'ath_date': '2023-02-14T17:33:55.928Z', 'atl': 0.153143, 'atl_change_percentage': 304.5103, 'atl_date': '2023-10-12T17:10:39.401Z', 'roi': None, 'last_updated': '2024-01-28T15:16:28.585Z'}, {'id': 'kava', 'symbol': 'kava', 'name': 'Kava', 'image': 'https://assets.coingecko.com/coins/images/9761/large/kava.png?1696509822', 'current_price': 0.72578, 'market_cap': 784124809, 'market_cap_rank': 90, 'fully_diluted_valuation': 784124809, 'total_volume': 14684600, 'high_24h': 0.733237, 'low_24h': 0.707547, 'price_change_24h': 0.01823321, 'price_change_percentage_24h': 2.57696, 'market_cap_change_24h': 17492611, 'market_cap_change_percentage_24h': 2.28175, 'circulating_supply': 1082861778.0, 'total_supply': 1082861778.0, 'max_supply': None, 'ath': 9.12, 'ath_change_percentage': -92.07345, 'ath_date': '2021-08-30T11:10:02.948Z', 'atl': 0.287137, 'atl_change_percentage': 151.76848, 'atl_date': '2020-03-13T02:24:16.835Z', 'roi': None, 'last_updated': '2024-01-28T15:16:36.094Z'}, {'id': 'ronin', 'symbol': 'ron', 'name': 'Ronin', 'image': 'https://assets.coingecko.com/coins/images/20009/large/Ronin_Mark_Blue.png?1696519431', 'current_price': 2.71, 'market_cap': 776583832, 'market_cap_rank': 91, 'fully_diluted_valuation': 2698590753, 'total_volume': 27732853, 'high_24h': 2.75, 'low_24h': 2.49, 'price_change_24h': 0.213176, 'price_change_percentage_24h': 8.52653, 'market_cap_change_24h': 59029950, 'market_cap_change_percentage_24h': 8.22655, 'circulating_supply': 287773842.896926, 'total_supply': 1000000000.0, 'max_supply': 1000000000.0, 'ath': 4.29, 'ath_change_percentage': -37.06991, 'ath_date': '2022-01-27T13:14:36.500Z', 'atl': 0.196601, 'atl_change_percentage': 1274.58719, 'atl_date': '2022-11-21T19:36:31.487Z', 'roi': None, 'last_updated': '2024-01-28T15:16:38.087Z'}, {'id': 'iota', 'symbol': 'iota', 'name': 'IOTA', 'image': 'https://assets.coingecko.com/coins/images/692/large/IOTA_Swirl.png?1696501881', 'current_price': 0.249637, 'market_cap': 775977555, 'market_cap_rank': 92, 'fully_diluted_valuation': 1146023954, 'total_volume': 22843142, 'high_24h': 0.263342, 'low_24h': 0.243056, 'price_change_24h': 0.00658096, 'price_change_percentage_24h': 2.70759, 'market_cap_change_24h': 19664153, 'market_cap_change_percentage_24h': 2.6, 'circulating_supply': 3114679008.0, 'total_supply': 4600000000.0, 'max_supply': 4600000000.0, 'ath': 5.25, 'ath_change_percentage': -95.26264, 'ath_date': '2017-12-19T00:00:00.000Z', 'atl': 0.081637, 'atl_change_percentage': 204.58285, 'atl_date': '2020-03-13T02:22:41.168Z', 'roi': {'times': 3.397910666888702, 'currency': 'btc', 'percentage': 339.7910666888702}, 'last_updated': '2024-01-28T15:16:35.850Z'}, {'id': 'neo', 'symbol': 'neo', 'name': 'NEO', 'image': 'https://assets.coingecko.com/coins/images/480/large/NEO_512_512.png?1696501735', 'current_price': 10.89, 'market_cap': 766530830, 'market_cap_rank': 93, 'fully_diluted_valuation': 1086815298, 'total_volume': 18529683, 'high_24h': 11.15, 'low_24h': 10.83, 'price_change_24h': -0.09877021034580835, 'price_change_percentage_24h': -0.89859, 'market_cap_change_24h': -8720240.925723314, 'market_cap_change_percentage_24h': -1.12483, 'circulating_supply': 70530000.0, 'total_supply': 100000000.0, 'max_supply': None, 'ath': 198.38, 'ath_change_percentage': -94.5274, 'ath_date': '2018-01-15T00:00:00.000Z', 'atl': 0.078349, 'atl_change_percentage': 13756.6593, 'atl_date': '2016-10-21T00:00:00.000Z', 'roi': {'times': 301.5799212148706, 'currency': 'usd', 'percentage': 30157.992121487056}, 'last_updated': '2024-01-28T15:16:34.858Z'}, {'id': 'frax-share', 'symbol': 'fxs', 'name': 'Frax Share', 'image': 'https://assets.coingecko.com/coins/images/13423/large/Frax_Shares_icon.png?1696513183', 'current_price': 9.97, 'market_cap': 762009202, 'market_cap_rank': 94, 'fully_diluted_valuation': 992852355, 'total_volume': 30114649, 'high_24h': 10.48, 'low_24h': 9.94, 'price_change_24h': -0.302092003294554, 'price_change_percentage_24h': -2.93993, 'market_cap_change_24h': -26570517.864869237, 'market_cap_change_percentage_24h': -3.36941, 'circulating_supply': 76505047.8198411, 'total_supply': 99681495.5911336, 'max_supply': 99681495.5911336, 'ath': 42.8, 'ath_change_percentage': -76.78171, 'ath_date': '2022-01-12T15:22:27.465Z', 'atl': 1.5, 'atl_change_percentage': 561.09906, 'atl_date': '2021-06-25T16:50:51.447Z', 'roi': None, 'last_updated': '2024-01-28T15:16:43.475Z'}, {'id': 'gala', 'symbol': 'gala', 'name': 'GALA', 'image': 'https://assets.coingecko.com/coins/images/12493/large/GALA-COINGECKO.png?1696512310', 'current_price': 0.0229672, 'market_cap': 742355455, 'market_cap_rank': 95, 'fully_diluted_valuation': 742348526, 'total_volume': 48515597, 'high_24h': 0.02376006, 'low_24h': 0.02288615, 'price_change_24h': 6.05e-06, 'price_change_percentage_24h': 0.02634, 'market_cap_change_24h': -1408489.8518755436, 'market_cap_change_percentage_24h': -0.18937, 'circulating_supply': 32370961902.8119, 'total_supply': 32370659750.1245, 'max_supply': 50000000000.0, 'ath': 0.824837, 'ath_change_percentage': -97.22404, 'ath_date': '2021-11-26T01:03:48.731Z', 'atl': 0.00013475, 'atl_change_percentage': 16892.36216, 'atl_date': '2020-12-28T08:46:48.367Z', 'roi': None, 'last_updated': '2024-01-28T15:16:26.448Z'}, {'id': 'bonk', 'symbol': 'bonk', 'name': 'Bonk', 'image': 'https://assets.coingecko.com/coins/images/28600/large/bonk.jpg?1696527587', 'current_price': 1.208e-05, 'market_cap': 734408059, 'market_cap_rank': 96, 'fully_diluted_valuation': 1130979879, 'total_volume': 76550764, 'high_24h': 1.251e-05, 'low_24h': 1.162e-05, 'price_change_24h': 4.59538e-07, 'price_change_percentage_24h': 3.9532, 'market_cap_change_24h': 27358518, 'market_cap_change_percentage_24h': 3.86939, 'circulating_supply': 60837624528359.55, 'total_supply': 93689234980611.55, 'max_supply': 100000000000000.0, 'ath': 3.416e-05, 'ath_change_percentage': -64.69697, 'ath_date': '2023-12-15T07:35:13.369Z', 'atl': 8.6142e-08, 'atl_change_percentage': 13900.83396, 'atl_date': '2022-12-29T22:48:46.755Z', 'roi': None, 'last_updated': '2024-01-28T15:16:34.735Z'}, {'id': 'usdd', 'symbol': 'usdd', 'name': 'USDD', 'image': 'https://assets.coingecko.com/coins/images/25380/large/UUSD.jpg?1696524513', 'current_price': 0.994797, 'market_cap': 721486050, 'market_cap_rank': 97, 'fully_diluted_valuation': None, 'total_volume': 9848126, 'high_24h': 0.996673, 'low_24h': 0.988882, 'price_change_24h': -0.0002545759463779, 'price_change_percentage_24h': -0.02558, 'market_cap_change_24h': 12849.82, 'market_cap_change_percentage_24h': 0.00178, 'circulating_supply': 725332033.742248, 'total_supply': None, 'max_supply': None, 'ath': 1.052, 'ath_change_percentage': -5.31712, 'ath_date': '2023-10-23T22:45:25.398Z', 'atl': 0.928067, 'atl_change_percentage': 7.30827, 'atl_date': '2022-06-19T16:15:11.558Z', 'roi': None, 'last_updated': '2024-01-28T15:16:38.958Z'}, {'id': 'oasis-network', 'symbol': 'rose', 'name': 'Oasis Network', 'image': 'https://assets.coingecko.com/coins/images/13162/large/rose.png?1696512946', 'current_price': 0.107373, 'market_cap': 720932821, 'market_cap_rank': 98, 'fully_diluted_valuation': 1071255105, 'total_volume': 21552602, 'high_24h': 0.109747, 'low_24h': 0.10354, 'price_change_24h': 0.00325094, 'price_change_percentage_24h': 3.12223, 'market_cap_change_24h': 18944036, 'market_cap_change_percentage_24h': 2.69862, 'circulating_supply': 6729795897.58809, 'total_supply': 10000000000.0, 'max_supply': 10000000000.0, 'ath': 0.597347, 'ath_change_percentage': -82.13272, 'ath_date': '2022-01-15T03:31:11.062Z', 'atl': 0.03200566, 'atl_change_percentage': 233.47106, 'atl_date': '2020-11-26T17:09:12.182Z', 'roi': None, 'last_updated': '2024-01-28T15:16:37.012Z'}, {'id': 'klay-token', 'symbol': 'klay', 'name': 'Klaytn', 'image': 'https://assets.coingecko.com/coins/images/9672/large/klaytn.png?1696509742', 'current_price': 0.204334, 'market_cap': 710545531, 'market_cap_rank': 99, 'fully_diluted_valuation': 1200315858, 'total_volume': 9688619, 'high_24h': 0.210298, 'low_24h': 0.202637, 'price_change_24h': 0.00077865, 'price_change_percentage_24h': 0.38253, 'market_cap_change_24h': 47455, 'market_cap_change_percentage_24h': 0.00668, 'circulating_supply': 3485678200.18123, 'total_supply': 5888313472.56926, 'max_supply': None, 'ath': 4.34, 'ath_change_percentage': -95.31197, 'ath_date': '2021-03-30T03:44:28.828Z', 'atl': 0.06044, 'atl_change_percentage': 236.55029, 'atl_date': '2020-04-29T08:19:34.574Z', 'roi': None, 'last_updated': '2024-01-28T15:16:37.905Z'}, {'id': 'frax-ether', 'symbol': 'frxeth', 'name': 'Frax Ether', 'image': 'https://assets.coingecko.com/coins/images/28284/large/frxETH_icon.png?1696527284', 'current_price': 2266.98, 'market_cap': 702815595, 'market_cap_rank': 100, 'fully_diluted_valuation': 702815595, 'total_volume': 3867257, 'high_24h': 2299.74, 'low_24h': 2256.09, 'price_change_24h': 4.12, 'price_change_percentage_24h': 0.1822, 'market_cap_change_24h': 3680997, 'market_cap_change_percentage_24h': 0.52651, 'circulating_supply': 310041.566374601, 'total_supply': 310041.566374601, 'max_supply': None, 'ath': 2672.41, 'ath_change_percentage': -15.33409, 'ath_date': '2024-01-12T16:49:45.243Z', 'atl': 1137.25, 'atl_change_percentage': 98.95557, 'atl_date': '2022-11-23T02:25:33.267Z', 'roi': None, 'last_updated': '2024-01-28T15:16:45.888Z'}]\n"
          ]
        }
      ],
      "source": [
        "for i in range(len(cc_data)) :\n",
        "  if cc_data[i][\"name\"] == \"Bitcoin\":\n",
        "    print(cc_data)"
      ]
    },
    {
      "cell_type": "code",
      "source": [],
      "metadata": {
        "id": "-jbq4YqbsGl_"
      },
      "execution_count": null,
      "outputs": []
    }
  ],
  "metadata": {
    "colab": {
      "provenance": []
    },
    "gpuClass": "standard",
    "kernelspec": {
      "display_name": "Python 3",
      "name": "python3"
    },
    "language_info": {
      "name": "python"
    }
  },
  "nbformat": 4,
  "nbformat_minor": 0
}